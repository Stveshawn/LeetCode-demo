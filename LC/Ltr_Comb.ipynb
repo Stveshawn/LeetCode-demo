{
 "cells": [
  {
   "cell_type": "code",
   "execution_count": 6,
   "metadata": {},
   "outputs": [],
   "source": [
    "class Solution(object):\n",
    "    def letterCombinations(self, digits):\n",
    "        \"\"\"\n",
    "        :type digits: str\n",
    "        :rtype: List[str]\n",
    "        \"\"\"\n",
    "        \n",
    "        mapping = {\n",
    "            '2': 'abc',\n",
    "            '3': 'def',\n",
    "            '4': 'ghi',\n",
    "            '5': 'jkl',\n",
    "            '6': 'mno',\n",
    "            '7': 'pqrs',\n",
    "            '8': 'tuv',\n",
    "            '9': 'wxyz'\n",
    "        }\n",
    "        \n",
    "        \n",
    "        def back(comb, leftdigits):\n",
    "            \"\"\"util\"\"\"\n",
    "            if len(leftdigits) == 0:\n",
    "                return res.append(comb)\n",
    "            else:\n",
    "                for letter in mapping[leftdigits[0]]:\n",
    "                    back(comb + letter, leftdigits[1:])\n",
    "        \n",
    "        res = []\n",
    "        if digits:\n",
    "            back('', digits)\n",
    "        \n",
    "        return res"
   ]
  },
  {
   "cell_type": "code",
   "execution_count": null,
   "metadata": {},
   "outputs": [],
   "source": [
    "# iterating over list is faster than over string\n",
    "\n",
    "class Solution(object):\n",
    "    def letterCombinations(self, digits):\n",
    "        \"\"\"\n",
    "        :type digits: str\n",
    "        :rtype: List[str]\n",
    "        \"\"\"\n",
    "        \n",
    "        mapping = {\n",
    "            '2': ['a','b','c'],\n",
    "            '3': ['d','e','f'],\n",
    "            '4': ['g','h','i'],\n",
    "            '5': ['j','k','l'],\n",
    "            '6': ['m','n','o'],\n",
    "            '7': ['p','q','r','s'],\n",
    "            '8': ['t','u','v'],\n",
    "            '9': ['w','x','y','z']\n",
    "        }\n",
    "        \n",
    "        \n",
    "        def back(comb, leftdigits):\n",
    "            \"\"\"util\"\"\"\n",
    "            if len(leftdigits) == 0:\n",
    "                return res.append(comb)\n",
    "            else:\n",
    "                for letter in mapping[leftdigits[0]]:\n",
    "                    back(comb + letter, leftdigits[1:])\n",
    "        \n",
    "        res = []\n",
    "        if digits:\n",
    "            back('', digits)\n",
    "        \n",
    "        return res"
   ]
  },
  {
   "cell_type": "code",
   "execution_count": 5,
   "metadata": {},
   "outputs": [
    {
     "data": {
      "text/plain": [
       "['adg',\n",
       " 'adh',\n",
       " 'adi',\n",
       " 'aeg',\n",
       " 'aeh',\n",
       " 'aei',\n",
       " 'afg',\n",
       " 'afh',\n",
       " 'afi',\n",
       " 'bdg',\n",
       " 'bdh',\n",
       " 'bdi',\n",
       " 'beg',\n",
       " 'beh',\n",
       " 'bei',\n",
       " 'bfg',\n",
       " 'bfh',\n",
       " 'bfi',\n",
       " 'cdg',\n",
       " 'cdh',\n",
       " 'cdi',\n",
       " 'ceg',\n",
       " 'ceh',\n",
       " 'cei',\n",
       " 'cfg',\n",
       " 'cfh',\n",
       " 'cfi']"
      ]
     },
     "execution_count": 5,
     "metadata": {},
     "output_type": "execute_result"
    }
   ],
   "source": [
    "s = Solution()\n",
    "s.letterCombinations('234')"
   ]
  }
 ],
 "metadata": {
  "kernelspec": {
   "display_name": "Python 3",
   "language": "python",
   "name": "python3"
  },
  "language_info": {
   "codemirror_mode": {
    "name": "ipython",
    "version": 3
   },
   "file_extension": ".py",
   "mimetype": "text/x-python",
   "name": "python",
   "nbconvert_exporter": "python",
   "pygments_lexer": "ipython3",
   "version": "3.7.3"
  }
 },
 "nbformat": 4,
 "nbformat_minor": 2
}
