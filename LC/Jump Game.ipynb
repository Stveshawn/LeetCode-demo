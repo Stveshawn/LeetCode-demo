{
 "cells": [
  {
   "cell_type": "code",
   "execution_count": 24,
   "metadata": {},
   "outputs": [],
   "source": [
    "class Solution(object):\n",
    "    def canJump(self, nums):\n",
    "        \"\"\"\n",
    "        :type nums: List[int]\n",
    "        :rtype: bool\n",
    "        \"\"\"\n",
    "        \n",
    "        n = len(nums)\n",
    "        def jump(ind):\n",
    "            \"\"\"\n",
    "            \n",
    "            \"\"\"\n",
    "            if ind == n-1:\n",
    "                return True\n",
    "            if ind > n-1:\n",
    "                return False\n",
    "            return any([jump(ind + i+1) for i in range(nums[ind])])\n",
    "        return jump(0)"
   ]
  },
  {
   "cell_type": "code",
   "execution_count": 82,
   "metadata": {},
   "outputs": [],
   "source": [
    "nums = [2, 3, 1, 1, 4]\n",
    "nums = [3, 2, 1, 0, 4]\n",
    "nums = [2, 3, 3, 3, 5, 5, 6, 7, 1, 0, 1, 0]\n",
    "nums = [2, 0, 0, 3, 5, 5, 6, 7, 1, 0, 1, 0]"
   ]
  },
  {
   "cell_type": "code",
   "execution_count": 83,
   "metadata": {},
   "outputs": [],
   "source": [
    "s = Solution()\n",
    "s.canJump(nums)"
   ]
  },
  {
   "cell_type": "code",
   "execution_count": 70,
   "metadata": {},
   "outputs": [
    {
     "name": "stdout",
     "output_type": "stream",
     "text": [
      "29.1 µs ± 1.67 µs per loop (mean ± std. dev. of 7 runs, 10000 loops each)\n"
     ]
    }
   ],
   "source": [
    "%timeit s.canJump(nums)"
   ]
  },
  {
   "cell_type": "code",
   "execution_count": 84,
   "metadata": {},
   "outputs": [],
   "source": [
    "class Solution(object):\n",
    "    def canJump(self, nums):\n",
    "        \"\"\"\n",
    "        :type nums: List[int]\n",
    "        :rtype: bool\n",
    "        \"\"\"\n",
    "        \n",
    "        n = len(nums)\n",
    "        def jump(ind):\n",
    "            \"\"\"\n",
    "            \n",
    "            \"\"\"\n",
    "            if ind == n-1:\n",
    "                return True\n",
    "            if ind > n-1:\n",
    "                return False\n",
    "            for i in range(nums[ind]):\n",
    "                if jump(ind+i+1):\n",
    "                    return True\n",
    "        return jump(0)"
   ]
  },
  {
   "cell_type": "code",
   "execution_count": 88,
   "metadata": {},
   "outputs": [
    {
     "data": {
      "text/plain": [
       "False"
      ]
     },
     "execution_count": 88,
     "metadata": {},
     "output_type": "execute_result"
    }
   ],
   "source": [
    "s = Solution()\n",
    "s.canJump(nums)"
   ]
  },
  {
   "cell_type": "code",
   "execution_count": 89,
   "metadata": {},
   "outputs": [
    {
     "name": "stdout",
     "output_type": "stream",
     "text": [
      "1.1 µs ± 22.3 ns per loop (mean ± std. dev. of 7 runs, 1000000 loops each)\n"
     ]
    }
   ],
   "source": [
    "%timeit s.canJump(nums)"
   ]
  },
  {
   "cell_type": "markdown",
   "metadata": {},
   "source": [
    "+ Memo"
   ]
  },
  {
   "cell_type": "code",
   "execution_count": 90,
   "metadata": {},
   "outputs": [],
   "source": [
    "class Solution(object):\n",
    "    def canJump(self, nums):\n",
    "        \"\"\"\n",
    "        :type nums: List[int]\n",
    "        :rtype: bool\n",
    "        \"\"\"\n",
    "        \n",
    "        n = len(nums)\n",
    "        rec = {}\n",
    "        def jump(ind, rec):\n",
    "            \"\"\"\n",
    "            iteration function\n",
    "            \"\"\"\n",
    "            if ind in rec:\n",
    "                return rec[ind]\n",
    "            if ind == n-1:\n",
    "                rec[ind] = True\n",
    "                return rec[ind]\n",
    "            elif ind > n-1:\n",
    "                rec[ind] = False\n",
    "            else:\n",
    "                rec[ind] = any([jump(ind + i+1, rec) for i in range(nums[ind])])\n",
    "                return rec[ind]\n",
    "        return jump(0, rec)"
   ]
  },
  {
   "cell_type": "code",
   "execution_count": 67,
   "metadata": {},
   "outputs": [
    {
     "data": {
      "text/plain": [
       "True"
      ]
     },
     "execution_count": 67,
     "metadata": {},
     "output_type": "execute_result"
    }
   ],
   "source": [
    "s = Solution()\n",
    "nums = [2, 3, 1, 1, 4]\n",
    "# nums = [3, 2, 1, 0, 4]\n",
    "# nums = [0]\n",
    "s.canJump(nums)"
   ]
  },
  {
   "cell_type": "markdown",
   "metadata": {},
   "source": [
    "Once we have our code in the bottom-up state, we can make one final, important observation. From a given position, when we try to see if we can jump to a GOOD position, we only ever use one - the first one (see the break statement). In other words, the left-most one. If we keep track of this left-most GOOD position as a separate variable, we can avoid searching for it in the array. Not only that, but we can stop using the array altogether.\n",
    "\n",
    "Iterating right-to-left, for each position we check if there is a potential jump that reaches a GOOD index (currPosition + nums[currPosition] >= leftmostGoodIndex). If we can reach a GOOD index, then our position is itself GOOD. Also, this new GOOD position will be the new leftmost GOOD index. Iteration continues until the beginning of the array. If first position is a GOOD index then we can reach the last index from the first position.\n",
    "\n",
    "To illustrate this scenario, we will use the diagram below, for input array nums = [9, 4, 2, 1, 0, 2, 0]. We write G for GOOD, B for BAD and U for UNKNOWN. Let's assume we have iterated all the way to position 0 and we need to decide if index 0 is GOOD. Since index 1 was determined to be GOOD, it is enough to jump there and then be sure we can eventually reach index 6. It does not matter that nums[0] is big enough to jump all the way to the last index. All we need is one way.\n"
   ]
  },
  {
   "cell_type": "markdown",
   "metadata": {},
   "source": [
    "Given an array of non-negative integers, you are initially positioned at the first index of the array.\n",
    "\n",
    "Each element in the array represents your maximum jump length at that position.\n",
    "\n",
    "Determine if you are able to reach the last index.\n",
    "\n"
   ]
  },
  {
   "cell_type": "code",
   "execution_count": 87,
   "metadata": {},
   "outputs": [],
   "source": [
    "class Solution(object):\n",
    "    def canJump(self, nums):\n",
    "        \"\"\"\n",
    "        :type nums: List[int]\n",
    "        :rtype: bool\n",
    "        \"\"\"\n",
    "        \n",
    "        n = len(nums)\n",
    "        max_ = 0\n",
    "        for i in range(max_+1):\n",
    "            max_ = max(max_, i+nums[i])\n",
    "            if max_ >= n-1:\n",
    "                return True\n",
    "        return False"
   ]
  },
  {
   "cell_type": "code",
   "execution_count": 15,
   "metadata": {},
   "outputs": [],
   "source": [
    "class Solution(object):\n",
    "    def canJump(self, nums):\n",
    "        \"\"\"\n",
    "        :type nums: List[int]\n",
    "        :rtype: bool\n",
    "        \"\"\"\n",
    "\n",
    "        if not nums:\n",
    "            return False\n",
    "        i = 0\n",
    "        max_index = nums[i]\n",
    "        while i < len(nums) and i <= max_index:\n",
    "            new_index = nums[i]+i\n",
    "            max_index = max(max_index, new_index)\n",
    "            i += 1\n",
    "        if i == len(nums):\n",
    "            return True\n",
    "        else:\n",
    "            return False"
   ]
  },
  {
   "cell_type": "code",
   "execution_count": 6,
   "metadata": {},
   "outputs": [
    {
     "name": "stderr",
     "output_type": "stream",
     "text": [
      "UsageError: Cell magic `%%C` not found.\n"
     ]
    }
   ],
   "source": [
    "class Solution {\n",
    "    public boolean canJump(int[] nums) {\n",
    "        int len = nums.length;\n",
    "        int max = 0;\n",
    "        for(int i=0; i<=max; i++){\n",
    "            max = Math.max(max, i+nums[i]);\n",
    "            if(max >= len-1)  return true;\n",
    "        }\n",
    "        return false;\n",
    "    }\n",
    "}"
   ]
  }
 ],
 "metadata": {
  "kernelspec": {
   "display_name": "Python 3",
   "language": "python",
   "name": "python3"
  },
  "language_info": {
   "codemirror_mode": {
    "name": "ipython",
    "version": 3
   },
   "file_extension": ".py",
   "mimetype": "text/x-python",
   "name": "python",
   "nbconvert_exporter": "python",
   "pygments_lexer": "ipython3",
   "version": "3.7.3"
  }
 },
 "nbformat": 4,
 "nbformat_minor": 2
}
