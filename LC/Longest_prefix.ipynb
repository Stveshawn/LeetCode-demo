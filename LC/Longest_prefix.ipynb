{
 "cells": [
  {
   "cell_type": "code",
   "execution_count": 1,
   "metadata": {},
   "outputs": [],
   "source": [
    "class Solution(object):\n",
    "    def longestCommonPrefix(self, strs):\n",
    "        \"\"\"\n",
    "        :type strs: List[str]\n",
    "        :rtype: str\n",
    "        \"\"\"\n",
    "        if len(strs) == 0: return ''\n",
    "        ind = 1\n",
    "        iter_ = 0\n",
    "        ns = list(map(len, strs))\n",
    "        while ind and iter_ < min(ns):\n",
    "            s0 = strs[0][iter_]\n",
    "            for s_ in strs[1:]:\n",
    "                ind *= (s0 == s_[iter_])\n",
    "            iter_ += ind\n",
    "        return strs[0][:iter_]"
   ]
  },
  {
   "cell_type": "code",
   "execution_count": 3,
   "metadata": {},
   "outputs": [
    {
     "data": {
      "text/plain": [
       "'good'"
      ]
     },
     "execution_count": 3,
     "metadata": {},
     "output_type": "execute_result"
    }
   ],
   "source": [
    "ss = ['good', 'goodd', 'goods']\n",
    "s = Solution()\n",
    "s.longestCommonPrefix(ss)"
   ]
  },
  {
   "cell_type": "code",
   "execution_count": null,
   "metadata": {},
   "outputs": [],
   "source": [
    "class Solution(object):\n",
    "    def longestCommonPrefix(self, strs):\n",
    "        \"\"\"\n",
    "        :type strs: List[str]\n",
    "        :rtype: str\n",
    "        \"\"\"\n",
    "        if len(strs) == 0: return ''\n",
    "        ind = 1\n",
    "        iter_ = 0\n",
    "        ns = list(map(len, strs))\n",
    "        while ind and iter_ < min(ns):\n",
    "            s0 = strs[0][iter_]\n",
    "            for s_ in strs[1:]:\n",
    "                ind *= (s0 == s_[iter_])\n",
    "            iter_ += ind\n",
    "        return strs[0][:iter_]"
   ]
  },
  {
   "cell_type": "code",
   "execution_count": 5,
   "metadata": {},
   "outputs": [],
   "source": [
    "class Solution(object):\n",
    "    def longestCommonPrefix(self, strs):\n",
    "        \"\"\"\n",
    "        :type strs: List[str]\n",
    "        :rtype: str\n",
    "        \"\"\"\n",
    "        prefix=[]\n",
    "        num = len(strs)\n",
    "        for x in zip(*strs):\n",
    "            if len(set(x)) == 1:\n",
    "                prefix.append(x[0])\n",
    "            else:\n",
    "                break\n",
    "        return \"\".join(prefix)"
   ]
  },
  {
   "cell_type": "code",
   "execution_count": 16,
   "metadata": {},
   "outputs": [],
   "source": [
    "class Solution:\n",
    "    def longestCommonPrefix(self, strs):\n",
    "        \"\"\"\n",
    "        :type strs: List[str]\n",
    "        :rtype: str\n",
    "        \"\"\"\n",
    "        if len(strs) == 0:\n",
    "            return '' \n",
    "        res = ''\n",
    "        strs = sorted(strs) # sort alphabetically\n",
    "        for i in strs[0]:\n",
    "            if strs[-1].startswith(res+i):\n",
    "                res += i\n",
    "            else:\n",
    "                break\n",
    "        return res"
   ]
  },
  {
   "cell_type": "code",
   "execution_count": null,
   "metadata": {},
   "outputs": [],
   "source": []
  },
  {
   "cell_type": "code",
   "execution_count": null,
   "metadata": {},
   "outputs": [],
   "source": []
  },
  {
   "cell_type": "code",
   "execution_count": 25,
   "metadata": {},
   "outputs": [],
   "source": [
    "class Solution:\n",
    "    def longestCommonPrefix(self, strs):\n",
    "        \"\"\"\n",
    "        :type strs: List[str]\n",
    "        :rtype: str\n",
    "        \"\"\"\n",
    "        if len(strs) == 0: return \"\"\n",
    "        if len(strs) == 1: return strs[0]\n",
    "        \n",
    "        strs = sorted(strs)\n",
    "        p = \"\"\n",
    "        for x, y in zip(strs[0], strs[-1]):\n",
    "            if x == y: p+=x\n",
    "            else: break\n",
    "        return p"
   ]
  },
  {
   "cell_type": "code",
   "execution_count": 26,
   "metadata": {},
   "outputs": [
    {
     "data": {
      "text/plain": [
       "'ss'"
      ]
     },
     "execution_count": 26,
     "metadata": {},
     "output_type": "execute_result"
    }
   ],
   "source": [
    "ss = ['good', 'goodd', 'goods']\n",
    "s = Solution()\n",
    "s.longestCommonPrefix(['ssq','ss'])"
   ]
  }
 ],
 "metadata": {
  "kernelspec": {
   "display_name": "Python 3",
   "language": "python",
   "name": "python3"
  },
  "language_info": {
   "codemirror_mode": {
    "name": "ipython",
    "version": 3
   },
   "file_extension": ".py",
   "mimetype": "text/x-python",
   "name": "python",
   "nbconvert_exporter": "python",
   "pygments_lexer": "ipython3",
   "version": "3.7.3"
  }
 },
 "nbformat": 4,
 "nbformat_minor": 2
}
