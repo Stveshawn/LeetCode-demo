{
 "cells": [
  {
   "cell_type": "markdown",
   "metadata": {},
   "source": [
    "The string \"PAYPALISHIRING\" is written in a zigzag pattern on a given number of rows like this: (you may want to display this pattern in a fixed font for better legibility)\n",
    "\n",
    "P   A   H   N\n",
    "A P L S I I G\n",
    "Y   I   R\n",
    "And then read line by line: \"PAHNAPLSIIGYIR\"\n",
    "\n",
    "Write the code that will take a string and make this conversion given a number of rows:\n",
    "\n",
    "string convert(string s, int numRows);\n",
    "Example 1:\n",
    "\n",
    "Input: s = \"PAYPALISHIRING\", numRows = 3\n",
    "Output: \"PAHNAPLSIIGYIR\"\n",
    "Example 2:\n",
    "\n",
    "Input: s = \"PAYPALISHIRING\", numRows = 4\n",
    "Output: \"PINALSIGYAHRPI\"\n",
    "Explanation:\n",
    "\n",
    "P     I    N\n",
    "A   L S  I G\n",
    "Y A   H R\n",
    "P     I"
   ]
  },
  {
   "cell_type": "markdown",
   "metadata": {},
   "source": [
    "# My solution"
   ]
  },
  {
   "cell_type": "code",
   "execution_count": 140,
   "metadata": {},
   "outputs": [],
   "source": [
    "class Solution(object):\n",
    "    def convert(self, s, numRows):\n",
    "        \"\"\"\n",
    "        :type s: str\n",
    "        :type numRows: int\n",
    "        :rtype: str\n",
    "        \"\"\"\n",
    "        if numRows==1 :\n",
    "            return s\n",
    "\n",
    "        k = 2*numRows -2\n",
    "        \n",
    "        row_i = [] # row indicator for each element\n",
    "        for i in range(len(s)):\n",
    "            r = i % k # remainder by a round k\n",
    "            if r//numRows==0:\n",
    "                row_i.append(r%numRows) # those on the vertical direcition\n",
    "            else:\n",
    "                row_i.append(numRows-2-r%numRows)\n",
    "        \n",
    "        res = [''] * numRows\n",
    "        for i_, s_ in enumerate(s):\n",
    "            res[row_i[i_]] += s_\n",
    "            \n",
    "        return ''.join(res)"
   ]
  },
  {
   "cell_type": "markdown",
   "metadata": {},
   "source": [
    "# Use a direction indicator"
   ]
  },
  {
   "cell_type": "code",
   "execution_count": 150,
   "metadata": {},
   "outputs": [],
   "source": [
    "class Solution:\n",
    "    def convert(self, s, numRows):\n",
    "        if numRows==1:\n",
    "            return s\n",
    "        row = 0\n",
    "        d = 1 # direction\n",
    "        data=[ \"\" ]*numRows\n",
    "        for c in s:\n",
    "            data[row]= data[row] + c\n",
    "            if row==0:\n",
    "                d = 1\n",
    "            elif  row==numRows-1 :\n",
    "                d = -1\n",
    "            row = row + d\n",
    "        st = \"\"\n",
    "        for k in data:\n",
    "            st=st+k\n",
    "        return st"
   ]
  },
  {
   "cell_type": "code",
   "execution_count": 151,
   "metadata": {},
   "outputs": [
    {
     "data": {
      "text/plain": [
       "'acegbdfh'"
      ]
     },
     "execution_count": 151,
     "metadata": {},
     "output_type": "execute_result"
    }
   ],
   "source": [
    "s = Solution()\n",
    "s.convert('abcdefgh',2)"
   ]
  },
  {
   "cell_type": "code",
   "execution_count": null,
   "metadata": {},
   "outputs": [],
   "source": []
  },
  {
   "cell_type": "code",
   "execution_count": null,
   "metadata": {},
   "outputs": [],
   "source": []
  },
  {
   "cell_type": "code",
   "execution_count": 154,
   "metadata": {},
   "outputs": [],
   "source": [
    "class Solution:\n",
    "    def convert(self, s, numRows):\n",
    "        \"\"\"\n",
    "        sss\n",
    "        \"\"\"\n",
    "        \n",
    "        if numRows==1:\n",
    "            return s\n",
    "        row = 0\n",
    "        d = 1 # direction\n",
    "        data = ['']*numRows\n",
    "        for s_ in s:\n",
    "            data[row] = data[row] + s_\n",
    "            if row == 0:\n",
    "                d = 1\n",
    "            elif row == numRows-1:\n",
    "                d = -1\n",
    "            row = row + d\n",
    "        return data"
   ]
  },
  {
   "cell_type": "code",
   "execution_count": 155,
   "metadata": {},
   "outputs": [
    {
     "data": {
      "text/plain": [
       "['aceg', 'bdfh']"
      ]
     },
     "execution_count": 155,
     "metadata": {},
     "output_type": "execute_result"
    }
   ],
   "source": [
    "s = Solution()\n",
    "s.convert('abcdefgh',2)"
   ]
  }
 ],
 "metadata": {
  "kernelspec": {
   "display_name": "Python 3",
   "language": "python",
   "name": "python3"
  },
  "language_info": {
   "codemirror_mode": {
    "name": "ipython",
    "version": 3
   },
   "file_extension": ".py",
   "mimetype": "text/x-python",
   "name": "python",
   "nbconvert_exporter": "python",
   "pygments_lexer": "ipython3",
   "version": "3.7.3"
  }
 },
 "nbformat": 4,
 "nbformat_minor": 2
}
