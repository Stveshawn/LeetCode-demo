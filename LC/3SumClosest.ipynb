{
 "cells": [
  {
   "cell_type": "markdown",
   "metadata": {},
   "source": [
    "# Two pointer"
   ]
  },
  {
   "cell_type": "code",
   "execution_count": 103,
   "metadata": {},
   "outputs": [],
   "source": [
    "class Solution(object):\n",
    "    def threeSumClosest(self, nums, target):\n",
    "        \"\"\"\n",
    "        :type nums: List[int]\n",
    "        :type target: int\n",
    "        :rtype: int\n",
    "        \"\"\"\n",
    "        \n",
    "        res = 0\n",
    "        min_dist = 1e6\n",
    "        if len(nums) < 3: return res\n",
    "        nums = sorted(nums)\n",
    "        for i in range(len(nums)-2):\n",
    "            if i>0 and nums[i] == nums[i-1]:\n",
    "                continue\n",
    "\n",
    "            left = i+1\n",
    "            right = len(nums)-1\n",
    "            while left<right:\n",
    "                sum_ = nums[i] + nums[left] + nums[right]\n",
    "                dif = sum_ - target\n",
    "                if dif == 0: \n",
    "                    return sum_\n",
    "                if abs(dif) < min_dist:\n",
    "                    min_dist = abs(dif)\n",
    "                    res = sum_\n",
    "                if dif > 0:\n",
    "                    right -= 1\n",
    "                    while right > left+1 and nums[right] == nums[right-1]:\n",
    "                        right -= 1\n",
    "                else:\n",
    "                    left += 1\n",
    "                    while right > left+1 and nums[left] == nums[left+1]:\n",
    "                        left += 1\n",
    "        return res"
   ]
  },
  {
   "cell_type": "code",
   "execution_count": 104,
   "metadata": {},
   "outputs": [
    {
     "data": {
      "text/plain": [
       "2"
      ]
     },
     "execution_count": 104,
     "metadata": {},
     "output_type": "execute_result"
    }
   ],
   "source": [
    "nums = [-1, 2, 1, -4]\n",
    "s = Solution()\n",
    "s.threeSumClosest(nums, 2)"
   ]
  },
  {
   "cell_type": "code",
   "execution_count": 105,
   "metadata": {},
   "outputs": [
    {
     "data": {
      "text/plain": [
       "0"
      ]
     },
     "execution_count": 105,
     "metadata": {},
     "output_type": "execute_result"
    }
   ],
   "source": [
    "s.threeSumClosest([0,2,1,-3], 1)"
   ]
  }
 ],
 "metadata": {
  "kernelspec": {
   "display_name": "Python 3",
   "language": "python",
   "name": "python3"
  },
  "language_info": {
   "codemirror_mode": {
    "name": "ipython",
    "version": 3
   },
   "file_extension": ".py",
   "mimetype": "text/x-python",
   "name": "python",
   "nbconvert_exporter": "python",
   "pygments_lexer": "ipython3",
   "version": "3.7.3"
  }
 },
 "nbformat": 4,
 "nbformat_minor": 2
}
