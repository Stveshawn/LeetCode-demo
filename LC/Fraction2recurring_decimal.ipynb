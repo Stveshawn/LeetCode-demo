{
 "cells": [
  {
   "cell_type": "code",
   "execution_count": 6,
   "metadata": {},
   "outputs": [],
   "source": [
    "class Solution(object):\n",
    "    def fractionToDecimal(self, numerator, denominator):\n",
    "        \"\"\"\n",
    "        :type numerator: int\n",
    "        :type denominator: int\n",
    "        :rtype: str\n",
    "        \"\"\"\n",
    "        \n",
    "        if not numerator: return '0'\n",
    "        if not denominator: return 'invalid denominator'\n",
    "        sign = '' if numerator * denominator > 0 else '-'\n",
    "        \n",
    "        int_ = str(numerator // denominator)\n",
    "        numerator %= denominator\n",
    "        i = 0\n",
    "        dec_ = []\n",
    "        visited_map = {} # key: visited numerators; val: idx of visited numerators\n",
    "        while numerator:\n",
    "            if numerator in visited_map:\n",
    "                dec_.insert(visited_map[numerator], '(')\n",
    "                dec_.append(')')\n",
    "                break\n",
    "            else:\n",
    "                visited_map[numerator] = i\n",
    "                numerator *= 10\n",
    "                dec_.append(str(numerator//denominator))\n",
    "                numerator %= denominator\n",
    "                \n",
    "                i += 1\n",
    "                \n",
    "        return int_ +'.'+ ''.join(dec_)"
   ]
  },
  {
   "cell_type": "code",
   "execution_count": 10,
   "metadata": {},
   "outputs": [
    {
     "data": {
      "text/plain": [
       "'0.25'"
      ]
     },
     "execution_count": 10,
     "metadata": {},
     "output_type": "execute_result"
    }
   ],
   "source": [
    "s = Solution()\n",
    "s.fractionToDecimal(1, 4)"
   ]
  }
 ],
 "metadata": {
  "kernelspec": {
   "display_name": "Python 3",
   "language": "python",
   "name": "python3"
  },
  "language_info": {
   "codemirror_mode": {
    "name": "ipython",
    "version": 3
   },
   "file_extension": ".py",
   "mimetype": "text/x-python",
   "name": "python",
   "nbconvert_exporter": "python",
   "pygments_lexer": "ipython3",
   "version": "3.7.3"
  }
 },
 "nbformat": 4,
 "nbformat_minor": 2
}
