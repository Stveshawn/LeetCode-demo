{
 "cells": [
  {
   "cell_type": "markdown",
   "metadata": {},
   "source": [
    "Here are the questions I faced:\n",
    "\n",
    "Round 1:\n",
    "Given an array of n integers, return the result of all possible equations you can generate by adding the following operators in-between the numbers: +, -, *, /, () (for prioritization).\n",
    "\n",
    "Examples:\n",
    "\n",
    "    [4, 2]: Can generate 4 + 2 = 6, 4 - 2 = 2, 4 * 2 = 8, 4 / 2 = 2 -> Return [6,2,8,2]\n",
    "\n",
    "    [4, 2, 3]: Can generate: 4 + 2 + 3, 4 + 2 - 3, 4 + 2 * 3, 4 + 2 / 3\n",
    "                             4 - 2 + 3, 4 - 2 - 3, 4 - 2 * 3, 4 - 2 / 3\n",
    "                             Etc.\n",
    "                             But we can prioritize operations as well: 4 + (2 * 3) = 10 != (4 + 2) * 3 = 18\n",
    "Remarks:\n",
    "\n",
    "The equations must use all elements of the array,\n",
    "Do not permute the elements of the array, i.e. respect their order,\n",
    "The order of the results in the returned array does not matter. i.e. for [4, 2], [6,2,8,2], [6,2,2,8], [8,6,2,2] etc. will be accepted,\n",
    "If different equations lead to the same results, include all of them (i.e. no need to remove the duplicates),\n",
    "Divide by Zero errors should be handled.\n",
    "Hints:\n",
    "\n",
    "The output size will be combinatorial in the number of elements,\n",
    "Don't forget the cases where the parenthesis for prioritization are set in the middle of the array. E.g. for [4,2,1,3], one possible equation would be 4 / ((2 - 1) / 3) = 12."
   ]
  },
  {
   "cell_type": "code",
   "execution_count": null,
   "metadata": {},
   "outputs": [],
   "source": []
  }
 ],
 "metadata": {
  "kernelspec": {
   "display_name": "Python 3",
   "language": "python",
   "name": "python3"
  },
  "language_info": {
   "codemirror_mode": {
    "name": "ipython",
    "version": 3
   },
   "file_extension": ".py",
   "mimetype": "text/x-python",
   "name": "python",
   "nbconvert_exporter": "python",
   "pygments_lexer": "ipython3",
   "version": "3.7.3"
  }
 },
 "nbformat": 4,
 "nbformat_minor": 2
}
