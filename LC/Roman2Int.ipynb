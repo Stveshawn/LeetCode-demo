{
 "cells": [
  {
   "cell_type": "code",
   "execution_count": null,
   "metadata": {},
   "outputs": [],
   "source": [
    "# Roman2int\n",
    "\n",
    "class Solution(object):\n",
    "    def romanToInt(self, s):\n",
    "        \"\"\"\n",
    "        :type s: str\n",
    "        :rtype: int\n",
    "        \"\"\"\n",
    "        \n",
    "        sign = 1\n",
    "        res = 0\n",
    "        seq = {'M':1, 'D':2, 'C':3, 'L':4, 'X': 5, 'V': 6, 'I':7}\n",
    "        trans = {'M':1000, 'D':500, 'C':100, 'L':50, 'X': 10, 'V': 5, 'I':1}\n",
    "        for s_1, s_2 in zip(s, s[1:]+'I'):\n",
    "#             if seq[s_] > pri\n",
    "#             print(s_)\n",
    "            if seq[s_1] > seq[s_2]:\n",
    "                sign = -1\n",
    "            else:\n",
    "                sign = 1\n",
    "            res += sign * trans[s_1]\n",
    "        return res"
   ]
  }
 ],
 "metadata": {
  "kernelspec": {
   "display_name": "Python 3",
   "language": "python",
   "name": "python3"
  },
  "language_info": {
   "codemirror_mode": {
    "name": "ipython",
    "version": 3
   },
   "file_extension": ".py",
   "mimetype": "text/x-python",
   "name": "python",
   "nbconvert_exporter": "python",
   "pygments_lexer": "ipython3",
   "version": "3.7.3"
  }
 },
 "nbformat": 4,
 "nbformat_minor": 2
}
