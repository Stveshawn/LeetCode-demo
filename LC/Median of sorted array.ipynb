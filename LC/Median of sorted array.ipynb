{
 "cells": [
  {
   "cell_type": "code",
   "execution_count": 11,
   "metadata": {},
   "outputs": [],
   "source": [
    "def median(A, B):\n",
    "    m, n = len(A), len(B)\n",
    "    if m > n:\n",
    "        A, B, m, n = B, A, n, m\n",
    "    if n == 0:\n",
    "        raise ValueError\n",
    "\n",
    "    imin, imax, half_len = 0, m, (m + n + 1) / 2\n",
    "    while imin <= imax:\n",
    "        i = (imin + imax) / 2\n",
    "        j = half_len - i\n",
    "        if i < m and B[j-1] > A[i]:\n",
    "            # i is too small, must increase it\n",
    "            imin = i + 1\n",
    "        elif i > 0 and A[i-1] > B[j]:\n",
    "            # i is too big, must decrease it\n",
    "            imax = i - 1\n",
    "        else:\n",
    "            # i is perfect\n",
    "\n",
    "            if i == 0: max_of_left = B[j-1]\n",
    "            elif j == 0: max_of_left = A[i-1]\n",
    "            else: max_of_left = max(A[i-1], B[j-1])\n",
    "\n",
    "            if (m + n) % 2 == 1:\n",
    "                return max_of_left"
   ]
  },
  {
   "cell_type": "code",
   "execution_count": 35,
   "metadata": {
    "scrolled": true
   },
   "outputs": [],
   "source": [
    "A = [1, 2, 5, 7]\n",
    "B = [3, 9]"
   ]
  },
  {
   "cell_type": "markdown",
   "metadata": {},
   "source": [
    "1. $i+j=m−i+n−j (or: m - i + n - j + 1=i+j)$\n",
    "\n",
    "    if $n \\geq m$, we just need to set: $i = 0 \\sim m, j = \\frac{m + n + 1}{2} - i$\n",
    "2. $\\text{B}[j-1] \\leq \\text{A}[i]$ and $\\text{A}[i-1] \\leq \\text{B}[j]$"
   ]
  },
  {
   "cell_type": "markdown",
   "metadata": {},
   "source": [
    "Searching $i \\in [0,m]$, to find an object $i$ such that:\n",
    "\n",
    "$\\qquad \\text{B}[j-1] \\leq \\text{A}[i] \\text{ and } \\text{A}[i-1] \\leq \\text{B}[j],\\text{ where }j= \\frac{m + n + 1}{2}-i$"
   ]
  },
  {
   "cell_type": "code",
   "execution_count": 31,
   "metadata": {},
   "outputs": [
    {
     "data": {
      "text/plain": [
       "4"
      ]
     },
     "execution_count": 31,
     "metadata": {},
     "output_type": "execute_result"
    }
   ],
   "source": [
    "m = 5\n",
    "n = 2\n",
    "int((m+n+1)/2)"
   ]
  },
  {
   "cell_type": "code",
   "execution_count": 93,
   "metadata": {},
   "outputs": [],
   "source": [
    "class Solution(object):\n",
    "    def findMedianSortedArrays(self, nums1, nums2):\n",
    "        \"\"\"\n",
    "        :type nums1: List[int]\n",
    "        :type nums2: List[int]\n",
    "        :rtype: float\n",
    "        \"\"\"\n",
    "        \n",
    "        m, n = len(nums1), len(nums2)\n",
    "        if m > n:\n",
    "            m, n, nums1, nums2 = n, m, nums2, nums1\n",
    "        if n == 0:\n",
    "            raise ValueError\n",
    "        \n",
    "        l_, r_, half_ = 0, m, int((m+n+1)/2)\n",
    "        while l_ <= r_:\n",
    "            i = int((l_ + r_)/2)\n",
    "            j = half_ - i\n",
    "            if i < m and nums2[j-1] > nums1[i]:\n",
    "                # i too small\n",
    "                l_ = i + 1\n",
    "            elif i > 0 and nums1[i-1] > nums2[j]:\n",
    "                # i too big\n",
    "                r_ = i - 1\n",
    "            else:\n",
    "                # i is perfect, s.t. A[i-1]<=B[j], B[j-1]<=A[i]\n",
    "                if i == 0:\n",
    "                    l_max = nums2[j-1]\n",
    "                elif j == 0:\n",
    "                    l_max = nums1[i-1]\n",
    "                else: \n",
    "                    l_max = max(nums1[i-1], nums2[j-1])\n",
    "                \n",
    "                if (m+n)%2 == 1:\n",
    "                    return float(l_max)\n",
    "                    \n",
    "                if i == m:\n",
    "                    r_min = nums2[j]\n",
    "                elif j == n:\n",
    "                    r_min = nums1[i]\n",
    "                else:\n",
    "                    r_min = min(nums1[i], nums2[j])\n",
    "                return (l_max + r_min)/2"
   ]
  },
  {
   "cell_type": "code",
   "execution_count": 92,
   "metadata": {},
   "outputs": [
    {
     "data": {
      "text/plain": [
       "2.5"
      ]
     },
     "execution_count": 92,
     "metadata": {},
     "output_type": "execute_result"
    }
   ],
   "source": [
    "A = [1, 2]\n",
    "B = [3, 4]\n",
    "s = Solution()\n",
    "s.findMedianSortedArrays(A, B)"
   ]
  },
  {
   "cell_type": "code",
   "execution_count": 69,
   "metadata": {},
   "outputs": [
    {
     "data": {
      "text/plain": [
       "[1, 2, 3, 4]"
      ]
     },
     "execution_count": 69,
     "metadata": {},
     "output_type": "execute_result"
    }
   ],
   "source": [
    "xx =(A + B)\n",
    "xx.sort()\n",
    "xx"
   ]
  },
  {
   "cell_type": "code",
   "execution_count": 62,
   "metadata": {},
   "outputs": [],
   "source": [
    "class Solution:\n",
    "    def findMedianSortedArrays(self, nums1, nums2):\n",
    "        \"\"\"\n",
    "        :type nums1: List[int]\n",
    "        :type nums2: List[int]\n",
    "        :rtype: float\n",
    "        \"\"\"\n",
    "        newNums = nums1 + nums2\n",
    "\n",
    "        newNums.sort()\n",
    "\n",
    "        n = len(newNums)\n",
    "\n",
    "        if (n % 2) == 0:\n",
    "            l = newNums[n//2 - 1]\n",
    "            r = newNums[n//2]\n",
    "            return (l + r)/2\n",
    "        else:\n",
    "            return float(newNums[n//2])"
   ]
  },
  {
   "cell_type": "code",
   "execution_count": 67,
   "metadata": {},
   "outputs": [
    {
     "data": {
      "text/plain": [
       "2.5"
      ]
     },
     "execution_count": 67,
     "metadata": {},
     "output_type": "execute_result"
    }
   ],
   "source": [
    "A = [2, 3]\n",
    "B = [1, 4]\n",
    "s = Solution()\n",
    "s.findMedianSortedArrays(A, B)"
   ]
  }
 ],
 "metadata": {
  "kernelspec": {
   "display_name": "Python 3",
   "language": "python",
   "name": "python3"
  },
  "language_info": {
   "codemirror_mode": {
    "name": "ipython",
    "version": 3
   },
   "file_extension": ".py",
   "mimetype": "text/x-python",
   "name": "python",
   "nbconvert_exporter": "python",
   "pygments_lexer": "ipython3",
   "version": "3.7.3"
  }
 },
 "nbformat": 4,
 "nbformat_minor": 2
}
