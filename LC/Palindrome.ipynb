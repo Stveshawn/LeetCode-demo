{
 "cells": [
  {
   "cell_type": "markdown",
   "metadata": {},
   "source": [
    "Given a string s, find the longest palindromic substring in s. You may assume that the maximum length of s is 1000."
   ]
  },
  {
   "cell_type": "code",
   "execution_count": 7,
   "metadata": {},
   "outputs": [],
   "source": [
    "s = 'abcdedcb'"
   ]
  },
  {
   "cell_type": "code",
   "execution_count": 9,
   "metadata": {},
   "outputs": [],
   "source": [
    "def is_p(s):\n",
    "    return s == s[::-1]"
   ]
  },
  {
   "cell_type": "code",
   "execution_count": 16,
   "metadata": {},
   "outputs": [
    {
     "name": "stdout",
     "output_type": "stream",
     "text": [
      "True\n",
      "False\n",
      "False\n",
      "False\n",
      "False\n",
      "False\n",
      "False\n",
      "True\n",
      "False\n",
      "False\n",
      "False\n",
      "False\n",
      "False\n",
      "True\n",
      "False\n",
      "False\n",
      "False\n",
      "True\n",
      "True\n",
      "False\n",
      "True\n",
      "False\n",
      "True\n",
      "False\n",
      "False\n",
      "True\n",
      "False\n",
      "True\n"
     ]
    }
   ],
   "source": [
    "for start, _ in enumerate(s):\n",
    "    for end in range(start+1, len(s)):\n",
    "        print(is_p(s[start: end]))"
   ]
  },
  {
   "cell_type": "code",
   "execution_count": 11,
   "metadata": {},
   "outputs": [
    {
     "name": "stdout",
     "output_type": "stream",
     "text": [
      "0 a\n",
      "1 b\n",
      "2 c\n",
      "3 d\n",
      "4 e\n",
      "5 d\n",
      "6 c\n",
      "7 b\n"
     ]
    }
   ],
   "source": [
    "for i, s_ in enumerate(s):\n",
    "    print(i, s_)"
   ]
  },
  {
   "cell_type": "code",
   "execution_count": 10,
   "metadata": {},
   "outputs": [
    {
     "data": {
      "text/plain": [
       "False"
      ]
     },
     "execution_count": 10,
     "metadata": {},
     "output_type": "execute_result"
    }
   ],
   "source": [
    "is_p(s)"
   ]
  },
  {
   "cell_type": "code",
   "execution_count": 50,
   "metadata": {},
   "outputs": [
    {
     "data": {
      "text/plain": [
       "'abcba'"
      ]
     },
     "execution_count": 50,
     "metadata": {},
     "output_type": "execute_result"
    }
   ],
   "source": [
    "s[0:5]"
   ]
  },
  {
   "cell_type": "code",
   "execution_count": 63,
   "metadata": {},
   "outputs": [],
   "source": [
    "s = '1111111111111111111111111111111111111111111111111111111111111111111111111111111111111111111111111111111111111111111111111111111111111111111111111111111111111111111111111111111111111111111111111111111111111111111111111111111111111111111111111111111111111111111111111111111111111111111111111111111111111111111111111111111111111111111111111111111111111111111111111111111111111111111111111111111111111111111111111111111111111111111111111111111111111111111111111111111111111111111111111111111111111111111111111111111111111111111111111111111111111111111111111111111111111111111111111111111111111111111111111111111111111111111111111111111111111111111111111111111111111111111111111111111111111111111111111111111111111111111111111111111111111111111111111111111111111111111111111111111111111111111111111111111111111111111111111111111111111111111111111111111111111111111111111111111111111111111111111111111111111111111111111111111111111111111111111111111111111111111111111111111111111111111111111111111111111111'"
   ]
  },
  {
   "cell_type": "code",
   "execution_count": 88,
   "metadata": {},
   "outputs": [],
   "source": [
    "# Brute force\n",
    "class Solution(object):\n",
    "    def longestPalindrome(self, s):\n",
    "        \"\"\"\n",
    "        :type s: str\n",
    "        :rtype: str\n",
    "        \"\"\"\n",
    "        \n",
    "        maxl = 0\n",
    "        maxs = ''\n",
    "        for start in range(len(s)):\n",
    "            for end in range(start, len(s)):\n",
    "                s0 = s[start:end+1]\n",
    "                if s0 == s0[::-1]:\n",
    "                    if len(s0) >= maxl:\n",
    "                        maxl = len(s0)\n",
    "                        maxs = s0\n",
    "        return maxs"
   ]
  },
  {
   "cell_type": "code",
   "execution_count": 67,
   "metadata": {},
   "outputs": [
    {
     "data": {
      "text/plain": [
       "'1111111111111111111111111111111111111111111111111111111111111111111111111111111111111111111111111111111111111111111111111111111111111111111111111111111111111111111111111111111111111111111111111111111111111111111111111111111111111111111111111111111111111111111111111111111111111111111111111111111111111111111111111111111111111111111111111111111111111111111111111111111111111111111111111111111111111111111111111111111111111111111111111111111111111111111111111111111111111111111111111111111111111111111111111111111111111111111111111111111111111111111111111111111111111111111111111111111111111111111111111111111111111111111111111111111111111111111111111111111111111111111111111111111111111111111111111111111111111111111111111111111111111111111111111111111111111111111111111111111111111111111111111111111111111111111111111111111111111111111111111111111111111111111111111111111111111111111111111111111111111111111111111111111111111111111111111111111111111111111111111111111111111111111111111111111111111111'"
      ]
     },
     "execution_count": 67,
     "metadata": {},
     "output_type": "execute_result"
    }
   ],
   "source": [
    "xx = Solution()\n",
    "xx.longestPalindrome(s)"
   ]
  },
  {
   "cell_type": "code",
   "execution_count": 68,
   "metadata": {},
   "outputs": [],
   "source": [
    "class Solution:\n",
    "    # @param A, B: Two string.\n",
    "    # @return: the length of the longest common substring.\n",
    "    def longestCommonSubstring(self, A, B):\n",
    "        # write your code here\n",
    "        maxlength = len(A) + 1\n",
    "        for i in range(maxlength)[::-1]:\n",
    "            substrB = []\n",
    "            for j in range(len(B) + 1 - i):\n",
    "                substrB.append(B[j: j + i])\n",
    "            for str in substrB:\n",
    "                if A.find(str) != -1:\n",
    "                    return i\n",
    "        return 0"
   ]
  },
  {
   "cell_type": "code",
   "execution_count": 69,
   "metadata": {},
   "outputs": [],
   "source": [
    "ss = Solution()"
   ]
  },
  {
   "cell_type": "code",
   "execution_count": 74,
   "metadata": {},
   "outputs": [
    {
     "data": {
      "text/plain": [
       "4"
      ]
     },
     "execution_count": 74,
     "metadata": {},
     "output_type": "execute_result"
    }
   ],
   "source": [
    "ss.longestCommonSubstring('sss2p1', 'ss2p')"
   ]
  },
  {
   "cell_type": "markdown",
   "metadata": {},
   "source": [
    "# Expand around center"
   ]
  },
  {
   "cell_type": "code",
   "execution_count": 118,
   "metadata": {},
   "outputs": [],
   "source": [
    "class Solution(object):\n",
    "    def longestPalindrome(self, s):\n",
    "        \"\"\"\n",
    "        :type s: str\n",
    "        :rtype: str\n",
    "        \"\"\"\n",
    "        \n",
    "        self.maxl = 0\n",
    "        self.maxs = ''\n",
    "        def expand(l, r):\n",
    "            \"\"\"expand around center\"\"\"\n",
    "            while l>=0 and r<len(s) and s[l]==s[r]:\n",
    "                l -= 1\n",
    "                r += 1\n",
    "            if r-l+1 > self.maxl:\n",
    "                self.maxl = r-l+1\n",
    "                self.maxs = s[l+1:r] # l -= 1, so the correct left idx should +1\n",
    "        for i in range(len(s)):\n",
    "            expand(i, i)\n",
    "            expand(i, i+1)\n",
    "        return self.maxs"
   ]
  },
  {
   "cell_type": "code",
   "execution_count": 116,
   "metadata": {},
   "outputs": [],
   "source": [
    "s = 'babab'"
   ]
  },
  {
   "cell_type": "code",
   "execution_count": 117,
   "metadata": {},
   "outputs": [
    {
     "data": {
      "text/plain": [
       "'babab'"
      ]
     },
     "execution_count": 117,
     "metadata": {},
     "output_type": "execute_result"
    }
   ],
   "source": [
    "xx = Solution()\n",
    "xx.longestPalindrome(s)"
   ]
  },
  {
   "cell_type": "markdown",
   "metadata": {},
   "source": [
    "# Manacher"
   ]
  },
  {
   "cell_type": "code",
   "execution_count": null,
   "metadata": {},
   "outputs": [],
   "source": [
    "using namespace std;\n",
    "\n",
    "string Manacher(string s) {\n",
    "    // Insert '#'\n",
    "    string t = \"$#\";\n",
    "    for (int i = 0; i < s.size(); ++i) {\n",
    "        t += s[i];\n",
    "        t += \"#\";\n",
    "    }\n",
    "    // Process t\n",
    "    vector<int> p(t.size(), 0);\n",
    "    int mx = 0, id = 0, resLen = 0, resCenter = 0;\n",
    "    for (int i = 1; i < t.size(); ++i) {\n",
    "        p[i] = mx > i ? min(p[2 * id - i], mx - i) : 1;\n",
    "        while (t[i + p[i]] == t[i - p[i]]) ++p[i];\n",
    "        if (mx < i + p[i]) {\n",
    "            mx = i + p[i];\n",
    "            id = i;\n",
    "        }\n",
    "        if (resLen < p[i]) {\n",
    "            resLen = p[i];\n",
    "            resCenter = i;\n",
    "        }\n",
    "    }\n",
    "    return s.substr((resCenter - resLen) / 2, resLen - 1);\n",
    "}\n"
   ]
  },
  {
   "cell_type": "code",
   "execution_count": null,
   "metadata": {},
   "outputs": [],
   "source": []
  },
  {
   "cell_type": "code",
   "execution_count": 288,
   "metadata": {},
   "outputs": [],
   "source": [
    "class Solution(object):\n",
    "    def longestPalindrome(self, s):\n",
    "        \"\"\"\n",
    "        :type s: str\n",
    "        :rtype: str\n",
    "        \"\"\"\n",
    "        \n",
    "        t = '$#'\n",
    "        for _ in s:\n",
    "            t += _\n",
    "            t += '#'\n",
    "        p = [0] * len(t)\n",
    "        mx = 0;id_ = 0\n",
    "        resLen = 0;resCenter = 0\n",
    "        for i in range(1, len(t)):\n",
    "            if mx > i:\n",
    "                p[i] = min(p[2*id_-i], mx-i)\n",
    "            else:\n",
    "                p[i] = 1\n",
    "            while (i-p[i])>=0 and (i+p[i])<len(t) and (t[i+p[i]] == t[i-p[i]]):\n",
    "                p[i] += 1\n",
    "            if (mx <i+p[i]):\n",
    "                mx = i+p[i]\n",
    "                id_ = i\n",
    "            if (resLen < p[i]):\n",
    "                resLen = p[i]\n",
    "                resCenter = i\n",
    "        return s[int((resCenter-resLen)/2):(int((resCenter-resLen)/2)+resLen-1)]"
   ]
  },
  {
   "cell_type": "code",
   "execution_count": 217,
   "metadata": {},
   "outputs": [],
   "source": [
    "t = '$#b#a#b#a#b#'\n",
    "p = [0, 1, 2, 1, 4, 1, 6, 0, 0, 0, 0, 0]"
   ]
  },
  {
   "cell_type": "code",
   "execution_count": 286,
   "metadata": {},
   "outputs": [],
   "source": [
    "s = 'bbaacbca'"
   ]
  },
  {
   "cell_type": "code",
   "execution_count": 289,
   "metadata": {},
   "outputs": [
    {
     "data": {
      "text/plain": [
       "'acbca'"
      ]
     },
     "execution_count": 289,
     "metadata": {},
     "output_type": "execute_result"
    }
   ],
   "source": [
    "xx = Solution()\n",
    "xx.longestPalindrome(s)"
   ]
  }
 ],
 "metadata": {
  "kernelspec": {
   "display_name": "Python 3",
   "language": "python",
   "name": "python3"
  },
  "language_info": {
   "codemirror_mode": {
    "name": "ipython",
    "version": 3
   },
   "file_extension": ".py",
   "mimetype": "text/x-python",
   "name": "python",
   "nbconvert_exporter": "python",
   "pygments_lexer": "ipython3",
   "version": "3.7.3"
  }
 },
 "nbformat": 4,
 "nbformat_minor": 2
}
