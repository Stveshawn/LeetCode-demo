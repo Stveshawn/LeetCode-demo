{
 "cells": [
  {
   "cell_type": "markdown",
   "metadata": {},
   "source": [
    "# Fibonacci"
   ]
  },
  {
   "cell_type": "markdown",
   "metadata": {},
   "source": [
    "+ Recursion"
   ]
  },
  {
   "cell_type": "code",
   "execution_count": 46,
   "metadata": {},
   "outputs": [],
   "source": [
    "# Recursion\n",
    "\n",
    "def fibo1(n):\n",
    "    \"\"\"\n",
    "    fibo recursion\n",
    "    \"\"\"\n",
    "    \n",
    "    if n == 0:\n",
    "        return 0\n",
    "    if n == 1:\n",
    "        return 1\n",
    "    return fibo1(n-1) + fibo1(n-2)"
   ]
  },
  {
   "cell_type": "code",
   "execution_count": 48,
   "metadata": {
    "scrolled": true
   },
   "outputs": [
    {
     "name": "stdout",
     "output_type": "stream",
     "text": [
      "187 µs ± 7.57 µs per loop (mean ± std. dev. of 7 runs, 10000 loops each)\n"
     ]
    }
   ],
   "source": [
    "%timeit fibo1(15)"
   ]
  },
  {
   "cell_type": "code",
   "execution_count": 50,
   "metadata": {},
   "outputs": [
    {
     "data": {
      "text/plain": [
       "610"
      ]
     },
     "execution_count": 50,
     "metadata": {},
     "output_type": "execute_result"
    }
   ],
   "source": [
    "fibo1(15)"
   ]
  },
  {
   "cell_type": "markdown",
   "metadata": {},
   "source": [
    "+ Memorial"
   ]
  },
  {
   "cell_type": "code",
   "execution_count": 51,
   "metadata": {},
   "outputs": [],
   "source": [
    "def fibo2(n):\n",
    "    \"\"\"\n",
    "    fibo memorial\n",
    "    \"\"\"\n",
    "    \n",
    "    if n <= 1:\n",
    "        return n\n",
    "    \n",
    "    rec = {}\n",
    "\n",
    "\n",
    "    def fib(n, rec):\n",
    "        \"\"\"\n",
    "        \n",
    "        \"\"\"\n",
    "        if n in rec:\n",
    "            return rec[n]\n",
    "        if n<=1:\n",
    "            rec[n] = n\n",
    "        else:\n",
    "            rec[n] = fib(n-1, rec) + fib(n-2, rec)\n",
    "        return rec[n]\n",
    "    \n",
    "    return fib(n, rec)"
   ]
  },
  {
   "cell_type": "code",
   "execution_count": 52,
   "metadata": {},
   "outputs": [
    {
     "name": "stdout",
     "output_type": "stream",
     "text": [
      "4.48 µs ± 105 ns per loop (mean ± std. dev. of 7 runs, 100000 loops each)\n"
     ]
    }
   ],
   "source": [
    "%timeit fibo2(15)"
   ]
  },
  {
   "cell_type": "code",
   "execution_count": 53,
   "metadata": {},
   "outputs": [
    {
     "data": {
      "text/plain": [
       "610"
      ]
     },
     "execution_count": 53,
     "metadata": {},
     "output_type": "execute_result"
    }
   ],
   "source": [
    "fibo2(15)"
   ]
  },
  {
   "cell_type": "markdown",
   "metadata": {},
   "source": [
    "+ Dynamic Programming"
   ]
  },
  {
   "cell_type": "code",
   "execution_count": 49,
   "metadata": {},
   "outputs": [],
   "source": [
    "def fibo3(n):\n",
    "    \"\"\"\n",
    "    fibo dp\n",
    "    \"\"\"\n",
    "    \n",
    "    if n<= 1:\n",
    "        return n\n",
    "    \n",
    "    n0 = 0\n",
    "    n1 = 1\n",
    "    for i in range(n-1):\n",
    "        n0, n1 = n1, n0+n1\n",
    "    return n1"
   ]
  },
  {
   "cell_type": "code",
   "execution_count": 54,
   "metadata": {},
   "outputs": [
    {
     "name": "stdout",
     "output_type": "stream",
     "text": [
      "695 ns ± 29.9 ns per loop (mean ± std. dev. of 7 runs, 1000000 loops each)\n"
     ]
    }
   ],
   "source": [
    "%timeit fibo3(15)"
   ]
  },
  {
   "cell_type": "code",
   "execution_count": 55,
   "metadata": {},
   "outputs": [
    {
     "data": {
      "text/plain": [
       "610"
      ]
     },
     "execution_count": 55,
     "metadata": {},
     "output_type": "execute_result"
    }
   ],
   "source": [
    "fibo3(15)"
   ]
  },
  {
   "cell_type": "markdown",
   "metadata": {},
   "source": [
    "# Steel Severing"
   ]
  },
  {
   "cell_type": "code",
   "execution_count": null,
   "metadata": {},
   "outputs": [],
   "source": [
    "# given steel of n inches and a price chart"
   ]
  },
  {
   "cell_type": "markdown",
   "metadata": {},
   "source": [
    "+ recursion"
   ]
  },
  {
   "cell_type": "code",
   "execution_count": 39,
   "metadata": {},
   "outputs": [],
   "source": [
    "def Steel1(p, n):\n",
    "    \"\"\"\n",
    "    recursion\n",
    "    \"\"\"\n",
    "    \n",
    "    if n == 0:\n",
    "        return 0\n",
    "    q = -float('inf')\n",
    "    for i in range(n):\n",
    "        q = max(q, p[i]+Steel1(p, n-i-1))\n",
    "        print(i, n-i-1)\n",
    "        \n",
    "    return q"
   ]
  },
  {
   "cell_type": "code",
   "execution_count": 3,
   "metadata": {},
   "outputs": [],
   "source": [
    "p = [1, 5, 8, 9 ,10, 17, 17, 20, 24, 30]"
   ]
  },
  {
   "cell_type": "code",
   "execution_count": 35,
   "metadata": {},
   "outputs": [
    {
     "name": "stdout",
     "output_type": "stream",
     "text": [
      "64.5 µs ± 9.38 µs per loop (mean ± std. dev. of 7 runs, 10000 loops each)\n"
     ]
    }
   ],
   "source": [
    "%timeit Steel1(p, 7)"
   ]
  },
  {
   "cell_type": "markdown",
   "metadata": {},
   "source": [
    "+ memorial"
   ]
  },
  {
   "cell_type": "code",
   "execution_count": 6,
   "metadata": {},
   "outputs": [],
   "source": [
    "def Steel2(p, n):\n",
    "    \"\"\"\n",
    "    memo\n",
    "    \"\"\"\n",
    "    \n",
    "    if n == 0:\n",
    "        return 0\n",
    "    rec = {}\n",
    "    \n",
    "    def ss(p, n, rec):\n",
    "        \"\"\"\n",
    "        func\n",
    "        \"\"\"\n",
    "        \n",
    "        if n == 0:\n",
    "            return 0\n",
    "        if n in rec:\n",
    "            return rec[n]\n",
    "        else:\n",
    "            q = -float('inf')\n",
    "            for i in range(n):\n",
    "                q = max(q, p[i] + ss(p, n-i-1, rec))\n",
    "            rec[n] = q\n",
    "            return rec[n]\n",
    "    return ss(p, n, rec)"
   ]
  },
  {
   "cell_type": "code",
   "execution_count": 7,
   "metadata": {
    "scrolled": true
   },
   "outputs": [
    {
     "name": "stdout",
     "output_type": "stream",
     "text": [
      "16.7 µs ± 1.21 µs per loop (mean ± std. dev. of 7 runs, 100000 loops each)\n"
     ]
    }
   ],
   "source": [
    "%timeit Steel2(p, 7)"
   ]
  },
  {
   "cell_type": "markdown",
   "metadata": {},
   "source": [
    "+ DP"
   ]
  },
  {
   "cell_type": "code",
   "execution_count": 74,
   "metadata": {},
   "outputs": [
    {
     "data": {
      "text/plain": [
       "[0]"
      ]
     },
     "execution_count": 74,
     "metadata": {},
     "output_type": "execute_result"
    }
   ],
   "source": [
    "list(range(1))"
   ]
  },
  {
   "cell_type": "code",
   "execution_count": 96,
   "metadata": {},
   "outputs": [],
   "source": [
    "def Steel3(p, n):\n",
    "    \"\"\"\n",
    "    dp\n",
    "    \"\"\"\n",
    "    \n",
    "    if n == 0:\n",
    "        return 0\n",
    "    \n",
    "    r = [0] * (n+1)\n",
    "    for i in range(n):\n",
    "        q = -float('inf')\n",
    "        for j in range(i+1):\n",
    "            q = max(q, p[j] + r[i-j])\n",
    "#             print(i, j, r, q)\n",
    "        r[i+1] = q\n",
    "    return r[n]"
   ]
  },
  {
   "cell_type": "code",
   "execution_count": 101,
   "metadata": {},
   "outputs": [
    {
     "name": "stdout",
     "output_type": "stream",
     "text": [
      "11 µs ± 199 ns per loop (mean ± std. dev. of 7 runs, 100000 loops each)\n"
     ]
    }
   ],
   "source": [
    "%timeit Steel3(p, 7)"
   ]
  },
  {
   "cell_type": "markdown",
   "metadata": {},
   "source": [
    "硬币找零\n",
    "\n",
    "给定一组硬币数，找出一组最少的硬币数，来找换零钱N。\n",
    "\n",
    "比如，可用来找零的硬币为: 1、3、4   待找的钱数为 6。用两个面值为3的硬币找零，最少硬币数为2。而不是 4，1，1\n",
    "\n",
    "因此，总结下该问题的特征：①硬币可重复多次使用。②在某些情况下，该问题可用贪心算法求解。具体可参考：某种 找换硬币问题的贪心算法的正确性证明"
   ]
  },
  {
   "cell_type": "code",
   "execution_count": 1,
   "metadata": {},
   "outputs": [],
   "source": [
    "coins = [1, 2, 5]"
   ]
  },
  {
   "cell_type": "markdown",
   "metadata": {},
   "source": [
    "+ recursion"
   ]
  },
  {
   "cell_type": "markdown",
   "metadata": {},
   "source": [
    "Ch(n) = min(Ch(n-coin[i])) + 1"
   ]
  },
  {
   "cell_type": "code",
   "execution_count": 125,
   "metadata": {},
   "outputs": [],
   "source": [
    "def Ch(n, coins):\n",
    "    \n",
    "    if n in coins:\n",
    "        return 1\n",
    "    if n < min(coins):\n",
    "        return float('inf')\n",
    "    tmp = float('inf')\n",
    "    for c in coins:\n",
    "        print('pre', c, n-c, n)\n",
    "        tmp = min(tmp, Ch(n-c, coins))\n",
    "#         print('pos', c, n-c, n)\n",
    "    return tmp + 1"
   ]
  },
  {
   "cell_type": "code",
   "execution_count": 126,
   "metadata": {
    "scrolled": false
   },
   "outputs": [
    {
     "name": "stdout",
     "output_type": "stream",
     "text": [
      "pre 1 6 7\n",
      "pre 1 5 6\n",
      "pre 2 4 6\n",
      "pre 1 3 4\n",
      "pre 1 2 3\n",
      "pre 2 1 3\n",
      "pre 5 -2 3\n",
      "pre 2 2 4\n",
      "pre 5 -1 4\n",
      "pre 5 1 6\n",
      "pre 2 5 7\n",
      "pre 5 2 7\n"
     ]
    },
    {
     "data": {
      "text/plain": [
       "2"
      ]
     },
     "execution_count": 126,
     "metadata": {},
     "output_type": "execute_result"
    }
   ],
   "source": [
    "Ch(7, coins)"
   ]
  },
  {
   "cell_type": "code",
   "execution_count": 79,
   "metadata": {
    "scrolled": true
   },
   "outputs": [
    {
     "name": "stdout",
     "output_type": "stream",
     "text": [
      "5.11 µs ± 145 ns per loop (mean ± std. dev. of 7 runs, 100000 loops each)\n"
     ]
    }
   ],
   "source": [
    "%timeit Ch(7, coins)"
   ]
  },
  {
   "cell_type": "code",
   "execution_count": 80,
   "metadata": {},
   "outputs": [],
   "source": [
    "def Ch(n, coins):\n",
    "    \n",
    "    if n in coins:\n",
    "        return 1\n",
    "    if n < 1:\n",
    "        return float('inf')\n",
    "    tmp = float('inf')\n",
    "    for c in coins:\n",
    "        tmp = min(tmp, Ch(n-c, coins))\n",
    "#         print(c, n-c, n)\n",
    "    return tmp + 1"
   ]
  },
  {
   "cell_type": "code",
   "execution_count": 117,
   "metadata": {},
   "outputs": [
    {
     "name": "stdout",
     "output_type": "stream",
     "text": [
      "16.6 µs ± 18.6 ns per loop (mean ± std. dev. of 7 runs, 100000 loops each)\n"
     ]
    }
   ],
   "source": [
    "%timeit Ch(17, coins)"
   ]
  },
  {
   "cell_type": "markdown",
   "metadata": {},
   "source": [
    "+ Memo"
   ]
  },
  {
   "cell_type": "code",
   "execution_count": 139,
   "metadata": {},
   "outputs": [],
   "source": [
    "def Ch(n, coins):\n",
    "    \"\"\"\n",
    "    Memo - coins\n",
    "    \"\"\"\n",
    "    \n",
    "    rec = {}\n",
    "    def ch(n, coins, rec):\n",
    "        \"\"\"\n",
    "        recursion func\n",
    "        \"\"\"\n",
    "        if n in coins:\n",
    "            rec[n] = 1\n",
    "            return rec[n]\n",
    "        elif n < 1:\n",
    "            return float('inf')\n",
    "        elif n in rec:\n",
    "            return rec[n]\n",
    "        else:\n",
    "            tmp = float('inf')\n",
    "            for c in coins:\n",
    "                tmp = min(tmp, ch(n-c, coins, rec))\n",
    "            rec[n] = tmp + 1\n",
    "#             print(rec)\n",
    "            return rec[n]\n",
    "    return ch(n, coins, rec)"
   ]
  },
  {
   "cell_type": "code",
   "execution_count": 132,
   "metadata": {},
   "outputs": [
    {
     "name": "stdout",
     "output_type": "stream",
     "text": [
      "{5: 1, 2: 1, 1: 1, 3: 2}\n",
      "{5: 1, 2: 1, 1: 1, 3: 2, 4: 2}\n",
      "{5: 1, 2: 1, 1: 1, 3: 2, 4: 2, 6: 2}\n",
      "{5: 1, 2: 1, 1: 1, 3: 2, 4: 2, 6: 2, 7: 2}\n",
      "{5: 1, 2: 1, 1: 1, 3: 2, 4: 2, 6: 2, 7: 2, 8: 3}\n",
      "{5: 1, 2: 1, 1: 1, 3: 2, 4: 2, 6: 2, 7: 2, 8: 3, 9: 3}\n",
      "{5: 1, 2: 1, 1: 1, 3: 2, 4: 2, 6: 2, 7: 2, 8: 3, 9: 3, 10: 2}\n",
      "{5: 1, 2: 1, 1: 1, 3: 2, 4: 2, 6: 2, 7: 2, 8: 3, 9: 3, 10: 2, 11: 3}\n",
      "{5: 1, 2: 1, 1: 1, 3: 2, 4: 2, 6: 2, 7: 2, 8: 3, 9: 3, 10: 2, 11: 3, 12: 3}\n",
      "{5: 1, 2: 1, 1: 1, 3: 2, 4: 2, 6: 2, 7: 2, 8: 3, 9: 3, 10: 2, 11: 3, 12: 3, 13: 4}\n",
      "{5: 1, 2: 1, 1: 1, 3: 2, 4: 2, 6: 2, 7: 2, 8: 3, 9: 3, 10: 2, 11: 3, 12: 3, 13: 4, 14: 4}\n",
      "{5: 1, 2: 1, 1: 1, 3: 2, 4: 2, 6: 2, 7: 2, 8: 3, 9: 3, 10: 2, 11: 3, 12: 3, 13: 4, 14: 4, 15: 3}\n",
      "{5: 1, 2: 1, 1: 1, 3: 2, 4: 2, 6: 2, 7: 2, 8: 3, 9: 3, 10: 2, 11: 3, 12: 3, 13: 4, 14: 4, 15: 3, 16: 4}\n",
      "{5: 1, 2: 1, 1: 1, 3: 2, 4: 2, 6: 2, 7: 2, 8: 3, 9: 3, 10: 2, 11: 3, 12: 3, 13: 4, 14: 4, 15: 3, 16: 4, 17: 4}\n"
     ]
    },
    {
     "data": {
      "text/plain": [
       "4"
      ]
     },
     "execution_count": 132,
     "metadata": {},
     "output_type": "execute_result"
    }
   ],
   "source": [
    "Ch(17, coins)"
   ]
  },
  {
   "cell_type": "code",
   "execution_count": 130,
   "metadata": {},
   "outputs": [
    {
     "name": "stdout",
     "output_type": "stream",
     "text": [
      "17.4 µs ± 283 ns per loop (mean ± std. dev. of 7 runs, 100000 loops each)\n"
     ]
    }
   ],
   "source": [
    "%timeit Ch(17, coins)"
   ]
  },
  {
   "cell_type": "code",
   "execution_count": 115,
   "metadata": {},
   "outputs": [],
   "source": [
    "# Memo is no more efficient, for remembering is bearly helpful"
   ]
  },
  {
   "cell_type": "markdown",
   "metadata": {},
   "source": [
    "+ DP"
   ]
  },
  {
   "cell_type": "code",
   "execution_count": 190,
   "metadata": {},
   "outputs": [],
   "source": [
    "def Ch(n, coins):\n",
    "    \"\"\"\n",
    "    DP\n",
    "    \"\"\"\n",
    "    \n",
    "    if n in coins:\n",
    "        return 1\n",
    "    if n < 1:\n",
    "        return float('inf')\n",
    "    r = [0] * (n+1)\n",
    "    \n",
    "    for i in range(n):\n",
    "        tmp = float('inf')\n",
    "        for c in coins:\n",
    "            tmp = min(tmp, r[n-c]+1)\n",
    "    #         print(c, n-c, n)\n",
    "        r[i+1] = tmp + 1\n",
    "    return r"
   ]
  },
  {
   "cell_type": "code",
   "execution_count": 192,
   "metadata": {},
   "outputs": [
    {
     "data": {
      "text/plain": [
       "[0, 2, 2, 2, 2, 2, 2, 2, 2, 2, 4]"
      ]
     },
     "execution_count": 192,
     "metadata": {},
     "output_type": "execute_result"
    }
   ],
   "source": [
    "Ch(10, coins)"
   ]
  },
  {
   "cell_type": "code",
   "execution_count": null,
   "metadata": {},
   "outputs": [],
   "source": [
    "def Steel3(p, n):\n",
    "    \"\"\"\n",
    "    dp\n",
    "    \"\"\"\n",
    "    \n",
    "    if n == 0:\n",
    "        return 0\n",
    "    \n",
    "    r = [0] * (n+1)\n",
    "    for i in range(n):\n",
    "        q = -float('inf')\n",
    "        for j in range(i+1):\n",
    "            q = max(q, p[j] + r[i-j])\n",
    "#             print(i, j, r, q)\n",
    "        r[i+1] = q\n",
    "    return r[n]"
   ]
  },
  {
   "cell_type": "code",
   "execution_count": 212,
   "metadata": {},
   "outputs": [
    {
     "data": {
      "text/plain": [
       "([[0, 1, 2, 3, 4, 5, 6, 7, 8, 9, 10, 11, 12, 13, 14, 15, 16, 17, 18, 19, 20],\n",
       "  [0, 1, 1, 2, 2, 3, 3, 4, 4, 5, 5, 6, 6, 7, 7, 8, 8, 9, 9, 10, 10],\n",
       "  [0, 1, 1, 2, 2, 1, 2, 2, 3, 3, 2, 3, 3, 4, 4, 3, 4, 4, 5, 5, 4]],\n",
       " 4)"
      ]
     },
     "execution_count": 212,
     "metadata": {},
     "output_type": "execute_result"
    }
   ],
   "source": [
    "import sys\n",
    "max = sys.maxsize\n",
    "def giveChange(coinList,totalCoin):\n",
    "    result = [[0 for i in range(totalCoin + 1)] for j in range(len(coinList) + 1)]\n",
    "    for j in range(totalCoin+1):\n",
    "            result[0][j] = max\n",
    "    for i in range(1,len(coinList)+1):\n",
    "        for j in range(1,totalCoin + 1):\n",
    "            if j >= coinList[i-1]:\n",
    "                result[i][j] = min(result[i - 1][j], result[i][j - coinList[i - 1]]+1)\n",
    "            else:\n",
    "                result[i][j] = result[i-1][j]\n",
    "    return result[1:], result[i][j]\n",
    "giveChange([1,2,5],20)"
   ]
  },
  {
   "cell_type": "code",
   "execution_count": 263,
   "metadata": {},
   "outputs": [
    {
     "name": "stdout",
     "output_type": "stream",
     "text": [
      "20.4 µs ± 252 ns per loop (mean ± std. dev. of 7 runs, 10000 loops each)\n"
     ]
    }
   ],
   "source": [
    "%timeit giveChange([1,2,5],17)"
   ]
  },
  {
   "cell_type": "code",
   "execution_count": 276,
   "metadata": {},
   "outputs": [],
   "source": [
    "# !\n",
    "def coinChange(coins, amount):\n",
    "    \"\"\"\n",
    "    :type coins: List[int]\n",
    "    :type amount: int\n",
    "    :rtype: int\n",
    "    \"\"\"\n",
    "    coins.sort() #给硬币从小到大排序\n",
    "    dp = {0:0} #生成字典dp，并且当总金额为0时，最少硬币个数为0\n",
    "    for i in range(1,amount + 1):\n",
    "        dp[i] = amount + 1 #因为硬币个数不可能大于amount，所以赋值amount + 1便于比较\n",
    "        for j in coins:\n",
    "            if j <= i:\n",
    "                dp[i]=min(dp[i],dp[i-j]+1)\n",
    "    #for i in range(1,amount + 1):\n",
    "        #print('dp[%d]:'%(i), dp[i])\n",
    "    if dp[amount] == amount + 1: #当最小硬币个数为初始值时，代表不存在硬币组合能构成此金额\n",
    "        return -1\n",
    "    else:\n",
    "\n",
    "        return dp[amount]"
   ]
  },
  {
   "cell_type": "code",
   "execution_count": 275,
   "metadata": {},
   "outputs": [
    {
     "name": "stdout",
     "output_type": "stream",
     "text": [
      "13.4 µs ± 348 ns per loop (mean ± std. dev. of 7 runs, 100000 loops each)\n"
     ]
    }
   ],
   "source": [
    "%timeit coinChange(coin, 17)"
   ]
  }
 ],
 "metadata": {
  "kernelspec": {
   "display_name": "Python 3",
   "language": "python",
   "name": "python3"
  },
  "language_info": {
   "codemirror_mode": {
    "name": "ipython",
    "version": 3
   },
   "file_extension": ".py",
   "mimetype": "text/x-python",
   "name": "python",
   "nbconvert_exporter": "python",
   "pygments_lexer": "ipython3",
   "version": "3.7.3"
  }
 },
 "nbformat": 4,
 "nbformat_minor": 2
}
