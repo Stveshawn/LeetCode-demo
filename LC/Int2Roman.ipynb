{
 "cells": [
  {
   "cell_type": "markdown",
   "metadata": {},
   "source": [
    "Given an integer, convert it to a roman numeral. Input is guaranteed to be within the range from 1 to 3999."
   ]
  },
  {
   "cell_type": "code",
   "execution_count": 1,
   "metadata": {},
   "outputs": [],
   "source": [
    "class Solution(object):\n",
    "    def intToRoman(self, num):\n",
    "        \"\"\"\n",
    "        :type num: int\n",
    "        :rtype: str\n",
    "        \"\"\"\n",
    "        \n",
    "        res = ''\n",
    "        tmp = num\n",
    "        \n",
    "        if num // 1000:\n",
    "            res += tmp // 1000 * 'M'\n",
    "            tmp = tmp % 1000\n",
    "        if tmp // 500:\n",
    "            res += tmp // 500 * 'D'\n",
    "            tmp = tmp % 500\n",
    "        if tmp // 100:\n",
    "            res += tmp // 100 * 'C'\n",
    "            tmp = tmp % 100\n",
    "        \n",
    "        return res"
   ]
  },
  {
   "cell_type": "code",
   "execution_count": 38,
   "metadata": {},
   "outputs": [
    {
     "data": {
      "text/plain": [
       "'MMMCMXLIX'"
      ]
     },
     "execution_count": 38,
     "metadata": {},
     "output_type": "execute_result"
    }
   ],
   "source": [
    "s = Solution()\n",
    "s.intToRoman(3949)"
   ]
  },
  {
   "cell_type": "code",
   "execution_count": 30,
   "metadata": {},
   "outputs": [],
   "source": [
    "class Solution(object):\n",
    "    def intToRoman(self, num):\n",
    "        \"\"\"\n",
    "        :type num: int\n",
    "        :rtype: str\n",
    "        \"\"\"\n",
    "        \n",
    "        res = ''\n",
    "        tmp = num\n",
    "        \n",
    "        if num // 1000:\n",
    "            res += tmp // 1000 * 'M'\n",
    "            tmp = tmp % 1000\n",
    "        if tmp // 100 == 9:\n",
    "            res += 'CM'\n",
    "            tmp = tmp % 900\n",
    "        elif tmp // 100 >= 5:\n",
    "            res += 'D'\n",
    "            tmp = tmp % 500\n",
    "        elif tmp // 100 == 4:\n",
    "            res += 'CD'\n",
    "            tmp = tmp % 400\n",
    "        if tmp // 100:\n",
    "            res += tmp // 100 * 'C'\n",
    "            tmp = tmp % 100\n",
    "            \n",
    "        \n",
    "        if tmp // 10 == 9:\n",
    "            res += 'XC'\n",
    "            tmp = tmp % 90\n",
    "        elif tmp // 10 >= 5:\n",
    "            res += 'L'\n",
    "            tmp = tmp % 50\n",
    "        elif tmp // 10 == 4:\n",
    "            res += 'XL'\n",
    "            tmp = tmp % 40\n",
    "        if tmp // 10:\n",
    "            res += tmp // 10 * 'X'\n",
    "            tmp = tmp % 10\n",
    "            \n",
    "            \n",
    "        if tmp == 9:\n",
    "            res += 'IX'\n",
    "            tmp = tmp % 9\n",
    "        elif tmp >= 5:\n",
    "            res += 'V'\n",
    "            tmp = tmp % 5\n",
    "        elif tmp == 4:\n",
    "            res += 'IV'\n",
    "            tmp = tmp % 4\n",
    "        if tmp:\n",
    "            res += tmp  * 'I'\n",
    "            \n",
    "        return res"
   ]
  }
 ],
 "metadata": {
  "kernelspec": {
   "display_name": "Python 3",
   "language": "python",
   "name": "python3"
  },
  "language_info": {
   "codemirror_mode": {
    "name": "ipython",
    "version": 3
   },
   "file_extension": ".py",
   "mimetype": "text/x-python",
   "name": "python",
   "nbconvert_exporter": "python",
   "pygments_lexer": "ipython3",
   "version": "3.7.3"
  }
 },
 "nbformat": 4,
 "nbformat_minor": 2
}
