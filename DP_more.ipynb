{
 "cells": [
  {
   "cell_type": "markdown",
   "metadata": {},
   "source": [
    "https://blog.csdn.net/program_developer/article/details/85274825"
   ]
  },
  {
   "cell_type": "code",
   "execution_count": 4,
   "metadata": {},
   "outputs": [],
   "source": [
    "import numpy as np"
   ]
  },
  {
   "cell_type": "markdown",
   "metadata": {},
   "source": [
    "# LCS"
   ]
  },
  {
   "cell_type": "code",
   "execution_count": 134,
   "metadata": {},
   "outputs": [],
   "source": [
    "def DP(A, B):\n",
    "    nA, nB = len(A), len(B)\n",
    "    dp = np.zeros((nA, nB))\n",
    "    for i in range(nA):\n",
    "        if A[i] == B[0]:\n",
    "            dp[i:, 0] = 1\n",
    "            break\n",
    "    for i in range(nB):\n",
    "        if A[0] == B[i]:\n",
    "            dp[0, i:] = 1\n",
    "            break\n",
    "    for i in range(1, nA):\n",
    "        for j in range(1, nB):\n",
    "            if A[i] == B[j]:\n",
    "                dp[i, j] = max(dp[i-1, j-1]+1, dp[i-1, j], dp[i, j-1])\n",
    "#                 dp[i, j] = (dp[i-1, j-1]+1)\n",
    "            else:\n",
    "                dp[i, j] = max(dp[i-1, j], dp[i, j-1])\n",
    "    return dp"
   ]
  },
  {
   "cell_type": "code",
   "execution_count": 136,
   "metadata": {},
   "outputs": [],
   "source": [
    "def DP(A, B):\n",
    "    nA, nB = len(A), len(B)\n",
    "    dp = [[0 for i in range(nB)] for j in range(nA)]\n",
    "    for i in range(nA):\n",
    "        if A[i] == B[0]:\n",
    "            for j in range(i, nA):\n",
    "                dp[j][0] = 1\n",
    "            break\n",
    "    for i in range(nB):\n",
    "        if A[0] == B[i]:\n",
    "            for j in range(i, nB):\n",
    "                dp[0][j] = 1\n",
    "            break\n",
    "    for i in range(1, nA):\n",
    "        for j in range(1, nB):\n",
    "            if A[i] == B[j]:\n",
    "                dp[i][j] = max(dp[i-1][j-1]+1, dp[i-1][j], dp[i][j-1])\n",
    "#                 dp[i, j] = (dp[i-1, j-1]+1)\n",
    "            else:\n",
    "                dp[i][j] = max(dp[i-1][j], dp[i][j-1])\n",
    "    return dp"
   ]
  },
  {
   "cell_type": "code",
   "execution_count": 61,
   "metadata": {},
   "outputs": [
    {
     "data": {
      "text/plain": [
       "('1A2C3D4B56', 'B1D23CA45B6A')"
      ]
     },
     "execution_count": 61,
     "metadata": {},
     "output_type": "execute_result"
    }
   ],
   "source": [
    "A = '1A2C3D4B56'\n",
    "B = 'B1D23CA45B6A'\n",
    "A, B"
   ]
  },
  {
   "cell_type": "code",
   "execution_count": 137,
   "metadata": {},
   "outputs": [
    {
     "data": {
      "text/plain": [
       "[[0, 1, 1, 1, 1, 1, 1, 1, 1, 1, 1, 1],\n",
       " [0, 1, 1, 1, 1, 1, 2, 2, 2, 2, 2, 2],\n",
       " [0, 1, 1, 2, 2, 2, 2, 2, 2, 2, 2, 2],\n",
       " [0, 1, 1, 2, 2, 3, 3, 3, 3, 3, 3, 3],\n",
       " [0, 1, 1, 2, 3, 3, 3, 3, 3, 3, 3, 3],\n",
       " [0, 1, 2, 2, 3, 3, 3, 3, 3, 3, 3, 3],\n",
       " [0, 1, 2, 2, 3, 3, 3, 4, 4, 4, 4, 4],\n",
       " [1, 1, 2, 2, 3, 3, 3, 4, 4, 5, 5, 5],\n",
       " [1, 1, 2, 2, 3, 3, 3, 4, 5, 5, 5, 5],\n",
       " [1, 1, 2, 2, 3, 3, 3, 4, 5, 5, 6, 6]]"
      ]
     },
     "execution_count": 137,
     "metadata": {},
     "output_type": "execute_result"
    }
   ],
   "source": [
    "DP(A, B)"
   ]
  },
  {
   "cell_type": "markdown",
   "metadata": {},
   "source": [
    "# Climbing stairs"
   ]
  },
  {
   "cell_type": "code",
   "execution_count": 140,
   "metadata": {},
   "outputs": [],
   "source": [
    "# n stairs, how many ways of climbing\n",
    "def c_s(n):\n",
    "    \"\"\"\n",
    "    DP for climbing stairs, each step can be 1-stair or 2-stair\n",
    "    \"\"\"\n",
    "    f0 = 1\n",
    "    f1 = 1\n",
    "    for i in range(n):\n",
    "        f0, f1 = f1, f1+f0\n",
    "    return f0"
   ]
  },
  {
   "cell_type": "code",
   "execution_count": 155,
   "metadata": {},
   "outputs": [
    {
     "data": {
      "text/plain": [
       "55"
      ]
     },
     "execution_count": 155,
     "metadata": {},
     "output_type": "execute_result"
    }
   ],
   "source": [
    "c_s(9)"
   ]
  },
  {
   "cell_type": "markdown",
   "metadata": {},
   "source": [
    "# Queen"
   ]
  },
  {
   "cell_type": "code",
   "execution_count": 108,
   "metadata": {},
   "outputs": [],
   "source": [
    "# DFS\n",
    "def isValid(record, i, j):\n",
    "    \"\"\"\n",
    "    check if it's valid to place in pos (i,j)\n",
    "    \"\"\"\n",
    "    for k in range(i):\n",
    "        if (j == record[k]) or (abs(record[k]-j) == abs(i-k)):\n",
    "            return False\n",
    "    return True\n",
    "\n",
    "def process(i, record, n):\n",
    "    \"\"\"\n",
    "    \"\"\"\n",
    "    if i == n:\n",
    "        return 1\n",
    "    res = 0\n",
    "    for j in range(n):\n",
    "        if isValid(record, i, j):\n",
    "            record[i] = j\n",
    "            res += process(i+1, record, n)\n",
    "    return res\n",
    "\n",
    "def num1(n):\n",
    "    \"\"\"\n",
    "    \"\"\"\n",
    "    if n<1:\n",
    "        return 0\n",
    "    record = [None for _ in range(n)]\n",
    "    res = process(0, record, n)\n",
    "    del record\n",
    "    return res"
   ]
  },
  {
   "cell_type": "code",
   "execution_count": 109,
   "metadata": {
    "scrolled": false
   },
   "outputs": [
    {
     "data": {
      "text/plain": [
       "92"
      ]
     },
     "execution_count": 109,
     "metadata": {},
     "output_type": "execute_result"
    }
   ],
   "source": [
    "num1(8)"
   ]
  },
  {
   "cell_type": "markdown",
   "metadata": {},
   "source": [
    "# MSA"
   ]
  },
  {
   "cell_type": "code",
   "execution_count": 110,
   "metadata": {},
   "outputs": [],
   "source": [
    "# maximum subarray"
   ]
  },
  {
   "cell_type": "markdown",
   "metadata": {},
   "source": [
    "给定一个整数数组 nums ，找到一个具有最大和的连续子数组（子数组最少包含一个元素），返回其最大和。\n",
    "\n",
    "示例:\n",
    "\n",
    "输入: [-2,1,-3,4,-1,2,1,-5,4],\n",
    "输出: 6\n",
    "解释: 连续子数组 [4,-1,2,1] 的和最大，为 6。\n",
    "进阶:\n",
    "\n",
    "如果你已经实现复杂度为 O(n) 的解法，尝试使用更为精妙的分治法求解。"
   ]
  },
  {
   "cell_type": "code",
   "execution_count": 119,
   "metadata": {},
   "outputs": [],
   "source": [
    "def MSF(nums):\n",
    "    \"\"\"\n",
    "    dp[i]: the maximum sum of subarrays ending with the ith number\n",
    "    \"\"\"\n",
    "    n = len(nums)\n",
    "    if n == 0:\n",
    "        return None\n",
    "    elif n == 1:\n",
    "        return nums[0]\n",
    "    dp = [-float('inf')] * n\n",
    "    dp[0] = nums[0]\n",
    "    for i in range(1, n):\n",
    "        dp[i] = max(nums[i], dp[i-1]+nums[i])\n",
    "    return max(dp)"
   ]
  },
  {
   "cell_type": "code",
   "execution_count": 120,
   "metadata": {},
   "outputs": [
    {
     "data": {
      "text/plain": [
       "6"
      ]
     },
     "execution_count": 120,
     "metadata": {},
     "output_type": "execute_result"
    }
   ],
   "source": [
    "MSF([-2,1,-3,4,-1,2,1,-5,4])"
   ]
  },
  {
   "cell_type": "markdown",
   "metadata": {},
   "source": [
    "# LIS\n",
    "Longest Increasing Subsequence (300)\n",
    "\n",
    "Given an unsorted array of integers, find the length of longest increasing subsequence.\n",
    "\n",
    "For example,\n",
    "Given [10, 9, 2, 5, 3, 7, 101, 18],\n",
    "The longest increasing subsequence is [2, 3, 7, 101], therefore the length is 4. Note that there may be more than one LIS combination, it is only necessary for you to return the length.\n",
    "\n",
    "Your algorithm should run in O(n2) complexity.\n",
    "\n",
    "Follow up: Could you improve it to O(n log n) time complexity?\n",
    "\n",
    "Credits:\n",
    "Special thanks to @pbrother for adding this problem and creating all test cases."
   ]
  },
  {
   "cell_type": "code",
   "execution_count": 123,
   "metadata": {},
   "outputs": [],
   "source": [
    "def LIS(nums):\n",
    "    \"\"\"\n",
    "    longest incresing subarray\n",
    "    \"\"\"\n",
    "    n = len(nums)\n",
    "    if n == 0:\n",
    "        return None\n",
    "    elif n == 1:\n",
    "        return 1\n",
    "    dp = [1] * n\n",
    "    for i in range(1, n):\n",
    "        for j in range(i):\n",
    "            if nums[i] > nums[j]:\n",
    "                dp[i] = max(dp[i], dp[j]+1)\n",
    "    return max(dp)"
   ]
  },
  {
   "cell_type": "code",
   "execution_count": 124,
   "metadata": {},
   "outputs": [
    {
     "data": {
      "text/plain": [
       "4"
      ]
     },
     "execution_count": 124,
     "metadata": {},
     "output_type": "execute_result"
    }
   ],
   "source": [
    "LIS([10, 9, 2, 5, 3, 7, 101, 18])"
   ]
  },
  {
   "cell_type": "markdown",
   "metadata": {},
   "source": [
    "# MED\n",
    "\n",
    "Minimum Edit Distance(Levenshtein Distance 72)\n",
    "\n",
    "https://www.jianshu.com/p/a617d20162cf\n",
    "\n",
    "字符串最短编辑距离。输入两个字符串String a, String b\n",
    "dp[aLen + 1][bLen + 1]，dp[i][j]表示字符串a的i位置之前的子串和b的j位置之前的子串的最短编辑距离。\n",
    "边界初始条件dp[i][0] 是i，dp[0][j]是j，这是显而易见的，因为一个空串和一个长度为l的字符串的编辑距离，就是l。\n",
    "状态转移方程还是从末尾看起，根据末尾a[i]和b[j]是不是相等，转移情况分为：\n",
    "\n",
    "如果a[i] == b[j]（注意我们代码中的dp定义的下标都是比字符串的下标前进一个，上面那个题目也是这样的，这里只是为了说明方便一些，让字符串的下标从1开始了），那么这一位就是不需要编辑的。dp[i][j] = dp[i - 1][j - 1]；\n",
    "如果a[i] != b[j]，这个情况就比较复杂了，这涉及到我们怎么去操作。\n",
    "a.修改操作，如果把a[i]改成b[j]，或者b[j]改成a[i]，那么就操作数加一，两个同时往前缩，我们去关注前面的子串，这样dp[i][j] = dp[i - 1][j - 1] + 1\n",
    "b.删除操作，把a[i]直接删除掉，去看a的前面的子串有没有可能跟b相等，那么操作数加一，这时候关注的a的指针要前移一位，而对b则还是关注原来的位置，这样dp[i][j] = dp[i - 1][j] + 1，而同理可以去删除b[i]，对应的状态转移方程为dp[i][j] = dp[i][j - 1] + 1\n",
    "c.添加操作，在a[i]后面去追加个b[i]，这样相当于把a的关注的指针后移到了i+1处，那么接下来要往前缩了，a往前缩就是i，b往前缩就是i-1，所以dp[i][j] = dp[i][j - 1]，而同理，去给b加a[i]的话，结果就是dp[i][j] = dp[i - 1][j]\n",
    "然后上面的abc中总共下来其实就是3个状态转移方程，取其中的最小值即可。"
   ]
  },
  {
   "cell_type": "code",
   "execution_count": 143,
   "metadata": {},
   "outputs": [],
   "source": [
    "import numpy as np"
   ]
  },
  {
   "cell_type": "code",
   "execution_count": 161,
   "metadata": {},
   "outputs": [],
   "source": [
    "def ED(A, B):\n",
    "    \"\"\"\n",
    "    edit distance between string A and B\n",
    "    \"\"\"\n",
    "    na, nb = len(A), len(B)\n",
    "    dp = [[float('inf') for _ in range(nb+1)] for _ in range(na+1)]\n",
    "    for i in range(na+1):\n",
    "        dp[i][0] = i\n",
    "    for j in range(nb+1):\n",
    "        dp[0][j] = j\n",
    "    for i in range(1, na+1):\n",
    "        for j in range(1, nb+1):\n",
    "            dp[i][j] = min(dp[i-1][j-1] + (A[i-1] != B[j-1]), dp[i-1][j]+1, dp[i][j-1]+1)\n",
    "    return dp"
   ]
  },
  {
   "cell_type": "code",
   "execution_count": 156,
   "metadata": {},
   "outputs": [
    {
     "data": {
      "text/plain": [
       "array([[0, 1, 2, 3, 4, 5, 6],\n",
       "       [1, 0, 1, 2, 3, 4, 5],\n",
       "       [2, 1, 1, 2, 3, 4, 5],\n",
       "       [3, 2, 2, 1, 2, 3, 4],\n",
       "       [4, 3, 3, 2, 2, 2, 3]])"
      ]
     },
     "execution_count": 156,
     "metadata": {},
     "output_type": "execute_result"
    }
   ],
   "source": [
    "ED('cafe', 'coffee')"
   ]
  },
  {
   "cell_type": "code",
   "execution_count": 159,
   "metadata": {},
   "outputs": [
    {
     "name": "stdout",
     "output_type": "stream",
     "text": [
      "3\n"
     ]
    }
   ],
   "source": [
    "# recursion\n",
    "def Levenshtein_Distance_Recursive(str1, str2):\n",
    "\n",
    "    if len(str1) == 0:\n",
    "        return len(str2)\n",
    "    elif len(str2) == 0:\n",
    "        return len(str1)\n",
    "    elif str1 == str2:\n",
    "        return 0\n",
    "\n",
    "    if str1[len(str1)-1] == str2[len(str2)-1]:\n",
    "        d = 0\n",
    "    else:\n",
    "        d = 1\n",
    "    \n",
    "    return min(Levenshtein_Distance_Recursive(str1, str2[:-1]) + 1,\n",
    "                Levenshtein_Distance_Recursive(str1[:-1], str2) + 1,\n",
    "                Levenshtein_Distance_Recursive(str1[:-1], str2[:-1]) + d)\n",
    "\n",
    "print(Levenshtein_Distance_Recursive(\"cafe\", \"coffee\"))"
   ]
  },
  {
   "cell_type": "code",
   "execution_count": 162,
   "metadata": {},
   "outputs": [
    {
     "name": "stdout",
     "output_type": "stream",
     "text": [
      "19 µs ± 700 ns per loop (mean ± std. dev. of 7 runs, 100000 loops each)\n"
     ]
    }
   ],
   "source": [
    "%timeit ED('cafe', 'coffee')"
   ]
  },
  {
   "cell_type": "code",
   "execution_count": 160,
   "metadata": {},
   "outputs": [
    {
     "name": "stdout",
     "output_type": "stream",
     "text": [
      "458 µs ± 34.5 µs per loop (mean ± std. dev. of 7 runs, 1000 loops each)\n"
     ]
    }
   ],
   "source": [
    "%timeit (Levenshtein_Distance_Recursive(\"cafe\", \"coffee\"))"
   ]
  },
  {
   "cell_type": "markdown",
   "metadata": {},
   "source": [
    "# Longest Palindromic Substring\n",
    "\n",
    "输入字符串s\n",
    "\n",
    "dp[s.size()][s.size()],dp[i][j]表示s[i]到s[j]是否为回文串，dp[i][j]为1表示是，dp[i][j]为0表示不是。\n",
    "根据s[i]和s[j]是否相等，转移情况如下：\n",
    "\n",
    "s[i] == s[j]，这样的话如果s[i + 1] 到 s[j - 1]是回文串，那么i到j就是回文串，如果s[i + 1]到s[j - 1]不是回文串，那么i到j就不是回文串。dp[i][j] = dp[i + 1][j - 1]\n",
    "s[i] != s[j]，这样的话s[i]到s[j]一定不是回文串。dp[i][j] = 0\n",
    "\n",
    "边界初始条件显然是dp[i][i] = 1,自己到自己肯定是个回文，而dp[i][i + 1] = (S[i] == S[i + 1]) ? 1 : 0也是显然的。通过边界条件确定了长度为1和2的回文。这里会遇到一个问题我们枚举i和j的时候，如果按照常规的从小到大的顺序（外层写个i递增，里层嵌套一个j从i递增到尾部，去枚举所有的dp[i][j]），就有可能导致状态无法转移，也就是说dp[i][j]依赖的dp[i+1][j-1]可能还没有计算。这个具体实例参考算法笔记。我们这里要换个思路去枚举i,j，保证每次都能正常的状态转移，我们考虑按照子串的长度和子串的初始位置进行枚举，第一遍将长度为3的子串dp全部求出来，第二遍求4的......代码如下：\n",
    "我们先来求一下最长的长度"
   ]
  },
  {
   "cell_type": "code",
   "execution_count": 198,
   "metadata": {},
   "outputs": [],
   "source": [
    "def LPS(s):\n",
    "    \"\"\"\n",
    "    longest palindromic substring\n",
    "    \"\"\"\n",
    "    n = len(s)\n",
    "    dp = [[0 for _ in range(n)] for _ in range(n)]\n",
    "    for i in range(n):\n",
    "        dp[i][i] = 1\n",
    "        if (i+1<n) and (s[i]==s[i+1]):\n",
    "            dp[i][i+1] = 1\n",
    "    ans = 1\n",
    "    # the length of palindromes\n",
    "    for L in range(3, n+1):\n",
    "        # first position of the palindrome, head of length L palindrome\n",
    "        # n-(L-1) iterations, that is range(0, n-(L-1))\n",
    "        for i in range(n-(L-1)):\n",
    "            # last position of the palindrome being tested, tail of length L palindrome\n",
    "            j = i+L-1\n",
    "            if (s[i]==s[j]) and (dp[i+1][j-1] == 1):\n",
    "                dp[i][j] = 1\n",
    "                ans = L\n",
    "    return ans"
   ]
  },
  {
   "cell_type": "code",
   "execution_count": 207,
   "metadata": {},
   "outputs": [
    {
     "data": {
      "text/plain": [
       "9"
      ]
     },
     "execution_count": 207,
     "metadata": {},
     "output_type": "execute_result"
    }
   ],
   "source": [
    "LPS('123464321')"
   ]
  },
  {
   "cell_type": "markdown",
   "metadata": {},
   "source": [
    "# Triangle (120)\n",
    "\n",
    "Description：\n",
    "\n",
    "Given a triangle, find the minimum path sum from top to bottom. Each step you may move to adjacent numbers on the row below.\n",
    "\n",
    "For example, given the following triangle\n",
    "```\n",
    " [\n",
    "     [2],\n",
    "    [3,4],\n",
    "   [6,5,7],\n",
    "  [4,1,8,3]\n",
    "]\n",
    "```\n",
    "The minimum path sum from top to bottom is 11 (i.e., 2 + 3 + 5 + 1 = 11).\n",
    "\n",
    "Note:\n",
    "\n",
    "Bonus point if you are able to do this using only O(n) extra space, where n is the total number of rows in the triangle.\n",
    "\n",
    "dp[i][j] represents the opt when in position [i][j]"
   ]
  },
  {
   "cell_type": "code",
   "execution_count": 281,
   "metadata": {},
   "outputs": [],
   "source": [
    "tri =  [\n",
    "     [2],\n",
    "    [3,4],\n",
    "   [6,5,7],\n",
    "  [4,1,8,3]\n",
    "]"
   ]
  },
  {
   "cell_type": "code",
   "execution_count": 282,
   "metadata": {},
   "outputs": [],
   "source": [
    "def T(tri):\n",
    "    \"\"\"\n",
    "    top-down DP for triangle\n",
    "    \"\"\"\n",
    "    import copy\n",
    "    tri = copy.deepcopy(tri)\n",
    "    for i in range(1, len(tri)):\n",
    "        tri[i][0] += tri[i-1][0]\n",
    "        tri[i][-1] += tri[i-1][-1]\n",
    "        for j in range(1, len(tri[i])-1):\n",
    "            tri[i][j] += min(tri[i-1][j], tri[i-1][j-1])\n",
    "    return min(tri[-1])"
   ]
  },
  {
   "cell_type": "code",
   "execution_count": 287,
   "metadata": {},
   "outputs": [
    {
     "data": {
      "text/plain": [
       "11"
      ]
     },
     "execution_count": 287,
     "metadata": {},
     "output_type": "execute_result"
    }
   ],
   "source": [
    "T(tri)"
   ]
  },
  {
   "cell_type": "code",
   "execution_count": 229,
   "metadata": {},
   "outputs": [],
   "source": [
    "class Solution(object):\n",
    "    def minimumTotal(self, triangle):\n",
    "        triangle = triangle.deepcopy()\n",
    "        for i in range(1, len(triangle)):\n",
    "            triangle[i][0] += triangle[i-1][0]\n",
    "            triangle[i][len(triangle[i])-1] += triangle[i-1][len(triangle[i-1])-1]\n",
    "            for j in range(1,len(triangle[i])-1):\n",
    "                triangle[i][j] += min(triangle[i-1][j], triangle[i-1][j-1])\n",
    "        return min(triangle[-1])"
   ]
  },
  {
   "cell_type": "code",
   "execution_count": 254,
   "metadata": {},
   "outputs": [],
   "source": [
    "def T(tri):\n",
    "    \"\"\"\n",
    "    bottom-up DP for triangle\n",
    "    \"\"\"\n",
    "    n = len(tri)\n",
    "    dp = [[] for _ in range(n)]\n",
    "    for i in range(n-1, -1, -1):\n",
    "        for j in range(len(tri[i])):\n",
    "            if i == n-1:\n",
    "                dp[i].append(tri[i][j])\n",
    "            else:\n",
    "                dp[i].append(min(dp[i+1][j], dp[i+1][j+1]) + tri[i][j])\n",
    "    return dp"
   ]
  },
  {
   "cell_type": "code",
   "execution_count": 255,
   "metadata": {},
   "outputs": [
    {
     "data": {
      "text/plain": [
       "[[2], [3, 4], [6, 5, 7], [4, 1, 8, 3]]"
      ]
     },
     "execution_count": 255,
     "metadata": {},
     "output_type": "execute_result"
    }
   ],
   "source": [
    "tri"
   ]
  },
  {
   "cell_type": "code",
   "execution_count": 258,
   "metadata": {},
   "outputs": [
    {
     "data": {
      "text/plain": [
       "[[11], [9, 10], [7, 6, 10], [4, 1, 8, 3]]"
      ]
     },
     "execution_count": 258,
     "metadata": {},
     "output_type": "execute_result"
    }
   ],
   "source": [
    "T(tri)"
   ]
  },
  {
   "cell_type": "code",
   "execution_count": 257,
   "metadata": {},
   "outputs": [
    {
     "data": {
      "text/plain": [
       "11"
      ]
     },
     "execution_count": 257,
     "metadata": {},
     "output_type": "execute_result"
    }
   ],
   "source": [
    "T(tri)[0][0]"
   ]
  },
  {
   "cell_type": "markdown",
   "metadata": {},
   "source": [
    "64. Minimum Path Sum\n",
    "Description：\n",
    "\n",
    "Given a m x n grid filled with non-negative numbers, find a path from top left to bottom right which minimizes the sum of all numbers along its path.\n",
    "\n",
    "Note: You can only move either down or right at any point in time.\n",
    "\n",
    "Example:\n",
    "\n",
    " Input:\n",
    "```\n",
    "[\n",
    "  [1,3,1],\n",
    "  [1,5,1],\n",
    "  [4,2,1]\n",
    "]\n",
    "```\n",
    "Output: 7\n",
    "\n",
    "Explanation: Because the path 1→3→1→1→1 minimizes the sum."
   ]
  },
  {
   "cell_type": "code",
   "execution_count": 289,
   "metadata": {},
   "outputs": [],
   "source": [
    "mat = [\n",
    "  [1,3,1],\n",
    "  [1,5,1],\n",
    "  [4,2,1]\n",
    "]"
   ]
  },
  {
   "cell_type": "code",
   "execution_count": 308,
   "metadata": {},
   "outputs": [],
   "source": [
    "def MPS(mat):\n",
    "    \"\"\"\n",
    "    find the minimum path sum from top-left to bottom-right\n",
    "    \"\"\"\n",
    "    m, n = len(mat), len(mat[0])\n",
    "    dp = [[None for _ in range(n)] for _ in range(m)]\n",
    "    dp[0][0] = mat[0][0]\n",
    "    for i in range(1, m):\n",
    "        dp[i][0] = dp[i-1][0] + mat[i][0]\n",
    "    for j in range(1, n):\n",
    "        dp[0][j] = dp[0][j-1] + mat[0][j]\n",
    "    for i in range(1, m):\n",
    "        for j in range(1, n):\n",
    "            dp[i][j] = mat[i][j] + min(dp[i][j-1], dp[i-1][j])\n",
    "    return dp[-1][-1]"
   ]
  },
  {
   "cell_type": "code",
   "execution_count": 320,
   "metadata": {},
   "outputs": [],
   "source": [
    "m=5"
   ]
  },
  {
   "cell_type": "code",
   "execution_count": 322,
   "metadata": {},
   "outputs": [
    {
     "data": {
      "text/plain": [
       "[4, 3, 2, 1, 0]"
      ]
     },
     "execution_count": 322,
     "metadata": {},
     "output_type": "execute_result"
    }
   ],
   "source": [
    "list(range(m-1, 0-1, -1))"
   ]
  },
  {
   "cell_type": "code",
   "execution_count": 326,
   "metadata": {},
   "outputs": [
    {
     "data": {
      "text/plain": [
       "[3, 2, 1, 0]"
      ]
     },
     "execution_count": 326,
     "metadata": {},
     "output_type": "execute_result"
    }
   ],
   "source": [
    "list(reversed(range(0, m-1)))"
   ]
  },
  {
   "cell_type": "code",
   "execution_count": 336,
   "metadata": {},
   "outputs": [],
   "source": [
    "def MPS2(mat):\n",
    "    \"\"\"\n",
    "    find the minimum path sum from bottom-right to top-left \n",
    "    \"\"\"\n",
    "    m, n = len(mat), len(mat[0])\n",
    "    dp = [[None for _ in range(n)] for _ in range(m)]\n",
    "    dp[-1][-1] = mat[-1][-1]\n",
    "    for i in reversed(range(0, m-1)):\n",
    "        dp[i][-1] = dp[i+1][-1] + mat[i][-1]\n",
    "    for j in reversed(range(0, n-1)):\n",
    "        dp[-1][j] = dp[-1][j+1] + mat[-1][j]\n",
    "    for i in reversed(range(0, m-1)):\n",
    "        for j in reversed(range(0, n-1)):\n",
    "            dp[i][j] = mat[i][j] + min(dp[i+1][j], dp[i][j+1])\n",
    "    return dp[0][0]"
   ]
  },
  {
   "cell_type": "code",
   "execution_count": 340,
   "metadata": {},
   "outputs": [
    {
     "name": "stdout",
     "output_type": "stream",
     "text": [
      "4.34 µs ± 43 ns per loop (mean ± std. dev. of 7 runs, 100000 loops each)\n"
     ]
    }
   ],
   "source": [
    "%timeit MPS(mat)"
   ]
  },
  {
   "cell_type": "code",
   "execution_count": 341,
   "metadata": {},
   "outputs": [
    {
     "name": "stdout",
     "output_type": "stream",
     "text": [
      "5.02 µs ± 285 ns per loop (mean ± std. dev. of 7 runs, 100000 loops each)\n"
     ]
    }
   ],
   "source": [
    "%timeit MPS2(mat)"
   ]
  },
  {
   "cell_type": "code",
   "execution_count": 337,
   "metadata": {},
   "outputs": [
    {
     "data": {
      "text/plain": [
       "(7, 7)"
      ]
     },
     "execution_count": 337,
     "metadata": {},
     "output_type": "execute_result"
    }
   ],
   "source": [
    "MPS(mat), MPS2(mat)"
   ]
  },
  {
   "cell_type": "code",
   "execution_count": 339,
   "metadata": {},
   "outputs": [
    {
     "data": {
      "text/plain": [
       "(6, 6)"
      ]
     },
     "execution_count": 339,
     "metadata": {},
     "output_type": "execute_result"
    }
   ],
   "source": [
    "MPS([[1,2,5],[3,2,1]]), MPS2([[1,2,5],[3,2,1]])"
   ]
  },
  {
   "cell_type": "code",
   "execution_count": 342,
   "metadata": {},
   "outputs": [],
   "source": [
    "def MPS_recursion(mat):\n",
    "    \"\"\"\n",
    "    do recursive MPS from bottom-right to top-left\n",
    "    \"\"\"\n",
    "    m, n = len(mat), len(mat[0])\n",
    "    \n",
    "    def rec(mat, row, col):\n",
    "        \"\"\"\n",
    "        \"\"\"\n",
    "        \n",
    "        if row == m-1 and col == n-1:\n",
    "            return mat[row][col]\n",
    "        if row == m-1:\n",
    "            return mat[row][col] + rec(mat, row, col+1)\n",
    "        if col == n-1:\n",
    "            return mat[row][col] + rec(mat, row+1, col)\n",
    "        return mat[row][col] + min(rec(mat, row+1, col), rec(mat, row, col+1))\n",
    "    \n",
    "    return rec(mat, 0, 0)"
   ]
  },
  {
   "cell_type": "code",
   "execution_count": 345,
   "metadata": {},
   "outputs": [
    {
     "data": {
      "text/plain": [
       "7"
      ]
     },
     "execution_count": 345,
     "metadata": {},
     "output_type": "execute_result"
    }
   ],
   "source": [
    "MPS_recursion(mat)"
   ]
  },
  {
   "cell_type": "code",
   "execution_count": 344,
   "metadata": {},
   "outputs": [
    {
     "name": "stdout",
     "output_type": "stream",
     "text": [
      "4.76 µs ± 31.4 ns per loop (mean ± std. dev. of 7 runs, 100000 loops each)\n"
     ]
    }
   ],
   "source": [
    "%timeit MPS_recursion(mat)"
   ]
  },
  {
   "cell_type": "markdown",
   "metadata": {},
   "source": [
    "# 343. Integer Break\n",
    "\n",
    "Description：\n",
    "\n",
    "Given a positive integer n, break it into the sum of at least two positive integers and maximize the product of those integers. Return the maximum product you can get.\n",
    "\n",
    "Example 1:\n",
    "\n",
    " Input: 2\n",
    "\n",
    "Output: 1\n",
    "\n",
    "Explanation: 2 = 1 + 1, 1 × 1 = 1.\n",
    "\n",
    "Example 2:\n",
    "\n",
    "\n",
    "Input: 10\n",
    "\n",
    "Output: 36\n",
    "\n",
    "Explanation: 10 = 3 + 3 + 4, 3 × 3 × 4 = 36.\n",
    "\n",
    "Note: You may assume that n is not less than 2 and not larger than 58."
   ]
  },
  {
   "cell_type": "code",
   "execution_count": 379,
   "metadata": {},
   "outputs": [],
   "source": [
    "def IB_rec(n):\n",
    "    \"\"\"\n",
    "    interger break recursively\n",
    "    \"\"\"\n",
    "    \n",
    "    if n == 1 or n == 2:\n",
    "        return 1\n",
    "    res = -float('inf')\n",
    "    for i in range(1, n):\n",
    "#         print(res)\n",
    "        res = max(res, i*IB_rec(n-i), i*(n-i))\n",
    "    return res"
   ]
  },
  {
   "cell_type": "code",
   "execution_count": 384,
   "metadata": {},
   "outputs": [],
   "source": [
    "def IB_memo(n):\n",
    "    \"\"\"\n",
    "    interger break memo\n",
    "    \"\"\"\n",
    "    rec = {}\n",
    "    def ib(n, rec):\n",
    "        if n in rec:\n",
    "            return rec[n]\n",
    "        if n == 1 or n == 2:\n",
    "            rec[n] = 1\n",
    "            return rec[n]\n",
    "        res = -float('inf')\n",
    "        for i in range(1, n):\n",
    "    #         print(res)\n",
    "            res = max(res, i*ib(n-i, rec), i*(n-i))\n",
    "        rec[n] = res\n",
    "        return rec[n]\n",
    "    return ib(n, rec)"
   ]
  },
  {
   "cell_type": "code",
   "execution_count": 425,
   "metadata": {},
   "outputs": [],
   "source": [
    "def IB_dp(n):\n",
    "    \"\"\"\n",
    "    interger break dp\n",
    "    \"\"\"\n",
    "    if n == 1 or n == 2:\n",
    "        return 1\n",
    "    # dp[i] maximum prod of numbers with sum of (i+1)\n",
    "    dp = [0] * n\n",
    "    dp[0], dp[1] = 1, 1\n",
    "    for i in range(2, n):\n",
    "        tmp = -float('inf')\n",
    "        for j in range(1, i+1):\n",
    "            tmp = max(tmp, j*(i+1-j), j*dp[i-j])\n",
    "        dp[i] = tmp\n",
    "    return dp[-1]"
   ]
  },
  {
   "cell_type": "code",
   "execution_count": 413,
   "metadata": {},
   "outputs": [
    {
     "data": {
      "text/plain": [
       "(1458, 1458, 1458)"
      ]
     },
     "execution_count": 413,
     "metadata": {},
     "output_type": "execute_result"
    }
   ],
   "source": [
    "IB_rec(20), IB_memo(20), IB_dp(20)"
   ]
  },
  {
   "cell_type": "code",
   "execution_count": 386,
   "metadata": {},
   "outputs": [
    {
     "name": "stdout",
     "output_type": "stream",
     "text": [
      "170 ms ± 12.2 ms per loop (mean ± std. dev. of 7 runs, 10 loops each)\n"
     ]
    }
   ],
   "source": [
    "%timeit IB_rec(20)"
   ]
  },
  {
   "cell_type": "code",
   "execution_count": 387,
   "metadata": {},
   "outputs": [
    {
     "name": "stdout",
     "output_type": "stream",
     "text": [
      "79.8 µs ± 5.58 µs per loop (mean ± std. dev. of 7 runs, 10000 loops each)\n"
     ]
    }
   ],
   "source": [
    "%timeit IB_memo(20)"
   ]
  },
  {
   "cell_type": "code",
   "execution_count": 414,
   "metadata": {},
   "outputs": [
    {
     "name": "stdout",
     "output_type": "stream",
     "text": [
      "49.8 µs ± 230 ns per loop (mean ± std. dev. of 7 runs, 10000 loops each)\n"
     ]
    }
   ],
   "source": [
    "%timeit IB_dp(20)"
   ]
  },
  {
   "cell_type": "code",
   "execution_count": 404,
   "metadata": {},
   "outputs": [],
   "source": [
    "import time\n",
    "import matplotlib.pyplot as plt"
   ]
  },
  {
   "cell_type": "code",
   "execution_count": 444,
   "metadata": {},
   "outputs": [],
   "source": [
    "t_rec = []\n",
    "for n in range(1, 20):\n",
    "    t0 = time.time_ns()\n",
    "    IB_rec(n)\n",
    "    t_elapsed = time.time_ns() - t0\n",
    "    t_rec.append(t_elapsed)"
   ]
  },
  {
   "cell_type": "code",
   "execution_count": 445,
   "metadata": {},
   "outputs": [],
   "source": [
    "t_memo = []\n",
    "for n in range(1, 20):\n",
    "    t0 = time.time_ns()\n",
    "    IB_memo(n)\n",
    "    t_elapsed = time.time_ns() - t0\n",
    "    t_memo.append(t_elapsed)"
   ]
  },
  {
   "cell_type": "code",
   "execution_count": 446,
   "metadata": {},
   "outputs": [],
   "source": [
    "t_dp = []\n",
    "for n in range(1, 20):\n",
    "    t0 = time.time_ns()\n",
    "    IB_dp(n)\n",
    "    t_elapsed = time.time_ns() - t0\n",
    "    t_dp.append(t_elapsed)"
   ]
  },
  {
   "cell_type": "code",
   "execution_count": 449,
   "metadata": {},
   "outputs": [
    {
     "data": {
      "text/plain": [
       "[<matplotlib.lines.Line2D at 0x7f91491b6438>]"
      ]
     },
     "execution_count": 449,
     "metadata": {},
     "output_type": "execute_result"
    },
    {
     "data": {
      "image/png": "[encoded data removed]",
      "text/plain": [
       "<Figure size 432x288 with 1 Axes>"
      ]
     },
     "metadata": {
      "needs_background": "light"
     },
     "output_type": "display_data"
    }
   ],
   "source": [
    "plt.plot(np.log(t_rec))\n",
    "plt.plot(np.log(t_memo))\n",
    "plt.plot(np.log(t_dp))"
   ]
  },
  {
   "cell_type": "markdown",
   "metadata": {},
   "source": [
    "# Max non-neighboring sum\n",
    "\n",
    "Given a list of numbers, find the maximum of sums of non-neighboring members.\n",
    "\n",
    "```\n",
    "[1, 2, 5, 4, 3, 7, 2, 1]\n",
    "```"
   ]
  },
  {
   "cell_type": "code",
   "execution_count": 450,
   "metadata": {},
   "outputs": [],
   "source": [
    "arr = [1, 2, 5, 4, 3, 7, 2, 1]"
   ]
  },
  {
   "cell_type": "code",
   "execution_count": 456,
   "metadata": {},
   "outputs": [],
   "source": [
    "def MNS(arr):\n",
    "    \"\"\"\n",
    "    \"\"\"\n",
    "    dp = [None] * len(arr)\n",
    "    dp[0] = arr[0]\n",
    "    dp[1] = max(arr[0], arr[1])\n",
    "    for i in range(2, len(arr)):\n",
    "        dp[i] = max(dp[i-1], dp[i-2]+arr[i])\n",
    "    return dp"
   ]
  },
  {
   "cell_type": "code",
   "execution_count": 457,
   "metadata": {},
   "outputs": [
    {
     "data": {
      "text/plain": [
       "[1, 2, 6, 6, 9, 13, 13, 14]"
      ]
     },
     "execution_count": 457,
     "metadata": {},
     "output_type": "execute_result"
    }
   ],
   "source": [
    "MNS(arr)"
   ]
  },
  {
   "cell_type": "markdown",
   "metadata": {},
   "source": [
    "# 279. Perfect Squares\n",
    "\n",
    "Description：\n",
    "\n",
    "Given a positive integer n, find the least number of perfect square numbers (for example, 1, 4, 9, 16, ...) which sum to n.\n",
    "\n",
    "Example 1:\n",
    "\n",
    "Input: n = 12\n",
    "\n",
    "Output: 3 \n",
    "\n",
    "Explanation: 12 = 4 + 4 + 4.\n",
    "\n",
    "Example 2:\n",
    "\n",
    "Input: n = 13\n",
    "\n",
    "Output: 2\n",
    "\n",
    "Explanation: 13 = 4 + 9."
   ]
  },
  {
   "cell_type": "code",
   "execution_count": 462,
   "metadata": {},
   "outputs": [],
   "source": [
    "import math"
   ]
  },
  {
   "cell_type": "markdown",
   "metadata": {},
   "source": [
    "+ Brute force DP, iterative over n"
   ]
  },
  {
   "cell_type": "code",
   "execution_count": 482,
   "metadata": {},
   "outputs": [],
   "source": [
    "def PS(n):\n",
    "    \"\"\"\n",
    "    perfect squares\n",
    "    \"\"\"\n",
    "    # starting from dp[0]\n",
    "    dp = [None] * (n+1)\n",
    "    dp[0] = 0\n",
    "    for i in range(1, n+1):\n",
    "        if int(math.sqrt(i)) ** 2 == i:\n",
    "            dp[i] = 1\n",
    "        else:\n",
    "            tmp = float('inf')\n",
    "            for j in range(1, int(i/2)+1):\n",
    "#                 print(i, j)\n",
    "                tmp = min(tmp, dp[j]+dp[i-j])\n",
    "            dp[i] = tmp\n",
    "    return dp[-1]"
   ]
  },
  {
   "cell_type": "code",
   "execution_count": 473,
   "metadata": {},
   "outputs": [
    {
     "data": {
      "text/plain": [
       "(3, 2)"
      ]
     },
     "execution_count": 473,
     "metadata": {},
     "output_type": "execute_result"
    }
   ],
   "source": [
    "PS(12), PS(13)"
   ]
  },
  {
   "cell_type": "markdown",
   "metadata": {},
   "source": [
    "+ A cleverer way iterating over squared number"
   ]
  },
  {
   "cell_type": "code",
   "execution_count": 836,
   "metadata": {},
   "outputs": [],
   "source": [
    "class Solution0(object):\n",
    "    def numSquares(self, n):\n",
    "        \"\"\"\n",
    "        :type n: int\n",
    "        :rtype: int\n",
    "        \"\"\"\n",
    "        dp = [float('inf')] * (n+1)\n",
    "        dp[0] = 0\n",
    "        # iterate over all possible square numbers that can comprise n\n",
    "        for i in range(1, int(math.sqrt(n))+1):\n",
    "#             print(dp)\n",
    "            # all numbers might contain such a square number\n",
    "            for j in range(i**2, n+1):\n",
    "                # iterate from beginning to end, dp[12] refers to dp[8], which is previously computed.\n",
    "#                 print(j, i**2)\n",
    "                dp[j] = min(dp[j], dp[j-i**2]+1)\n",
    "        return dp[-1]"
   ]
  },
  {
   "cell_type": "code",
   "execution_count": 837,
   "metadata": {},
   "outputs": [
    {
     "data": {
      "text/plain": [
       "(3, 2)"
      ]
     },
     "execution_count": 837,
     "metadata": {},
     "output_type": "execute_result"
    }
   ],
   "source": [
    "s0 = Solution0()\n",
    "s0.numSquares(12), s0.numSquares(13)"
   ]
  },
  {
   "cell_type": "markdown",
   "metadata": {},
   "source": [
    "+ fastest"
   ]
  },
  {
   "cell_type": "code",
   "execution_count": 833,
   "metadata": {},
   "outputs": [],
   "source": [
    "class Solution(object):\n",
    "    dp = [0]\n",
    "    def numSquares(self, n):\n",
    "        \"\"\"\n",
    "        :type n: int\n",
    "        :rtype: int\n",
    "        \"\"\"\n",
    "        # squares\n",
    "        squares = [0]\n",
    "        # set of squares in [1, n]\n",
    "        squares_set = set()\n",
    "        for i in range(1, n+1):\n",
    "            ii = i*i\n",
    "            if ii > n:\n",
    "                break\n",
    "            squares.append(ii)\n",
    "            squares_set.add(ii)\n",
    "\n",
    "        # if values of dp at pos which is greater than n have been computed, we won't enter this loop again\n",
    "        for i in range(len(self.dp), n+1):\n",
    "#             print(i, len(self.dp))\n",
    "            if i in squares_set:\n",
    "                self.dp.append(1)\n",
    "            else:\n",
    "                for j in range(1, n+1):\n",
    "                    # iterate over all possible square numbers\n",
    "                    # 1. if all squares have been visited\n",
    "                    # 2. if any further square numbers are greater than i (cant be a component)\n",
    "                    if j > len(squares) - 1 or squares[j] > i:\n",
    "                        break\n",
    "                    if len(self.dp) <= i:\n",
    "                        # for each i add a new values to the list, and iterate over j to get opt\n",
    "                        # iterate over all possible square numbers being component~[1, 4, 9, ...,]\n",
    "                        self.dp.append(self.dp[i-squares[j]] + 1)\n",
    "                    else:\n",
    "                        self.dp[i] = min(self.dp[i-squares[j]] + 1, self.dp[i])\n",
    "                    # for dp[i] == 2, since it cannot be 1 in this condition thus cannot be furthur\n",
    "                    # reduce by decomposing, no need for further iteration\n",
    "                    if self.dp[i] == 2:\n",
    "                        break\n",
    "        return self.dp[n]"
   ]
  },
  {
   "cell_type": "code",
   "execution_count": 834,
   "metadata": {},
   "outputs": [],
   "source": [
    "# concise version\n",
    "class Solution2(object):\n",
    "    dp = [0]\n",
    "    def numSquares(self, n):\n",
    "        \"\"\"\n",
    "        :type n: int\n",
    "        :rtype: int\n",
    "        \"\"\"\n",
    "        # squares\n",
    "        squares = [0]\n",
    "        # set of squares in [1, n]\n",
    "        squares_set = set()\n",
    "        for i in range(1, n+1):\n",
    "            ii = i*i\n",
    "            if ii > n:\n",
    "                break\n",
    "            squares.append(ii)\n",
    "            squares_set.add(ii)\n",
    "\n",
    "        # if values of dp at pos which is greater than n have been computed, we won't enter this loop again\n",
    "        for i in range(len(self.dp), n+1):\n",
    "#             print(i, len(self.dp))\n",
    "            if i in squares_set:\n",
    "                self.dp.append(1)\n",
    "            else:\n",
    "                self.dp.append(float('inf'))\n",
    "                for j in range(1, len(squares)):\n",
    "                    # iterate over all possible square numbers\n",
    "                    # 1. if all squares have been visited\n",
    "                    # 2. if any further square numbers are greater than i (cant be a component)\n",
    "                    if squares[j] > i:\n",
    "                        break\n",
    "                    # for each i add a new values to the list, and iterate over j to get opt\n",
    "                    # iterate over all possible square numbers being component~[1, 4, 9, ...,]\n",
    "                    self.dp[i] = min(self.dp[i-squares[j]] + 1, self.dp[i])\n",
    "                    # for dp[i] == 2, since it cannot be 1 in this condition thus cannot be furthur\n",
    "                    # reduce by decomposing, no need for further iteration\n",
    "                    if self.dp[i] == 2:\n",
    "                        break\n",
    "        return self.dp[n]"
   ]
  },
  {
   "cell_type": "code",
   "execution_count": 825,
   "metadata": {},
   "outputs": [],
   "source": [
    "s = Solution()\n",
    "s2 = Solution2()"
   ]
  },
  {
   "cell_type": "code",
   "execution_count": 826,
   "metadata": {},
   "outputs": [
    {
     "data": {
      "text/plain": [
       "True"
      ]
     },
     "execution_count": 826,
     "metadata": {},
     "output_type": "execute_result"
    }
   ],
   "source": [
    "s.numSquares(1000) == s2.numSquares(1000)"
   ]
  },
  {
   "cell_type": "code",
   "execution_count": 835,
   "metadata": {},
   "outputs": [
    {
     "name": "stdout",
     "output_type": "stream",
     "text": [
      "50.1 ms ± 462 µs per loop (mean ± std. dev. of 7 runs, 10 loops each)\n"
     ]
    }
   ],
   "source": [
    "%timeit PS(1000)"
   ]
  },
  {
   "cell_type": "code",
   "execution_count": 838,
   "metadata": {},
   "outputs": [
    {
     "name": "stdout",
     "output_type": "stream",
     "text": [
      "7.74 ms ± 9.73 µs per loop (mean ± std. dev. of 7 runs, 100 loops each)\n"
     ]
    }
   ],
   "source": [
    "%timeit s0.numSquares(1000)"
   ]
  },
  {
   "cell_type": "code",
   "execution_count": 831,
   "metadata": {},
   "outputs": [
    {
     "name": "stdout",
     "output_type": "stream",
     "text": [
      "5.31 µs ± 43.1 ns per loop (mean ± std. dev. of 7 runs, 100000 loops each)\n"
     ]
    }
   ],
   "source": [
    "%timeit s.numSquares(1000)"
   ]
  },
  {
   "cell_type": "code",
   "execution_count": 832,
   "metadata": {},
   "outputs": [
    {
     "name": "stdout",
     "output_type": "stream",
     "text": [
      "5.39 µs ± 74 ns per loop (mean ± std. dev. of 7 runs, 100000 loops each)\n"
     ]
    }
   ],
   "source": [
    "%timeit s2.numSquares(1000)"
   ]
  },
  {
   "cell_type": "markdown",
   "metadata": {},
   "source": [
    "# 91. Decode Ways\n",
    "\n",
    "Description：\n",
    "\n",
    "A message containing letters from A-Z is being encoded to numbers using the following mapping:\n",
    "```\n",
    "'A' -> 1\n",
    "'B' -> 2\n",
    "...\n",
    "'Z' -> 26\n",
    "```\n",
    "Given a non-empty string containing only digits, determine the total number of ways to decode it.\n",
    "\n",
    "Example 1:\n",
    "\n",
    " Input: \"12\"\n",
    "\n",
    "Output: 2\n",
    "\n",
    "Explanation: It could be decoded as \"AB\" (1 2) or \"L\" (12).\n",
    "\n",
    "Example 2:\n",
    "\n",
    " Input: \"226\"\n",
    "\n",
    "Output: 3\n",
    "\n",
    "Explanation: It could be decoded as \"BZ\" (2 26), \"VF\" (22 6), or \"BBF\" (2 2 6)."
   ]
  },
  {
   "cell_type": "code",
   "execution_count": 839,
   "metadata": {},
   "outputs": [],
   "source": [
    "def DWD(code):\n",
    "    '''\n",
    "    determine the total number of ways of decoding a given code\n",
    "    '''\n",
    "    n = len(code)\n",
    "    if n==0: return 0\n",
    "    dp = [None] * n\n",
    "    dp[0] = int(int(code[0]) > 0)\n",
    "    if n<=1: return dp[-1]\n",
    "    dp[1] = dp[0] * int(int(code[1]) > 0) + int((int(code[:2]) <= 26)&((int(code[:2]) > 9)))\n",
    "    if n<=2: return dp[-1]\n",
    "    for i in range(2, n):\n",
    "        dp[i] = dp[i-1] * int(int(code[i]) > 0) + dp[i-2] * int((int(code[i-1:i+1]) <= 26)&((int(code[i-1:i+1]) > 9)))\n",
    "    return dp[-1]"
   ]
  },
  {
   "cell_type": "code",
   "execution_count": 841,
   "metadata": {},
   "outputs": [
    {
     "data": {
      "text/plain": [
       "(1, 3)"
      ]
     },
     "execution_count": 841,
     "metadata": {},
     "output_type": "execute_result"
    }
   ],
   "source": [
    "DWD('1010'), DWD('226')"
   ]
  },
  {
   "cell_type": "code",
   "execution_count": 848,
   "metadata": {},
   "outputs": [
    {
     "data": {
      "text/plain": [
       "[('1', '2'), ('2', '3'), ('3', '1')]"
      ]
     },
     "execution_count": 848,
     "metadata": {},
     "output_type": "execute_result"
    }
   ],
   "source": [
    "list(zip(code, code[1:]))"
   ]
  },
  {
   "cell_type": "code",
   "execution_count": 846,
   "metadata": {},
   "outputs": [],
   "source": [
    "code = '1231'"
   ]
  },
  {
   "cell_type": "code",
   "execution_count": 849,
   "metadata": {},
   "outputs": [],
   "source": [
    "def DWD(code):\n",
    "    '''\n",
    "    determine the total number of ways of decoding a given code\n",
    "    '''\n",
    "    if not code:\n",
    "        return 0\n",
    "    dp = [int(int(code[0]) > 0)]\n",
    "    for i in range(1, len(code)):\n",
    "        if i == 1:\n",
    "            dp.append(dp[i-1] * int(int(code[i]) > 0) + int((int(code[i-1:i+1]) <= 26)&((int(code[i-1:i+1]) > 9))))\n",
    "        else:\n",
    "            dp.append(dp[i-1] * int(int(code[i]) > 0) + dp[i-2] * int((int(code[i-1:i+1]) <= 26)&((int(code[i-1:i+1]) > 9))))\n",
    "    return dp[-1]"
   ]
  },
  {
   "cell_type": "code",
   "execution_count": 856,
   "metadata": {},
   "outputs": [
    {
     "data": {
      "text/plain": [
       "1"
      ]
     },
     "execution_count": 856,
     "metadata": {},
     "output_type": "execute_result"
    }
   ],
   "source": [
    "DWD('10102')"
   ]
  },
  {
   "cell_type": "markdown",
   "metadata": {},
   "source": [
    "# 62. Unique Paths\n",
    "\n",
    "Description：\n",
    "\n",
    "A robot is located at the top-left corner of a m x n grid (marked 'Start' in the diagram below).\n",
    "\n",
    "The robot can only move either down or right at any point in time. The robot is trying to reach the bottom-right corner of the grid (marked 'Finish' in the diagram below).\n",
    "\n",
    "How many possible unique paths are there?\n",
    "\n",
    "\n",
    "Above is a 7 x 3 grid. How many possible unique paths are there?\n",
    "\n",
    "Note: m and n will be at most 100.\n",
    "\n",
    "Example 1:\n",
    "\n",
    " Input: m = 3, n = 2\n",
    "\n",
    "Output: 3\n",
    "\n",
    "Explanation:\n",
    "\n",
    "From the top-left corner, there are a total of 3 ways to reach the bottom-right corner:\n",
    "```\n",
    "1. Right -> Right -> Down\n",
    "2. Right -> Down -> Right\n",
    "3. Down -> Right -> Right\n",
    "```\n",
    "Example 2:\n",
    "\n",
    " Input: m = 7, n = 3\n",
    "\n",
    "Output: 28\n"
   ]
  },
  {
   "cell_type": "code",
   "execution_count": 862,
   "metadata": {},
   "outputs": [],
   "source": [
    "def UP(m, n):\n",
    "    \"\"\"\n",
    "    unique path\n",
    "    \"\"\"\n",
    "    dp = [[None for _ in range(n)] for _ in range(m)]\n",
    "    for i in range(m):\n",
    "        dp[i][0] = 1\n",
    "    for j in range(n):\n",
    "        dp[0][j] = 1\n",
    "    for i in range(1, m):\n",
    "        for j in range(1, n):\n",
    "            dp[i][j] = dp[i-1][j] + dp[i][j-1]\n",
    "    return dp[-1][-1]"
   ]
  },
  {
   "cell_type": "code",
   "execution_count": 864,
   "metadata": {},
   "outputs": [
    {
     "data": {
      "text/plain": [
       "3"
      ]
     },
     "execution_count": 864,
     "metadata": {},
     "output_type": "execute_result"
    }
   ],
   "source": [
    "UP(3, 2)"
   ]
  },
  {
   "cell_type": "markdown",
   "metadata": {},
   "source": [
    "# 63. Unique Paths II\n",
    "\n",
    "Description：\n",
    "\n",
    "A robot is located at the top-left corner of a m x n grid (marked 'Start' in the diagram below).\n",
    "\n",
    "The robot can only move either down or right at any point in time. The robot is trying to reach the bottom-right corner of the grid (marked 'Finish' in the diagram below).\n",
    "\n",
    "Now consider if some obstacles are added to the grids. How many unique paths would there be?\n",
    "\n",
    "\n",
    "\n",
    "An obstacle and empty space is marked as 1 and 0 respectively in the grid.\n",
    "\n",
    "Note: m and n will be at most 100.\n",
    "\n",
    "Example 1:\n",
    "\n",
    " Input:\n",
    "```\n",
    "[\n",
    "  [0,0,0],\n",
    "  [0,1,0],\n",
    "  [0,0,0]\n",
    "]\n",
    "```\n",
    "\n",
    "Output: 2\n",
    "\n",
    "Explanation:\n",
    "\n",
    "There is one obstacle in the middle of the 3x3 grid above.\n",
    "There are two ways to reach the bottom-right corner:\n",
    "```\n",
    "1. Right -> Right -> Down -> Down\n",
    "2. Down -> Down -> Right -> Right\n",
    "```"
   ]
  },
  {
   "cell_type": "code",
   "execution_count": 873,
   "metadata": {},
   "outputs": [],
   "source": [
    "def UP2(mat):\n",
    "    \"\"\"\n",
    "    unique path\n",
    "    \"\"\"\n",
    "    m, n = len(mat), len(mat[0])\n",
    "    dp = [[0 for _ in range(n)] for _ in range(m)]\n",
    "    for i in range(m):\n",
    "        if mat[i][0] == 1:\n",
    "            break\n",
    "        dp[i][0] = 1\n",
    "    for j in range(n):\n",
    "        if mat[0][j] == 1:\n",
    "            break\n",
    "        dp[0][j] = 1\n",
    "    for i in range(1, m):\n",
    "        for j in range(1, n):\n",
    "            if mat[i][j] != 1:\n",
    "                dp[i][j] = dp[i-1][j] * (1-mat[i-1][j]) + dp[i][j-1] * (1-mat[i][j-1])\n",
    "    return dp[-1][-1]"
   ]
  },
  {
   "cell_type": "code",
   "execution_count": 874,
   "metadata": {},
   "outputs": [
    {
     "data": {
      "text/plain": [
       "2"
      ]
     },
     "execution_count": 874,
     "metadata": {},
     "output_type": "execute_result"
    }
   ],
   "source": [
    "UP2([[0,0,0],[0,1,0],[0,0,0]])"
   ]
  },
  {
   "cell_type": "markdown",
   "metadata": {},
   "source": [
    "# 198. House Robber\n",
    "\n",
    "Description:\n",
    "\n",
    "You are a professional robber planning to rob houses along a street. Each house has a certain amount of money stashed, the only constraint stopping you from robbing each of them is that adjacent houses have security system connected and it will automatically contact the police if two adjacent houses were broken into on the same night.\n",
    "\n",
    "Given a list of non-negative integers representing the amount of money of each house, determine the maximum amount of money you can rob tonight without alerting the police.\n",
    "\n",
    "Example 1:\n",
    "\n",
    "Input: [1,2,3,1]\n",
    "\n",
    "Output: 4\n",
    "\n",
    "Explanation: Rob house 1 (money = 1) and then rob house 3 (money = 3).\n",
    "             Total amount you can rob = 1 + 3 = 4.\n",
    "\n",
    "Example 2:\n",
    "\n",
    "Input: [2,7,9,3,1]\n",
    "\n",
    "Output: 12\n",
    "\n",
    "Explanation: Rob house 1 (money = 2), rob house 3 (money = 9) and rob house 5 (money = 1).\n",
    "             Total amount you can rob = 2 + 9 + 1 = 12."
   ]
  },
  {
   "cell_type": "code",
   "execution_count": 11,
   "metadata": {},
   "outputs": [],
   "source": [
    "def HR(l):\n",
    "    n = len(l)\n",
    "    if not n:\n",
    "        return 0\n",
    "    dp = [0] * n\n",
    "    dp[0] = l[0]\n",
    "    if n == 1: return dp[-1]\n",
    "    dp[1] = max(l[:2])\n",
    "    if n == 2: return dp[-1]\n",
    "    for i in range(2, n):\n",
    "        dp[i] = max(dp[i-1], dp[i-2] + l[i])\n",
    "    return dp[-1]"
   ]
  },
  {
   "cell_type": "code",
   "execution_count": 890,
   "metadata": {},
   "outputs": [
    {
     "data": {
      "text/plain": [
       "6"
      ]
     },
     "execution_count": 890,
     "metadata": {},
     "output_type": "execute_result"
    }
   ],
   "source": [
    "HR([2, 3, 4])"
   ]
  },
  {
   "cell_type": "markdown",
   "metadata": {},
   "source": [
    "# 213. House Robber II\n",
    "\n",
    "Description：\n",
    "\n",
    "You are a professional robber planning to rob houses along a street. Each house has a certain amount of money stashed. All houses at this place are arranged in a circle. That means the first house is the neighbor of the last one. Meanwhile, adjacent houses have security system connected and it will automatically contact the police if two adjacent houses were broken into on the same night.\n",
    "\n",
    "Given a list of non-negative integers representing the amount of money of each house, determine the maximum amount of money you can rob tonight without alerting the police.\n",
    "\n",
    "Example 1:\n",
    "\n",
    "Input: [2,3,2]\n",
    "\n",
    "Output: 3\n",
    "\n",
    "Explanation: You cannot rob house 1 (money = 2) and then rob house 3 (money = 2),\n",
    "             because they are adjacent houses.\n",
    "Example 2:\n",
    "\n",
    "Input: [1,2,3,1]\n",
    "\n",
    "Output: 4\n",
    "\n",
    "Explanation: Rob house 1 (money = 1) and then rob house 3 (money = 3).\n",
    "             Total amount you can rob = 1 + 3 = 4."
   ]
  },
  {
   "cell_type": "code",
   "execution_count": 16,
   "metadata": {},
   "outputs": [],
   "source": [
    "def HR2(l):\n",
    "    if len(l) == 1: return l[0]\n",
    "    return max(HR(l[1:]), HR(l[:-1]))"
   ]
  },
  {
   "cell_type": "code",
   "execution_count": 19,
   "metadata": {},
   "outputs": [
    {
     "data": {
      "text/plain": [
       "4"
      ]
     },
     "execution_count": 19,
     "metadata": {},
     "output_type": "execute_result"
    }
   ],
   "source": [
    "HR2([1, 2, 3, 1])"
   ]
  },
  {
   "cell_type": "markdown",
   "metadata": {},
   "source": [
    "# 337. House Robber III (***)\n",
    "\n",
    "Description：\n",
    "\n",
    "The thief has found himself a new place for his thievery again. There is only one entrance to this area, called the \"root.\" Besides the root, each house has one and only one parent house. After a tour, the smart thief realized that \"all houses in this place forms a binary tree\". It will automatically contact the police if two directly-linked houses were broken into on the same night.\n",
    "\n",
    "Determine the maximum amount of money the thief can rob tonight without alerting the police.\n",
    "\n",
    "Example 1:\n",
    "\n",
    " Input: [3,2,3,null,3,null,1]\n",
    "```\n",
    "     3\n",
    "    / \\\n",
    "   2   3\n",
    "    \\   \\ \n",
    "     3   1\n",
    "```\n",
    "\n",
    "Output: 7 \n",
    "\n",
    "Explanation: Maximum amount of money the thief can rob = 3 + 3 + 1 = 7.\n",
    "\n",
    "Example 2:\n",
    "\n",
    " Input: [3,4,5,1,3,null,1]\n",
    "```\n",
    "     3\n",
    "    / \\\n",
    "   4   5\n",
    "  / \\   \\ \n",
    " 1   3   1\n",
    "```\n",
    "Output: 9\n",
    "\n",
    "Explanation: Maximum amount of money the thief can rob = 4 + 5 = 9."
   ]
  },
  {
   "cell_type": "code",
   "execution_count": 20,
   "metadata": {},
   "outputs": [
    {
     "name": "stdout",
     "output_type": "stream",
     "text": [
      "result:9\n"
     ]
    }
   ],
   "source": [
    "# Definition for a binary tree node.\n",
    "class TreeNode(object):\n",
    "    \"\"\"节点类\"\"\"\n",
    "    def __init__(self, x):\n",
    "        self.val = x\n",
    "        self.left = None\n",
    "        self.right = None\n",
    "\n",
    "class Tree(object):\n",
    " \n",
    "    # 建立二叉树是以层序遍历方式输入，节点不存在时以 'None' 表示\n",
    "    def creatTree(self, nodeList):\n",
    "        if nodeList[0] == None:\n",
    "            return None\n",
    "        head = TreeNode(nodeList[0])\n",
    "        Nodes = [head]\n",
    "        j = 1\n",
    "        for node in Nodes:\n",
    "            if node != None:\n",
    "                node.left = (TreeNode(nodeList[j]) if nodeList[j] != None else None)\n",
    "                Nodes.append(node.left)\n",
    "                j += 1\n",
    "                if j == len(nodeList):\n",
    "                    return head\n",
    "                node.right = (TreeNode(nodeList[j]) if nodeList[j] != None else None)\n",
    "                j += 1\n",
    "                Nodes.append(node.right)\n",
    "                if j == len(nodeList):\n",
    "                    return head\n",
    "\n",
    "class Solution:\n",
    " \n",
    "    def rob(self, root):\n",
    "        \"\"\"\n",
    "        :type root: TreeNode\n",
    "        :rtype: int\n",
    "        \"\"\"\n",
    "        return max(self.tryRob(root))\n",
    " \n",
    "    def tryRob(self, node):\n",
    "        if node == None:\n",
    "            return [0, 0]\n",
    "        # result[0] is max value if not rob current node\n",
    "        # result[1] is max value if rob current node\n",
    "        result = [0] * 2\n",
    "        left_val = self.tryRob(node.left)\n",
    "        right_val = self.tryRob(node.right)\n",
    "        result[0] = max(left_val[0], left_val[1]) + max(right_val[0], right_val[1])\n",
    "        result[1] = left_val[0] + right_val[0] + node.val\n",
    "        return result\n",
    "\n",
    "if __name__ == \"__main__\":\n",
    "    elements = [3, 4, 5, 1, 3, None, 1]\n",
    "    tree = Tree()\n",
    "    head = tree.creatTree(elements)\n",
    "    solution = Solution()\n",
    "    print(\"result:{}\".format(solution.rob(head)))"
   ]
  },
  {
   "cell_type": "markdown",
   "metadata": {},
   "source": [
    "# 121\n",
    "题目描述：\n",
    "\n",
    "给定一个整形数组，其中的第i个元素代表股票第i天的价格。在一开始，你手里有足够的钱，但没有股票。你仅有一次买股票和一次卖股票的机会（每次只能买/卖1股），或者不买不卖。输出你可能的最大盈利值。尽量降低程序的时间复杂度。\n",
    "\n",
    "样例1：\n",
    "\n",
    "[7, 1, 5, 3, 6, 4]，在价格为1的时候买入，在价格为6的时候卖出，可以得到最大盈利值为5。（5 = 6 - 1）\n",
    "\n",
    "样例2：\n",
    "\n",
    "[7, 6, 5, 4, 3, 2]，选择不买不卖，最大盈利值为0。"
   ]
  },
  {
   "cell_type": "code",
   "execution_count": null,
   "metadata": {},
   "outputs": [],
   "source": [
    "# minimum negative values possible"
   ]
  },
  {
   "cell_type": "code",
   "execution_count": 29,
   "metadata": {},
   "outputs": [],
   "source": [
    "# dp[i] means the maximum gain when selling before time i\n",
    "def maxgain(nums):\n",
    "    n = len(nums)\n",
    "    if n < 2: return 0\n",
    "    dp = [-float('inf')] * n\n",
    "    dp[1] = max(0, nums[1]-nums[0])\n",
    "    for i in range(2, n):\n",
    "        for j in range(i):\n",
    "            dp[i] = max(dp[i-1], dp[i], nums[i]-nums[j], 0)\n",
    "    return dp[-1]"
   ]
  },
  {
   "cell_type": "code",
   "execution_count": 30,
   "metadata": {},
   "outputs": [
    {
     "data": {
      "text/plain": [
       "5"
      ]
     },
     "execution_count": 30,
     "metadata": {},
     "output_type": "execute_result"
    }
   ],
   "source": [
    "maxgain([7,1,5,3,6,4])"
   ]
  },
  {
   "cell_type": "code",
   "execution_count": 31,
   "metadata": {},
   "outputs": [
    {
     "data": {
      "text/plain": [
       "0"
      ]
     },
     "execution_count": 31,
     "metadata": {},
     "output_type": "execute_result"
    }
   ],
   "source": [
    "maxgain([7,6,5,4,3,2])"
   ]
  },
  {
   "cell_type": "code",
   "execution_count": 42,
   "metadata": {},
   "outputs": [],
   "source": [
    "# dp[i] means the maximum gain when selling at time i\n",
    "def maxgain(nums):\n",
    "    n = len(nums)\n",
    "    if n < 2: return 0\n",
    "    dp = [0] * n\n",
    "    dp[1] = max(0, nums[1]-nums[0])\n",
    "    for i in range(2, n):\n",
    "            dp[i] = max(dp[i-1]+nums[i]-nums[i-1], 0)\n",
    "    return max(dp)"
   ]
  },
  {
   "cell_type": "code",
   "execution_count": 43,
   "metadata": {},
   "outputs": [
    {
     "data": {
      "text/plain": [
       "5"
      ]
     },
     "execution_count": 43,
     "metadata": {},
     "output_type": "execute_result"
    }
   ],
   "source": [
    "maxgain([7,1,5,3,6,4])"
   ]
  },
  {
   "cell_type": "code",
   "execution_count": 44,
   "metadata": {},
   "outputs": [
    {
     "data": {
      "text/plain": [
       "0"
      ]
     },
     "execution_count": 44,
     "metadata": {},
     "output_type": "execute_result"
    }
   ],
   "source": [
    "maxgain([7,6,5,4,3,2])"
   ]
  },
  {
   "cell_type": "markdown",
   "metadata": {},
   "source": [
    "# 309. Best Time to Buy and Sell Stock with Cooldown (***)\n",
    "\n",
    "Description：\n",
    "\n",
    "Say you have an array for which the  element is the price of a given stock on day i.\n",
    "\n",
    "Design an algorithm to find the maximum profit. You may complete as many transactions as you like (ie, buy one and sell one share of the stock multiple times) with the following restrictions:\n",
    "\n",
    "You may not engage in multiple transactions at the same time (ie, you must sell the stock before you buy again).\n",
    "After you sell your stock, you cannot buy stock on next day. (ie, cooldown 1 day)\n",
    "Example:\n",
    "\n",
    "Input: [1,2,3,0,2]\n",
    "\n",
    "Output: 3 \n",
    "\n",
    "Explanation: transactions = [buy, sell, cooldown, buy, sell]\n",
    "\n",
    "解题思路：\n",
    "\n",
    "（1）动态规划解法：\n",
    "\n",
    "这道题可以用动态规划思路来解决。这道题的难点在于如何写出状态转移方程。下面我们来分析一下题目：\n",
    "\n",
    "在每一次股票操作之后，都可能出现三种状态：休息（rest）、持有（hold）和已卖出（sold）。下图是这三种状态的状态机。\n",
    "\n",
    "1）对于rest，有两种情况：一种是，上一个时间再休息，现在接着休息。另一种是，上一个时间是卖出，那么现在必须是休息状态。\n",
    "\n",
    "2）对于hold，有两种情况：一种是，上一个时间是休息，现在可以买入股票，变成持有状态。另一种是，上一个时间是持有，现在可以暂停交易进入休息，依然变成持有状态。\n",
    "\n",
    "3）对于sold，只能是把持有的股票卖出，变成已卖出状态。\n",
    "\n",
    "Constuct 3 list to maintain the maximum gain at each time being each state."
   ]
  },
  {
   "cell_type": "code",
   "execution_count": 46,
   "metadata": {},
   "outputs": [
    {
     "name": "stdout",
     "output_type": "stream",
     "text": [
      "3\n"
     ]
    }
   ],
   "source": [
    "class Solution:\n",
    "    def maxProfit(self, prices):\n",
    "        \"\"\"\n",
    "        :type prices: List[int]\n",
    "        :type: int\n",
    "        \"\"\"\n",
    "        if len(prices) <= 1:\n",
    "            return  0\n",
    "        hold = [0] * len(prices)\n",
    "        sold = [0] * len(prices)\n",
    "        rest = [0] * len(prices)\n",
    "        hold[0] = -prices[0]\n",
    "        sold[0] = -float(\"inf\")\n",
    "        for i in range(1,len(prices)):\n",
    "            # the max gain if holding at time i:\n",
    "            # can be arrived from either continuing holding or buying aftering resting.\n",
    "            hold[i] = max(hold[i - 1], rest[i - 1] - prices[i]) \n",
    "            # the max gain if selling at time i:\n",
    "            # can be arrived from selling after holding.\n",
    "            sold[i] = hold[i - 1] + prices[i]\n",
    "            # the max gain if resting at time i:\n",
    "            # can be arrived from either continuing resting or resting after selling.\n",
    "            rest[i] = max(rest[i - 1], sold[i - 1])\n",
    "        return max(sold[-1], rest[-1])\n",
    "\n",
    "solution = Solution()\n",
    "Input = [1, 2, 3, 0, 2]\n",
    "print(solution.maxProfit(Input))"
   ]
  },
  {
   "cell_type": "code",
   "execution_count": 47,
   "metadata": {},
   "outputs": [
    {
     "name": "stdout",
     "output_type": "stream",
     "text": [
      "3\n"
     ]
    }
   ],
   "source": [
    "class Solution:\n",
    "    def maxProfit(self, prices):\n",
    "        \"\"\"\n",
    "        :type prices: List[int]\n",
    "        :type: int\n",
    "        \"\"\"\n",
    "        if len(prices) <= 1:\n",
    "            return  0\n",
    "        hold = [-prices[0]]\n",
    "        sold = [-float('inf')]\n",
    "        rest = [0]\n",
    "        for i in range(1,len(prices)):\n",
    "            # the max gain if holding at time i:\n",
    "            # can be arrived from either continuing holding or buying aftering resting.\n",
    "            hold.append(max(hold[-1], rest[-1] - prices[i])) \n",
    "            # the max gain if selling at time i:\n",
    "            # can be arrived from selling after holding.\n",
    "            sold.append(hold[-2] + prices[i])\n",
    "            # the max gain if resting at time i:\n",
    "            # can be arrived from either continuing resting or resting after selling.\n",
    "            rest.append(max(rest[-1], sold[-2]))\n",
    "        return max(sold[-1], rest[-1])\n",
    "\n",
    "solution = Solution()\n",
    "Input = [1, 2, 3, 0, 2]\n",
    "print(solution.maxProfit(Input))"
   ]
  },
  {
   "cell_type": "code",
   "execution_count": 58,
   "metadata": {},
   "outputs": [
    {
     "name": "stdout",
     "output_type": "stream",
     "text": [
      "6.27 ns ± 0.0695 ns per loop (mean ± std. dev. of 7 runs, 100000000 loops each)\n"
     ]
    }
   ],
   "source": [
    "%timeit 1"
   ]
  },
  {
   "cell_type": "code",
   "execution_count": 48,
   "metadata": {},
   "outputs": [
    {
     "name": "stdout",
     "output_type": "stream",
     "text": [
      "3\n"
     ]
    }
   ],
   "source": [
    "class Solution:\n",
    "    def maxProfit(self, prices):\n",
    "        \"\"\"\n",
    "        :type prices: List[int]\n",
    "        :type: int\n",
    "        \"\"\"\n",
    "        if len(prices) <= 1:\n",
    "            return  0\n",
    "        hold = -prices[0]\n",
    "        sold = -float('inf')\n",
    "        rest = 0\n",
    "        for i in range(1,len(prices)):\n",
    "            # the max gain if resting at time i:\n",
    "            # can be arrived from either continuing resting or resting after selling.\n",
    "            rest_old = rest\n",
    "            rest = max(rest, sold)\n",
    "            # the max gain if selling at time i:\n",
    "            # can be arrived from selling after holding.\n",
    "            sold = hold + prices[i]\n",
    "            # the max gain if holding at time i:\n",
    "            # can be arrived from either continuing holding or buying aftering resting.\n",
    "            hold = max(hold, rest_old - prices[i]) \n",
    "        return max(sold, rest)\n",
    "\n",
    "solution = Solution()\n",
    "Input = [1, 2, 3, 0, 2]\n",
    "print(solution.maxProfit(Input))"
   ]
  },
  {
   "cell_type": "markdown",
   "metadata": {},
   "source": [
    "# Choose or not"
   ]
  },
  {
   "cell_type": "markdown",
   "metadata": {},
   "source": [
    "# Subarray\n",
    "\n",
    "题目描述：\n",
    "给定一个整数数组和一个整数 k，你需要找到该数组中和为 k 的子数组。如果存在该子数组返回true，否则返回false。\n",
    "\n",
    "输入输出：\n",
    "\n",
    "input：{3， 34， 4, 12，5, 2}\n",
    "\n",
    "output：true"
   ]
  },
  {
   "cell_type": "markdown",
   "metadata": {},
   "source": [
    "+ DFS"
   ]
  },
  {
   "cell_type": "code",
   "execution_count": 63,
   "metadata": {},
   "outputs": [],
   "source": [
    "nums = [3, 34, 4, 12, 5, 2]\n",
    "k = 9"
   ]
  },
  {
   "cell_type": "code",
   "execution_count": 178,
   "metadata": {},
   "outputs": [],
   "source": [
    "# DFS\n",
    "def subarray(nums, k):\n",
    "    if k == 0: return True # when len(nums) == 1, nums[:-1] = [] and nums[-1] = k, same as judging nums[0]==k\n",
    "    if len(nums) == 0: return False # \n",
    "    return (subarray(nums[:-1], k) or subarray(nums[:-1], k-nums[-1]))    "
   ]
  },
  {
   "cell_type": "code",
   "execution_count": 179,
   "metadata": {},
   "outputs": [
    {
     "data": {
      "text/plain": [
       "True"
      ]
     },
     "execution_count": 179,
     "metadata": {},
     "output_type": "execute_result"
    }
   ],
   "source": [
    "# can deal with negative integers but cant deal with k = 0\n",
    "subarray(nums, 0)"
   ]
  },
  {
   "cell_type": "code",
   "execution_count": 181,
   "metadata": {},
   "outputs": [],
   "source": [
    "# DFS\n",
    "# can deal with both negative and 0.\n",
    "def subarray2(nums, k):\n",
    "    if len(nums) == 0: return False # \n",
    "    if len(nums)>0 and nums[-1] == k: return True # when len(nums) == 1, nums[:-1] = [] and nums[-1] = k, same as judging nums[0]==k\n",
    "    return (subarray2(nums[:-1], k) or subarray2(nums[:-1], k-nums[-1]))    "
   ]
  },
  {
   "cell_type": "code",
   "execution_count": 182,
   "metadata": {},
   "outputs": [
    {
     "data": {
      "text/plain": [
       "False"
      ]
     },
     "execution_count": 182,
     "metadata": {},
     "output_type": "execute_result"
    }
   ],
   "source": [
    "subarray2(nums, 0)"
   ]
  },
  {
   "cell_type": "markdown",
   "metadata": {},
   "source": [
    "+ DP"
   ]
  },
  {
   "cell_type": "code",
   "execution_count": 269,
   "metadata": {},
   "outputs": [],
   "source": [
    "# dp[i][j] means indicator of the existence of a subarray that sums up to j using nums[:i]\n",
    "def subarray_dp(nums, k):\n",
    "    dp = [[None for _ in range(k+1)] for _ in range(len(nums))]\n",
    "    for j in range(k+1):\n",
    "        dp[0][j] = (nums[0] == j)\n",
    "#         dp[0][j] = False # incorrect cause it will ignore situation taking only the first number to get the sum\n",
    "    for i in range(len(nums)):\n",
    "        dp[i][0] = True\n",
    "    for i in range(1, len(nums)):\n",
    "        for j in range(1, k+1):\n",
    "            if nums[i] > j:\n",
    "                dp[i][j] = dp[i-1][j]\n",
    "            else:\n",
    "                A = dp[i-1][j-nums[i]]\n",
    "                B = dp[i-1][j]\n",
    "                dp[i][j] = (A or B)\n",
    "    return dp[len(nums)-1][k]\n",
    "#     return dp"
   ]
  },
  {
   "cell_type": "code",
   "execution_count": 270,
   "metadata": {},
   "outputs": [
    {
     "data": {
      "text/plain": [
       "True"
      ]
     },
     "execution_count": 270,
     "metadata": {},
     "output_type": "execute_result"
    }
   ],
   "source": [
    "subarray_dp(nums, 34)"
   ]
  },
  {
   "cell_type": "code",
   "execution_count": 273,
   "metadata": {},
   "outputs": [],
   "source": [
    "tmp1 = []\n",
    "tmp2 = []\n",
    "for i in range(1, 20):\n",
    "    tmp1.append(subarray2(nums, i))\n",
    "    tmp2.append(subarray_dp(nums, i))"
   ]
  },
  {
   "cell_type": "code",
   "execution_count": 274,
   "metadata": {},
   "outputs": [
    {
     "data": {
      "text/plain": [
       "True"
      ]
     },
     "execution_count": 274,
     "metadata": {},
     "output_type": "execute_result"
    }
   ],
   "source": [
    "tmp1 == tmp2"
   ]
  },
  {
   "cell_type": "code",
   "execution_count": 275,
   "metadata": {},
   "outputs": [
    {
     "name": "stdout",
     "output_type": "stream",
     "text": [
      "9.13 µs ± 160 ns per loop (mean ± std. dev. of 7 runs, 100000 loops each)\n"
     ]
    }
   ],
   "source": [
    "%timeit subarray(nums, 9)"
   ]
  },
  {
   "cell_type": "code",
   "execution_count": 276,
   "metadata": {},
   "outputs": [
    {
     "name": "stdout",
     "output_type": "stream",
     "text": [
      "12.4 µs ± 189 ns per loop (mean ± std. dev. of 7 runs, 100000 loops each)\n"
     ]
    }
   ],
   "source": [
    "%timeit subarray_dp(nums, 9)"
   ]
  },
  {
   "cell_type": "code",
   "execution_count": 281,
   "metadata": {},
   "outputs": [
    {
     "name": "stdout",
     "output_type": "stream",
     "text": [
      "451 µs ± 7.19 µs per loop (mean ± std. dev. of 7 runs, 1000 loops each)\n"
     ]
    }
   ],
   "source": [
    "%timeit subarray([44, 22, 31, 24, 5, 16, 2, 4, 9, 10], 3) # time depends on structure of nums"
   ]
  },
  {
   "cell_type": "code",
   "execution_count": 282,
   "metadata": {},
   "outputs": [
    {
     "name": "stdout",
     "output_type": "stream",
     "text": [
      "10.8 µs ± 377 ns per loop (mean ± std. dev. of 7 runs, 100000 loops each)\n"
     ]
    }
   ],
   "source": [
    "%timeit subarray_dp([44, 22, 31, 24, 5, 16, 2, 4, 9, 10], 3)"
   ]
  },
  {
   "cell_type": "markdown",
   "metadata": {},
   "source": [
    "题目描述：\n",
    "\n",
    "题目：输入一个整型数组，数组里面有正数也有负数。数组中一个或连续的多个整数组成一个子数组。求所有子数组的和的最大值。要求时间复杂度为O（n）。"
   ]
  },
  {
   "cell_type": "code",
   "execution_count": 331,
   "metadata": {},
   "outputs": [],
   "source": [
    "nums = [6, -3, -2, 7, -15, 1, 2, 2]"
   ]
  },
  {
   "cell_type": "code",
   "execution_count": 310,
   "metadata": {},
   "outputs": [],
   "source": [
    "import numpy as np"
   ]
  },
  {
   "cell_type": "code",
   "execution_count": 426,
   "metadata": {},
   "outputs": [],
   "source": [
    "def maxsum_re(nums):\n",
    "    \"\"\"\n",
    "    max sum of subarrays of nums recursively\n",
    "    \"\"\"\n",
    "    res = []\n",
    "    def recur(nums):\n",
    "        \"\"\"\n",
    "        recursion\n",
    "        \"\"\"\n",
    "        tmp = 0\n",
    "        if len(nums) == 0: \n",
    "            return None\n",
    "        if len(nums) == 1:\n",
    "            res.append(nums[0])\n",
    "            return nums[0]\n",
    "        tmp = max(recur(nums[:-1])+nums[-1], nums[-1])\n",
    "        res.append(tmp)\n",
    "        return tmp\n",
    "    recur(nums)\n",
    "    return max(res)"
   ]
  },
  {
   "cell_type": "code",
   "execution_count": 427,
   "metadata": {},
   "outputs": [
    {
     "data": {
      "text/plain": [
       "8"
      ]
     },
     "execution_count": 427,
     "metadata": {},
     "output_type": "execute_result"
    }
   ],
   "source": [
    "maxsum_re(nums)"
   ]
  },
  {
   "cell_type": "code",
   "execution_count": null,
   "metadata": {},
   "outputs": [],
   "source": [
    "def maxsum_re(nums):\n",
    "    \"\"\"\n",
    "    max sum of subarrays of nums recursively\n",
    "    \"\"\"\n",
    "    print(nums)\n",
    "    if len(nums) == 0: return 0\n",
    "    if len(nums) == 1:\n",
    "        tmp.append(nums[0])\n",
    "        pass\n",
    "    tmp.append(max(maxsum_re(nums[:-1])+nums[-1], nums[-1]))\n",
    "    pass"
   ]
  },
  {
   "cell_type": "code",
   "execution_count": 352,
   "metadata": {},
   "outputs": [],
   "source": [
    "def maxsum(nums):\n",
    "    \"\"\"\n",
    "    max sum of subarrays of nums DP\n",
    "    \"\"\"\n",
    "    # dp: the max sum when take nums[i] as the last number\n",
    "    if len(nums) == 0: return None\n",
    "    dp = [None] * len(nums)\n",
    "    dp[0] = nums[0]\n",
    "    for i in range(1, len(nums)):\n",
    "        if dp[i-1] > 0:\n",
    "            dp[i] = dp[i-1]+nums[i]\n",
    "        else:\n",
    "            dp[i] = nums[i]\n",
    "    return max(dp)\n",
    "#     return dp"
   ]
  },
  {
   "cell_type": "code",
   "execution_count": 342,
   "metadata": {},
   "outputs": [],
   "source": [
    "def maxsum(nums):\n",
    "    \"\"\"\n",
    "    max sum of subarrays of nums DP\n",
    "    \"\"\"\n",
    "    # dp: the max sum when take nums[i] as the last number\n",
    "    if len(nums) == 0: return None\n",
    "    dp = [None] * len(nums)\n",
    "    dp[0] = nums[0]\n",
    "    for i in range(1, len(nums)):\n",
    "        dp[i] = max(dp[i-1]+nums[i], nums[i])\n",
    "    return max(dp)\n",
    "#     return dp"
   ]
  },
  {
   "cell_type": "code",
   "execution_count": 351,
   "metadata": {},
   "outputs": [
    {
     "data": {
      "text/plain": [
       "[6, 3, 1, 8, -7, 1, 3, 5]"
      ]
     },
     "execution_count": 351,
     "metadata": {},
     "output_type": "execute_result"
    }
   ],
   "source": [
    "maxsum(nums)"
   ]
  },
  {
   "cell_type": "code",
   "execution_count": 344,
   "metadata": {},
   "outputs": [
    {
     "data": {
      "text/plain": [
       "30"
      ]
     },
     "execution_count": 344,
     "metadata": {},
     "output_type": "execute_result"
    }
   ],
   "source": [
    "maxsum([1, -20, 3, -3, 10, 20, -20])"
   ]
  },
  {
   "cell_type": "code",
   "execution_count": 428,
   "metadata": {},
   "outputs": [
    {
     "name": "stdout",
     "output_type": "stream",
     "text": [
      "1.56 µs ± 53.1 ns per loop (mean ± std. dev. of 7 runs, 1000000 loops each)\n"
     ]
    }
   ],
   "source": [
    "%timeit maxsum(nums)"
   ]
  },
  {
   "cell_type": "code",
   "execution_count": 429,
   "metadata": {},
   "outputs": [
    {
     "name": "stdout",
     "output_type": "stream",
     "text": [
      "4.18 µs ± 145 ns per loop (mean ± std. dev. of 7 runs, 100000 loops each)\n"
     ]
    }
   ],
   "source": [
    "%timeit maxsum_re(nums)"
   ]
  },
  {
   "cell_type": "markdown",
   "metadata": {},
   "source": [
    "Covering matrix\n",
    "\n",
    "题目描述：\n",
    " \n",
    "用2 * 1 的小矩形覆盖更大的矩形，用n个2*1的小矩形去覆盖2*n的大矩形， 一共有多少种方法。\n",
    "\n",
    "解题思路：\n",
    "\n",
    "2 * n的大矩形，和n个 2 *1的小矩形\n",
    "\n",
    "其中2*target为大矩阵的大小，target也是小矩形的个数。\n",
    "\n",
    "有以下几种情形：\n",
    "\n",
    "target <= 0 大矩形为2*0,直接return 1；\n",
    "target = 1大矩形为2*1，只有一种摆放方法，return1；\n",
    "target = 2 大矩形为2*2，有两种摆放方法，return2；\n",
    "target = n 分为两步考虑：\n",
    "\n",
    "我们假设target=8，把2*8的覆盖方法记为f(8)。用第一个1*2小矩阵去覆盖大矩阵的最左边时有两个选择，竖着放或者横着放。当竖着放的时候，右边还剩下2*7的区域，这种情形下的覆盖方法记为f(7)。接下来考虑横着放的情况。当1*2的小矩阵横着放在左上角的时候，左下角也必须横着放一个1*2的小矩形，而在右边还剩下2*6的区域，这种情形下的覆盖方法记为f(6)，因此f(8)=f(7)+f(6)。此时我们可以看出，这仍然是斐波那契数列。"
   ]
  },
  {
   "cell_type": "code",
   "execution_count": 430,
   "metadata": {},
   "outputs": [],
   "source": [
    "# cant dislocating 2 rectangles for which wont end up with a a big rectangle.\n",
    "# f(2 * n) can be derived from f(2 * (n-1)) or f(2 * (n-2))"
   ]
  },
  {
   "cell_type": "code",
   "execution_count": 431,
   "metadata": {},
   "outputs": [],
   "source": [
    "def CM_re(n):\n",
    "    \"\"\"\n",
    "    Covering Matrix recursively, n: target length\n",
    "    \"\"\"\n",
    "    if n <= 1: return 1\n",
    "    return CM_re(n-1) + CM_re(n-2)"
   ]
  },
  {
   "cell_type": "code",
   "execution_count": 437,
   "metadata": {},
   "outputs": [
    {
     "data": {
      "text/plain": [
       "55"
      ]
     },
     "execution_count": 437,
     "metadata": {},
     "output_type": "execute_result"
    }
   ],
   "source": [
    "CM_re(9)"
   ]
  },
  {
   "cell_type": "code",
   "execution_count": 444,
   "metadata": {},
   "outputs": [],
   "source": [
    "def CM_memo(n):\n",
    "    \"\"\"\n",
    "    Covering Matrix memo\n",
    "    \"\"\"\n",
    "    if n <= 1: return 1\n",
    "    rec = {}\n",
    "    def recur(n, rec):\n",
    "        if n <= 1:\n",
    "            rec[n] = 1\n",
    "            return rec[n]\n",
    "        if n in rec:\n",
    "            return rec[n]\n",
    "        rec[n] = recur(n-1, rec) + recur(n-2, rec)\n",
    "        return rec[n]\n",
    "    \n",
    "    return recur(n, rec)"
   ]
  },
  {
   "cell_type": "code",
   "execution_count": 445,
   "metadata": {},
   "outputs": [
    {
     "data": {
      "text/plain": [
       "55"
      ]
     },
     "execution_count": 445,
     "metadata": {},
     "output_type": "execute_result"
    }
   ],
   "source": [
    "CM_memo(9)"
   ]
  },
  {
   "cell_type": "code",
   "execution_count": 463,
   "metadata": {},
   "outputs": [
    {
     "data": {
      "text/plain": [
       "3"
      ]
     },
     "execution_count": 463,
     "metadata": {},
     "output_type": "execute_result"
    }
   ],
   "source": [
    "CM_dp(3)"
   ]
  },
  {
   "cell_type": "code",
   "execution_count": 464,
   "metadata": {},
   "outputs": [],
   "source": [
    "def CM_dp(n):\n",
    "    \"\"\"\n",
    "    Covering Matrix DP\n",
    "    \"\"\"\n",
    "    if n <= 0: return 0\n",
    "    if n == 1: return 1\n",
    "    dp0, dp1 = 1, 1\n",
    "    for i in range(n-2+1):\n",
    "        dp0, dp1 = dp1, dp0 + dp1\n",
    "    return dp1"
   ]
  },
  {
   "cell_type": "code",
   "execution_count": 465,
   "metadata": {},
   "outputs": [
    {
     "data": {
      "text/plain": [
       "55"
      ]
     },
     "execution_count": 465,
     "metadata": {},
     "output_type": "execute_result"
    }
   ],
   "source": [
    "CM_dp(9)"
   ]
  },
  {
   "cell_type": "markdown",
   "metadata": {},
   "source": [
    "题目描述：\n",
    "问题：0-1背包问题\n",
    "\n",
    "描述：有一个背包，它的容量为C（Capacity），现在有n种不同的物品编号分别为0...n-1，其中每一件物品的重量为w(i)，价值为v(i)。问可以向这个背包中盛放哪些物品，使得在不超过背包容量的基础上，物品的总价值最大。\n",
    "\n",
    "解题思路：\n",
    "（1）暴力解法：\n",
    "每一件物品都可以放进背包，也可以不放进背包，有种情况。我们再从这种情形中选出总价值最大的物品，时间复杂度为O()。\n",
    "\n",
    "（2）贪心算法解法：\n",
    "贪心算法：用物品的价值除以重量得到单位物品的价值。贪心算法就是优先放入平均价值最高的物品。\n",
    "\n",
    "第0件物品的单位价值为6，第1件物品的单位价值为5，第2件物品的单位价值为4。我们首先放单位价值最高的物品0号，它的重量是1。接着放入单位价值次大的物品1号，它的重量是2,。背包中还能容下2个重量，由于编号为2的物品重量是3，所以不能放入到背包中。所以贪心算法得到的背包中最多能容纳16价值的物品。"
   ]
  },
  {
   "cell_type": "code",
   "execution_count": 466,
   "metadata": {},
   "outputs": [],
   "source": [
    "# Recursion\n",
    "w = [1, 2, 3]\n",
    "v = [6, 10, 12]\n",
    "C = 5"
   ]
  },
  {
   "cell_type": "code",
   "execution_count": 528,
   "metadata": {},
   "outputs": [],
   "source": [
    "# Brute force\n",
    "def bag_bf(C, w, v):\n",
    "    \"\"\"\n",
    "    bag brute force\n",
    "    \"\"\"\n",
    "    n = len(w)\n",
    "    max_ = -float('inf')\n",
    "    for i in range(n):\n",
    "        for j in range(i+1, n):\n",
    "            if w[i] + w[j] <= C:\n",
    "                max_ = max(max_, v[i]+v[j])\n",
    "    return max_"
   ]
  },
  {
   "cell_type": "code",
   "execution_count": 531,
   "metadata": {},
   "outputs": [
    {
     "data": {
      "text/plain": [
       "16"
      ]
     },
     "execution_count": 531,
     "metadata": {},
     "output_type": "execute_result"
    }
   ],
   "source": [
    "bag_bf(C, w, v)"
   ]
  },
  {
   "cell_type": "code",
   "execution_count": 575,
   "metadata": {},
   "outputs": [],
   "source": [
    "# if:\n",
    "# 1. we can choose w[i]\n",
    "# max would be max among choosing or not choosing it\n",
    "# 2. if we cannot choose:\n",
    "# would be not choosing it"
   ]
  },
  {
   "cell_type": "code",
   "execution_count": 557,
   "metadata": {},
   "outputs": [],
   "source": [
    "# Recursion\n",
    "def bag_recur(C, w, v):\n",
    "    \"\"\"\n",
    "    bag recursion\n",
    "    \"\"\"\n",
    "    if C <= 0 or len(w)==0: return 0\n",
    "    if C >= w[-1]:\n",
    "        res = max(bag_recur(C - w[-1], w[:-1], v[:-1]) + v[-1], bag_recur(C, w[:-1], v[:-1]))\n",
    "    else:\n",
    "        res = bag_recur(C, w[:-1], v[:-1])\n",
    "    return res"
   ]
  },
  {
   "cell_type": "code",
   "execution_count": 569,
   "metadata": {},
   "outputs": [],
   "source": [
    "# Recursion\n",
    "def bag_recur(C, w, v):\n",
    "    \"\"\"\n",
    "    bag recursion\n",
    "    \"\"\"\n",
    "    if C <= 0 or len(w)==0: return 0\n",
    "    if C >= w[-1]:\n",
    "        return max(bag_recur(C - w[-1], w[:-1], v[:-1]) + v[-1], bag_recur(C, w[:-1], v[:-1]))\n",
    "    return bag_recur(C, w[:-1], v[:-1])"
   ]
  },
  {
   "cell_type": "code",
   "execution_count": 589,
   "metadata": {},
   "outputs": [
    {
     "data": {
      "text/plain": [
       "22"
      ]
     },
     "execution_count": 589,
     "metadata": {},
     "output_type": "execute_result"
    }
   ],
   "source": [
    "bag_recur(C, w, v)"
   ]
  },
  {
   "cell_type": "code",
   "execution_count": 596,
   "metadata": {},
   "outputs": [],
   "source": [
    "# Memo\n",
    "def bag_memo(C, w, v):\n",
    "    \"\"\"\n",
    "    bag memo\n",
    "    \"\"\"\n",
    "    memo = [[None for i in range(C+1)] for _ in range(len(w))]\n",
    "    \n",
    "    def recur(C, w, v, memo):\n",
    "        if C <= 0 or len(w)==0: return 0\n",
    "        if memo[len(w)-1][C] is not None:\n",
    "            return memo[len(w)-1][C]\n",
    "        \n",
    "        if C >= w[-1]:\n",
    "            res = max(recur(C - w[-1], w[:-1], v[:-1], memo) + v[-1], recur(C, w[:-1], v[:-1], memo))\n",
    "        else:\n",
    "            res = recur(C, w[:-1], v[:-1], memo)\n",
    "        memo[len(w)-1][C] = res\n",
    "        return res\n",
    "    return recur(C, w, v, memo)"
   ]
  },
  {
   "cell_type": "code",
   "execution_count": 580,
   "metadata": {},
   "outputs": [
    {
     "name": "stdout",
     "output_type": "stream",
     "text": [
      "22\n"
     ]
    }
   ],
   "source": [
    "class Solution:\n",
    " \n",
    "    def __init__(self):\n",
    "        self.memo = []\n",
    " \n",
    "    def knapsack01(self, w, v, C):\n",
    "        self.memo = [ [-1 for i in range(C+1)] for _ in range(len(w))]\n",
    "        return self.bestValue(w, v, len(w)-1, C)\n",
    " \n",
    "    def bestValue(self, w, v, index, C):\n",
    " \n",
    "        if index < 0 or C <= 0:\n",
    "            return 0\n",
    " \n",
    "        if self.memo[index][C] != -1:\n",
    "            return self.memo[index][C]\n",
    " \n",
    "        res = self.bestValue(w, v, index - 1, C)\n",
    " \n",
    "        if C >= w[index]:\n",
    "            res = max(res, v[index] + self.bestValue(w, v, index - 1, C - w[index]))\n",
    " \n",
    "        self.memo[index][C] = res\n",
    " \n",
    "        return self.memo[index][C]\n",
    " \n",
    "solution = Solution()\n",
    "w = [1, 2, 3]\n",
    "v = [6, 10, 12]\n",
    "print(solution.knapsack01(w, v, 5))"
   ]
  },
  {
   "cell_type": "code",
   "execution_count": 578,
   "metadata": {},
   "outputs": [
    {
     "name": "stdout",
     "output_type": "stream",
     "text": [
      "22\n"
     ]
    }
   ],
   "source": [
    "class Solution:\n",
    " \n",
    "    def knapsack01(self, w, v, C):\n",
    "        memo = [ [-1 for i in range(C+1)] for _ in range(len(w))]\n",
    " \n",
    "        def bestValue(w, v, index, C):\n",
    " \n",
    "            if index < 0 or C <= 0:\n",
    "                return 0\n",
    " \n",
    "            if memo[index][C] != -1:\n",
    "                return memo[index][C]\n",
    " \n",
    "            res = bestValue(w, v, index - 1, C)\n",
    " \n",
    "            if C >= w[index]:\n",
    "                res = max(res, v[index] + bestValue(w, v, index - 1, C - w[index]))\n",
    " \n",
    "            memo[index][C] = res\n",
    " \n",
    "            return memo[index][C]\n",
    " \n",
    "        return bestValue(w, v, len(w)-1, C)\n",
    "\n",
    "solution = Solution()\n",
    "w = [1, 2, 3]\n",
    "v = [6, 10, 12]\n",
    "print(solution.knapsack01(w, v, 5))"
   ]
  },
  {
   "cell_type": "code",
   "execution_count": 518,
   "metadata": {},
   "outputs": [],
   "source": [
    "# DP\n",
    "def bag_dp(C, w, v):\n",
    "    \"\"\"\n",
    "    bag DP\n",
    "    \"\"\"\n",
    "    # dp[i][j] means the max gain for the first i items with max capacity j.\n",
    "    dp = [[None for _ in range(C+1)] for _ in range(len(w)+1)]\n",
    "    for i in range(len(w)+1):\n",
    "        dp[i][0] = 0\n",
    "    for j in range(C+1):\n",
    "        dp[0][j] = 0\n",
    "    for i in range(1, len(w)+1):\n",
    "        for j in range(1, C+1):\n",
    "            if w[i-1] <= j:\n",
    "                dp[i][j] = max(dp[i-1][j], dp[i-1][j-w[i-1]]+v[i-1])\n",
    "            else:\n",
    "                dp[i][j] = dp[i-1][j]\n",
    "    return dp[-1][-1]"
   ]
  },
  {
   "cell_type": "code",
   "execution_count": 532,
   "metadata": {
    "scrolled": true
   },
   "outputs": [
    {
     "data": {
      "text/plain": [
       "16"
      ]
     },
     "execution_count": 532,
     "metadata": {},
     "output_type": "execute_result"
    }
   ],
   "source": [
    "bag_dp(C, w, v)"
   ]
  },
  {
   "cell_type": "markdown",
   "metadata": {},
   "source": [
    "416. Partition Equal Subset Sum\n",
    "Description：\n",
    "\n",
    "Given a non-empty array containing only positive integers, find if the array can be partitioned into two subsets such that the sum of elements in both subsets is equal.\n",
    "\n",
    "Note:\n",
    "\n",
    "Each of the array element will not exceed 100.\n",
    "The array size will not exceed 200.\n",
    "\n",
    "Example 1:\n",
    "\n",
    " Input: [1, 5, 11, 5]\n",
    " \n",
    "Output: true\n",
    " \n",
    "Explanation: The array can be partitioned as [1, 5, 5] and [11].\n",
    "\n",
    "Example 2:\n",
    "\n",
    " Input: [1, 2, 3, 5]\n",
    " \n",
    "Output: false\n",
    " \n",
    "Explanation: The array cannot be partitioned into equal sum subsets.\n",
    "\n",
    "F(i, C) = F(i-1, C) || F(i-1, C-w(i))"
   ]
  },
  {
   "cell_type": "code",
   "execution_count": 6,
   "metadata": {},
   "outputs": [
    {
     "data": {
      "text/plain": [
       "5.0"
      ]
     },
     "execution_count": 6,
     "metadata": {},
     "output_type": "execute_result"
    }
   ],
   "source": [
    "(sum([1, 2, 3, 4])/2)"
   ]
  },
  {
   "cell_type": "code",
   "execution_count": 94,
   "metadata": {},
   "outputs": [],
   "source": [
    "def ESP(nums):\n",
    "    \"\"\"\n",
    "    equal subset partition\n",
    "    \"\"\"\n",
    "    sum_ = sum(nums)\n",
    "    if sum_%2 != 0:\n",
    "        return False\n",
    "    else:\n",
    "        half_sum = int(sum_/2)\n",
    "    n = len(nums)\n",
    "#     dp[i][j] means possibility for getting a sum of j for using the first i-th elements of nums\n",
    "    dp = [[None for _ in range(half_sum+1)] for _ in range(n)]\n",
    "    for i in range(n):\n",
    "        dp[i][0] = True\n",
    "        dp[i][1] = (nums[i] == 0)\n",
    "    for j in range(1, half_sum+1):\n",
    "        dp[0][j] = (j == nums[0])\n",
    "    for i in range(1, n):\n",
    "        for j in range(1, half_sum+1):\n",
    "            if j >= nums[i]:\n",
    "                dp[i][j] = (dp[i-1][j] or dp[i-1][j-nums[i]])\n",
    "            else:\n",
    "                dp[i][j] = dp[i-1][j]\n",
    "                \n",
    "    return dp"
   ]
  },
  {
   "cell_type": "code",
   "execution_count": 15,
   "metadata": {},
   "outputs": [
    {
     "data": {
      "text/plain": [
       "11"
      ]
     },
     "execution_count": 15,
     "metadata": {},
     "output_type": "execute_result"
    }
   ],
   "source": [
    "sum([1, 5, 11, 5])//2"
   ]
  },
  {
   "cell_type": "code",
   "execution_count": 98,
   "metadata": {},
   "outputs": [],
   "source": [
    "nums = [1, 5, 11, 5]\n",
    "nums = [1, 3, 3, 7]\n",
    "nums = [1, 3, 1, 7]"
   ]
  },
  {
   "cell_type": "code",
   "execution_count": 99,
   "metadata": {},
   "outputs": [
    {
     "data": {
      "text/plain": [
       "[[True, True, False, False, False, False, False],\n",
       " [True, True, False, True, True, False, False],\n",
       " [True, True, True, True, True, True, False],\n",
       " [True, True, True, True, True, True, False]]"
      ]
     },
     "execution_count": 99,
     "metadata": {},
     "output_type": "execute_result"
    }
   ],
   "source": [
    "ESP(nums)"
   ]
  },
  {
   "cell_type": "code",
   "execution_count": 81,
   "metadata": {},
   "outputs": [
    {
     "name": "stdout",
     "output_type": "stream",
     "text": [
      "[False, True, False, False, True, False, False, True]\n"
     ]
    }
   ],
   "source": [
    "print(solution.canPartition(nums))"
   ]
  },
  {
   "cell_type": "code",
   "execution_count": 34,
   "metadata": {},
   "outputs": [
    {
     "name": "stdout",
     "output_type": "stream",
     "text": [
      "[False, True, False, False, False, False, True, False, False, False, False, True]\n"
     ]
    }
   ],
   "source": [
    "\n",
    "class Solution:\n",
    " \n",
    "    def canPartition(self, nums):\n",
    "        \"\"\"\n",
    "        :type nums: List[int]\n",
    "        :rtype: bool\n",
    "        \"\"\"\n",
    "        num_sum = 0\n",
    "        for i in range(len(nums)):\n",
    "            num_sum += nums[i]\n",
    " \n",
    "        if num_sum % 2 != 0:\n",
    "            return False\n",
    " \n",
    "        n = len(nums)\n",
    "        C = int(num_sum / 2)\n",
    "        memo = [False] * (C + 1)\n",
    " \n",
    "        for i in range(C + 1):\n",
    "            memo[i] = (nums[0] == i)\n",
    " \n",
    "        for i in range(1, n):\n",
    "            for j in range(C, nums[i], -1):\n",
    "                memo[j] = memo[j] or memo[j - nums[i]]\n",
    " \n",
    "        return memo[C]\n",
    " \n",
    "solution = Solution()\n",
    "# test1\n",
    "nums = [1, 5, 11, 5]\n",
    "# test2\n",
    "# nums = [1, 2, 3, 5]\n",
    "# test3\n",
    "# nums = [1, 2, 5]\n",
    "print(solution.canPartition(nums))"
   ]
  },
  {
   "cell_type": "markdown",
   "metadata": {},
   "source": [
    "# 322 coin change\n",
    "\n",
    "You are given coins of different denominations and a total amount of money amount. Write a function to compute the fewest number of coins that you need to make up that amount. If that amount of money cannot be made up by any combination of the coins, return -1.\n",
    "\n",
    "Example 1:\n",
    "\n",
    "Input: coins = [1, 2, 5], amount = 11\n",
    "\n",
    "Output: 3 \n",
    "\n",
    "Explanation: 11 = 5 + 5 + 1\n",
    "\n",
    "Example 2:\n",
    "\n",
    "Input: coins = [2], amount = 3\n",
    "\n",
    "Output: -1\n",
    "\n",
    "Note:\n",
    "\n",
    "You may assume that you have an infinite number of each kind of coin."
   ]
  },
  {
   "cell_type": "code",
   "execution_count": 119,
   "metadata": {},
   "outputs": [],
   "source": [
    "def CC_dp(coins, amount):\n",
    "    \"\"\"\n",
    "    coin change DP\n",
    "    \"\"\"\n",
    "    dp = [float('inf')] * (amount+1)\n",
    "    dp[0] = 0\n",
    "    for i in range(1, amount+1):\n",
    "        for coin in coins:\n",
    "            if coin <= i:\n",
    "                dp[i] = min(dp[i], dp[i-coin]+1)\n",
    "#                 print(dp)\n",
    "    res = dp[-1]\n",
    "    if res == float('inf'):\n",
    "        return -1\n",
    "    return res"
   ]
  },
  {
   "cell_type": "code",
   "execution_count": 117,
   "metadata": {},
   "outputs": [],
   "source": [
    "coins = [1, 2, 5]\n",
    "amount = 11"
   ]
  },
  {
   "cell_type": "code",
   "execution_count": 120,
   "metadata": {},
   "outputs": [
    {
     "data": {
      "text/plain": [
       "3"
      ]
     },
     "execution_count": 120,
     "metadata": {},
     "output_type": "execute_result"
    }
   ],
   "source": [
    "CC_dp(coins, amount)"
   ]
  },
  {
   "cell_type": "code",
   "execution_count": 147,
   "metadata": {},
   "outputs": [],
   "source": [
    "def CC_recur(coins, amount):\n",
    "    \"\"\"\n",
    "    coin change recursively\n",
    "    \"\"\"\n",
    "    if amount <= 0:\n",
    "        return -1\n",
    "    def recur(coins, amount):\n",
    "        if amount == 0:\n",
    "            return 0\n",
    "        res = float('inf')\n",
    "        for coin in coins:\n",
    "            if coin <= amount:\n",
    "                res = min(res, recur(coins, amount-coin)+1)\n",
    "    #             print(res)\n",
    "        return res\n",
    "    \n",
    "    R = recur(coins, amount)\n",
    "    if R == float('inf'):\n",
    "        return -1\n",
    "    return R"
   ]
  },
  {
   "cell_type": "code",
   "execution_count": 152,
   "metadata": {},
   "outputs": [
    {
     "data": {
      "text/plain": [
       "3"
      ]
     },
     "execution_count": 152,
     "metadata": {},
     "output_type": "execute_result"
    }
   ],
   "source": [
    "CC_recur([1, 2, 5], amount)"
   ]
  },
  {
   "cell_type": "code",
   "execution_count": 164,
   "metadata": {},
   "outputs": [],
   "source": [
    "def CC_memo(coins, amount):\n",
    "    \"\"\"\n",
    "    coin change memo\n",
    "    \"\"\"\n",
    "    if amount <= 0:\n",
    "        return -1\n",
    "    \n",
    "    rec = {}\n",
    "    def recur(coins, amount, rec):\n",
    "        if amount == 0:\n",
    "            return 0\n",
    "        \n",
    "        if amount in rec:\n",
    "            return rec[amount]\n",
    "        \n",
    "        res = float('inf')\n",
    "        for coin in coins:\n",
    "            if coin <= amount:\n",
    "                res = min(res, recur(coins, amount-coin, rec)+1)\n",
    "    #             print(res)\n",
    "        rec[amount] = res\n",
    "        return rec[amount]\n",
    "    \n",
    "    R = recur(coins, amount, rec)\n",
    "    if R == float('inf'):\n",
    "        return -1\n",
    "    return R"
   ]
  },
  {
   "cell_type": "code",
   "execution_count": 170,
   "metadata": {},
   "outputs": [
    {
     "data": {
      "text/plain": [
       "3"
      ]
     },
     "execution_count": 170,
     "metadata": {},
     "output_type": "execute_result"
    }
   ],
   "source": [
    "CC_memo([1, 2, 5], amount)"
   ]
  },
  {
   "cell_type": "code",
   "execution_count": 161,
   "metadata": {},
   "outputs": [
    {
     "name": "stdout",
     "output_type": "stream",
     "text": [
      "8.2 µs ± 177 ns per loop (mean ± std. dev. of 7 runs, 100000 loops each)\n"
     ]
    }
   ],
   "source": [
    "%timeit CC_dp([1, 2 ,5], amount)"
   ]
  },
  {
   "cell_type": "code",
   "execution_count": 160,
   "metadata": {},
   "outputs": [
    {
     "name": "stdout",
     "output_type": "stream",
     "text": [
      "202 µs ± 11.4 µs per loop (mean ± std. dev. of 7 runs, 1000 loops each)\n"
     ]
    }
   ],
   "source": [
    "%timeit CC_recur([1, 2 ,5], amount)"
   ]
  },
  {
   "cell_type": "code",
   "execution_count": 169,
   "metadata": {},
   "outputs": [
    {
     "name": "stdout",
     "output_type": "stream",
     "text": [
      "11.4 µs ± 297 ns per loop (mean ± std. dev. of 7 runs, 100000 loops each)\n"
     ]
    }
   ],
   "source": [
    "%timeit CC_memo([1, 2 ,5], amount)"
   ]
  },
  {
   "cell_type": "markdown",
   "metadata": {},
   "source": [
    "# 377. Combination Sum IV\n",
    "\n",
    "Given an integer array with all positive numbers and no duplicates, find the number of possible combinations that add up to a positive integer target.\n",
    "\n",
    "Example:\n",
    "\n",
    "nums = [1, 2, 3]\n",
    "target = 4\n",
    "\n",
    "The possible combination ways are:\n",
    "```\n",
    "(1, 1, 1, 1)\n",
    "(1, 1, 2)\n",
    "(1, 2, 1)\n",
    "(1, 3)\n",
    "(2, 1, 1)\n",
    "(2, 2)\n",
    "(3, 1)\n",
    "```\n",
    "Note that different sequences are counted as different combinations.\n",
    "\n",
    "Therefore the output is 7.\n",
    " \n",
    "\n",
    "Follow up:\n",
    "\n",
    "What if negative numbers are allowed in the given array?\n",
    "How does it change the problem?\n",
    "What limitation we need to add to the question to allow negative numbers?"
   ]
  },
  {
   "cell_type": "code",
   "execution_count": 16,
   "metadata": {},
   "outputs": [],
   "source": [
    "nums = [1, 2, 3]\n",
    "target = 4"
   ]
  },
  {
   "cell_type": "code",
   "execution_count": 14,
   "metadata": {},
   "outputs": [],
   "source": [
    "def CS4_dp(nums, target):\n",
    "    \"\"\"\n",
    "    combination sum 4 DP\n",
    "    \"\"\"\n",
    "    dp = [0] * (target + 1)\n",
    "    dp[0] = 1\n",
    "    for i in range(1, target+1):\n",
    "        for num in nums:\n",
    "            if num <= i:\n",
    "                dp[i] += dp[i-num]\n",
    "    return dp[-1]"
   ]
  },
  {
   "cell_type": "code",
   "execution_count": 17,
   "metadata": {},
   "outputs": [
    {
     "data": {
      "text/plain": [
       "7"
      ]
     },
     "execution_count": 17,
     "metadata": {},
     "output_type": "execute_result"
    }
   ],
   "source": [
    "CS4_dp(nums, target)"
   ]
  },
  {
   "cell_type": "code",
   "execution_count": 8,
   "metadata": {},
   "outputs": [],
   "source": [
    "def CS4_recur(nums, target):\n",
    "    \"\"\"\n",
    "    combination sum recursively\n",
    "    \"\"\"\n",
    "    \n",
    "    def recur(nums, target):\n",
    "        if target == 0:\n",
    "            return 1\n",
    "        res = 0\n",
    "        for num in nums:\n",
    "            if num <= target:\n",
    "                res += recur(nums, target-num)\n",
    "        return res\n",
    "    \n",
    "    return recur(nums, target)"
   ]
  },
  {
   "cell_type": "code",
   "execution_count": 18,
   "metadata": {},
   "outputs": [
    {
     "data": {
      "text/plain": [
       "7"
      ]
     },
     "execution_count": 18,
     "metadata": {},
     "output_type": "execute_result"
    }
   ],
   "source": [
    "CS4_recur(nums, target)"
   ]
  },
  {
   "cell_type": "code",
   "execution_count": 19,
   "metadata": {},
   "outputs": [],
   "source": [
    "def CS4_memo(nums, target):\n",
    "    \"\"\"\n",
    "    combination sum memo\n",
    "    \"\"\"\n",
    "    rec = {}\n",
    "    def recur(nums, target, rec):\n",
    "        if target == 0:\n",
    "            return 1\n",
    "        if target in rec:\n",
    "            return rec[target]\n",
    "\n",
    "        res = 0\n",
    "        for num in nums:\n",
    "            if num <= target:\n",
    "                res += recur(nums, target-num, rec)\n",
    "        rec[target] = res\n",
    "        return res\n",
    "    \n",
    "    return recur(nums, target, rec)"
   ]
  },
  {
   "cell_type": "code",
   "execution_count": 20,
   "metadata": {},
   "outputs": [
    {
     "data": {
      "text/plain": [
       "7"
      ]
     },
     "execution_count": 20,
     "metadata": {},
     "output_type": "execute_result"
    }
   ],
   "source": [
    "CS4_memo(nums, target)"
   ]
  },
  {
   "cell_type": "markdown",
   "metadata": {},
   "source": [
    "# 474. Ones and Zeroes\n",
    "\n",
    "In the computer world, use restricted resource you have to generate maximum benefit is what we always want to pursue.\n",
    "\n",
    "For now, suppose you are a dominator of m 0s and n 1s respectively. On the other hand, there is an array with strings consisting of only 0s and 1s.\n",
    "\n",
    "Now your task is to find the maximum number of strings that you can form with given m 0s and n 1s. Each 0 and 1 can be used at most once.\n",
    "\n",
    "Note:\n",
    "\n",
    "The given numbers of 0s and 1s will both not exceed 100\n",
    "\n",
    "The size of given string array won't exceed 600.\n",
    " \n",
    "\n",
    "Example 1:\n",
    "\n",
    "Input: Array = {\"10\", \"0001\", \"111001\", \"1\", \"0\"}, m = 5, n = 3\n",
    "Output: 4\n",
    "\n",
    "Explanation: This are totally 4 strings can be formed by the using of 5 0s and 3 1s, which are “10,”0001”,”1”,”0”\n",
    " \n",
    "\n",
    "Example 2:\n",
    "\n",
    "Input: Array = {\"10\", \"0\", \"1\"}, m = 1, n = 1\n",
    "Output: 2\n",
    "\n",
    "Explanation: You could form \"10\", but then you'd have nothing left. Better form \"0\" and \"1\".\n",
    " "
   ]
  },
  {
   "cell_type": "code",
   "execution_count": 22,
   "metadata": {},
   "outputs": [],
   "source": [
    "strs = [\"10\", \"0001\", \"111001\", \"1\", \"0\"]\n",
    "m = 5\n",
    "n = 3"
   ]
  },
  {
   "cell_type": "code",
   "execution_count": 127,
   "metadata": {},
   "outputs": [],
   "source": [
    "def OZ(strs, m, n):\n",
    "    \"\"\"\n",
    "    ones and zeros\n",
    "    \"\"\"\n",
    "    def count_01(str_):\n",
    "        m, n = 0, 0\n",
    "        for s in str_:\n",
    "            if s == '0':\n",
    "                m += 1\n",
    "            elif s == '1':\n",
    "                n += 1\n",
    "        return m, n\n",
    "    \n",
    "    dp = [[[0 for _ in range(n+1)] for _ in range(m+1)] for _ in range(len(strs)+1)]\n",
    "    for t in range(1, len(strs)+1):\n",
    "        mt, nt = count_01(strs[t-1])\n",
    "        for i in range(m+1):\n",
    "            for j in range(n+1):\n",
    "                if mt <= i and nt <= j:\n",
    "#                     print(t, mt, nt, i, j)\n",
    "                    dp[t][i][j] = max(dp[t-1][i-mt][j-nt]+1, dp[t-1][i][j])\n",
    "                else:\n",
    "                    dp[t][i][j] = dp[t-1][i][j]\n",
    "    return dp[-1][-1][-1]"
   ]
  },
  {
   "cell_type": "code",
   "execution_count": 169,
   "metadata": {},
   "outputs": [],
   "source": [
    "def OZ(strs, m, n):\n",
    "    \"\"\"\n",
    "    ones and zeros\n",
    "    \"\"\"\n",
    "    dp = [[0 for _ in range(n+1)] for _ in range(m+1)]\n",
    "    for str_ in strs:\n",
    "        mt, nt = str_.count('0'), str_.count('1')\n",
    "        for i in reversed(range(mt, m+1)):\n",
    "            for j in reversed(range(nt, n+1)):\n",
    "                # we are actually using the last round dp[t-1] to calculate dp[t]\n",
    "                # in reversed order, to make sure dp[i][j] are from round dp[t-1]\n",
    "                # when doing calculation in round dp[t]\n",
    "                dp[i][j] = max(dp[i-mt][j-nt]+1, dp[i][j])\n",
    "    return dp[-1][-1]"
   ]
  },
  {
   "cell_type": "code",
   "execution_count": 167,
   "metadata": {
    "scrolled": true
   },
   "outputs": [
    {
     "data": {
      "text/plain": [
       "4"
      ]
     },
     "execution_count": 167,
     "metadata": {},
     "output_type": "execute_result"
    }
   ],
   "source": [
    "OZ(strs, m, n)"
   ]
  },
  {
   "cell_type": "code",
   "execution_count": 168,
   "metadata": {},
   "outputs": [
    {
     "data": {
      "text/plain": [
       "2"
      ]
     },
     "execution_count": 168,
     "metadata": {},
     "output_type": "execute_result"
    }
   ],
   "source": [
    "OZ([\"10\", \"0\", \"1\"], 1, 1)"
   ]
  },
  {
   "cell_type": "markdown",
   "metadata": {},
   "source": [
    "# 139. Word Break\n",
    "\n",
    "Given a non-empty string s and a dictionary wordDict containing a list of non-empty words, determine if s can be segmented into a space-separated sequence of one or more dictionary words.\n",
    "\n",
    "Note:\n",
    "\n",
    "The same word in the dictionary may be reused multiple times in the segmentation.\n",
    "You may assume the dictionary does not contain duplicate words.\n",
    "\n",
    "Example 1:\n",
    "\n",
    "Input: s = \"leetcode\", wordDict = [\"leet\", \"code\"]\n",
    "\n",
    "Output: true\n",
    "\n",
    "Explanation: Return true because \"leetcode\" can be segmented as \"leet code\".\n",
    "\n",
    "Example 2:\n",
    "\n",
    "Input: s = \"applepenapple\", wordDict = [\"apple\", \"pen\"]\n",
    "\n",
    "Output: true\n",
    "\n",
    "Explanation: Return true because \"applepenapple\" can be segmented as \"apple pen apple\".\n",
    "             Note that you are allowed to reuse a dictionary word.\n",
    "\n",
    "Example 3:\n",
    "\n",
    "Input: s = \"catsandog\", wordDict = [\"cats\", \"dog\", \"sand\", \"and\", \"cat\"]\n",
    "\n",
    "Output: false"
   ]
  },
  {
   "cell_type": "code",
   "execution_count": 191,
   "metadata": {},
   "outputs": [],
   "source": [
    "def WB_rec(s, wordDict):\n",
    "    \"\"\"\n",
    "    word break recursively\n",
    "    \"\"\"\n",
    "    \n",
    "    def rec(s, wordDict, start):\n",
    "        \"\"\"\n",
    "        \"\"\"\n",
    "        if start == len(s):\n",
    "            return True\n",
    "        \n",
    "        v = False\n",
    "        for w in wordDict:\n",
    "            if s[start:].startswith(w):\n",
    "                v = v or rec(s, wordDict, start+len(w))\n",
    "        return v\n",
    "    \n",
    "    return rec(s, wordDict, 0)"
   ]
  },
  {
   "cell_type": "code",
   "execution_count": 192,
   "metadata": {},
   "outputs": [],
   "source": [
    "def WB_rec2(s, wordDict):\n",
    "    \"\"\"\n",
    "    word break recursively\n",
    "    \"\"\"\n",
    "    \n",
    "    def rec(s, wordDict):\n",
    "        \"\"\"\n",
    "        \"\"\"\n",
    "        if s == '':\n",
    "            return True\n",
    "        \n",
    "        v = False\n",
    "        for w in wordDict:\n",
    "            if s.startswith(w):\n",
    "                v = v or rec(s[len(w):], wordDict)\n",
    "        return v\n",
    "    \n",
    "    return rec(s, wordDict)"
   ]
  },
  {
   "cell_type": "code",
   "execution_count": 247,
   "metadata": {},
   "outputs": [],
   "source": [
    "s = \"applepenapple\"; wordDict = [\"apple\", \"pen\"]\n",
    "s = \"catsandog\"; wordDict = [\"cats\", \"dog\", \"sand\", \"and\", \"cat\"]"
   ]
  },
  {
   "cell_type": "code",
   "execution_count": 193,
   "metadata": {},
   "outputs": [
    {
     "name": "stdout",
     "output_type": "stream",
     "text": [
      "5.27 µs ± 179 ns per loop (mean ± std. dev. of 7 runs, 100000 loops each)\n"
     ]
    }
   ],
   "source": [
    "%timeit WB_rec(s, wordDict)"
   ]
  },
  {
   "cell_type": "code",
   "execution_count": 194,
   "metadata": {},
   "outputs": [
    {
     "name": "stdout",
     "output_type": "stream",
     "text": [
      "3.75 µs ± 244 ns per loop (mean ± std. dev. of 7 runs, 100000 loops each)\n"
     ]
    }
   ],
   "source": [
    "%timeit WB_rec2(s, wordDict)"
   ]
  },
  {
   "cell_type": "code",
   "execution_count": 198,
   "metadata": {},
   "outputs": [],
   "source": [
    "def WB_memo(s, wordDict):\n",
    "    \"\"\"\n",
    "    word break memo\n",
    "    \"\"\"\n",
    "    \n",
    "    rec = {}\n",
    "    def recur(s, wordDict, start, rec):\n",
    "        if start == len(s):\n",
    "            return True\n",
    "        if start in rec:\n",
    "            return rec[start]\n",
    "        \n",
    "        v = False\n",
    "        for w in wordDict:\n",
    "            if s[start:].startswith(w):\n",
    "                v = v or recur(s, wordDict, start+len(w), rec)\n",
    "                \n",
    "        rec[start] = v\n",
    "        return v\n",
    "    \n",
    "    return recur(s, wordDict, 0, rec)"
   ]
  },
  {
   "cell_type": "code",
   "execution_count": 200,
   "metadata": {},
   "outputs": [],
   "source": [
    "def WB_memo2(s, wordDict):\n",
    "    \"\"\"\n",
    "    word break memo\n",
    "    \"\"\"\n",
    "    \n",
    "    rec = {}\n",
    "    def recur(s, wordDict, rec):\n",
    "        if s == '':\n",
    "            return True\n",
    "        if s in rec:\n",
    "            return rec[s]\n",
    "        \n",
    "        v = False\n",
    "        for w in wordDict:\n",
    "            if s.startswith(w):\n",
    "                v = v or recur(s[len(w):], wordDict, rec)\n",
    "                \n",
    "        rec[s] = v\n",
    "        return v\n",
    "    \n",
    "    return recur(s, wordDict, rec)"
   ]
  },
  {
   "cell_type": "code",
   "execution_count": 197,
   "metadata": {},
   "outputs": [
    {
     "name": "stdout",
     "output_type": "stream",
     "text": [
      "4.5 µs ± 19.1 ns per loop (mean ± std. dev. of 7 runs, 100000 loops each)\n"
     ]
    }
   ],
   "source": [
    "%timeit WB_memo(s, wordDict)"
   ]
  },
  {
   "cell_type": "code",
   "execution_count": 215,
   "metadata": {},
   "outputs": [
    {
     "name": "stdout",
     "output_type": "stream",
     "text": [
      "3.63 µs ± 127 ns per loop (mean ± std. dev. of 7 runs, 100000 loops each)\n"
     ]
    }
   ],
   "source": [
    "%timeit WB_memo2(s, wordDict)"
   ]
  },
  {
   "cell_type": "code",
   "execution_count": 216,
   "metadata": {},
   "outputs": [],
   "source": [
    "# no speed-up since there is no duplicate computations when recursion"
   ]
  },
  {
   "cell_type": "code",
   "execution_count": 214,
   "metadata": {},
   "outputs": [
    {
     "data": {
      "text/plain": [
       "(False, {7: False, 4: False, 3: False, 0: False})"
      ]
     },
     "execution_count": 214,
     "metadata": {},
     "output_type": "execute_result"
    }
   ],
   "source": [
    "WB_memo(s, wordDict)"
   ]
  },
  {
   "cell_type": "code",
   "execution_count": 213,
   "metadata": {},
   "outputs": [
    {
     "data": {
      "text/plain": [
       "(False, {'og': False, 'andog': False, 'sandog': False, 'catsandog': False})"
      ]
     },
     "execution_count": 213,
     "metadata": {},
     "output_type": "execute_result"
    }
   ],
   "source": [
    "WB_memo2(s, wordDict)"
   ]
  },
  {
   "cell_type": "code",
   "execution_count": 238,
   "metadata": {},
   "outputs": [
    {
     "data": {
      "text/plain": [
       "'1'"
      ]
     },
     "execution_count": 238,
     "metadata": {},
     "output_type": "execute_result"
    }
   ],
   "source": [
    "'1101'[:1]"
   ]
  },
  {
   "cell_type": "code",
   "execution_count": 266,
   "metadata": {},
   "outputs": [
    {
     "data": {
      "text/plain": [
       "('catsandog', ['cats', 'dog', 'sand', 'and', 'cat'])"
      ]
     },
     "execution_count": 266,
     "metadata": {},
     "output_type": "execute_result"
    }
   ],
   "source": [
    "s, wordDict"
   ]
  },
  {
   "cell_type": "code",
   "execution_count": 267,
   "metadata": {},
   "outputs": [],
   "source": [
    "def WB_dp(s, wordDict):\n",
    "    \"\"\"\n",
    "    word break dp\n",
    "    \"\"\"\n",
    "    dp = [False] * (len(s)+1)\n",
    "    dp[0] = True\n",
    "    for i in range(1, len(s)+1):\n",
    "        for w in wordDict:\n",
    "            if s[:i].startswith(w):\n",
    "                dp[i] = dp[i] or dp[i-len(w)]\n",
    "            print(i, dp)\n",
    "    return dp"
   ]
  },
  {
   "cell_type": "code",
   "execution_count": 268,
   "metadata": {},
   "outputs": [
    {
     "name": "stdout",
     "output_type": "stream",
     "text": [
      "1 [True, False, False, False, False, False, False, False, False, False]\n",
      "1 [True, False, False, False, False, False, False, False, False, False]\n",
      "1 [True, False, False, False, False, False, False, False, False, False]\n",
      "1 [True, False, False, False, False, False, False, False, False, False]\n",
      "1 [True, False, False, False, False, False, False, False, False, False]\n",
      "2 [True, False, False, False, False, False, False, False, False, False]\n",
      "2 [True, False, False, False, False, False, False, False, False, False]\n",
      "2 [True, False, False, False, False, False, False, False, False, False]\n",
      "2 [True, False, False, False, False, False, False, False, False, False]\n",
      "2 [True, False, False, False, False, False, False, False, False, False]\n",
      "3 [True, False, False, False, False, False, False, False, False, False]\n",
      "3 [True, False, False, False, False, False, False, False, False, False]\n",
      "3 [True, False, False, False, False, False, False, False, False, False]\n",
      "3 [True, False, False, False, False, False, False, False, False, False]\n",
      "3 [True, False, False, True, False, False, False, False, False, False]\n",
      "4 [True, False, False, True, True, False, False, False, False, False]\n",
      "4 [True, False, False, True, True, False, False, False, False, False]\n",
      "4 [True, False, False, True, True, False, False, False, False, False]\n",
      "4 [True, False, False, True, True, False, False, False, False, False]\n",
      "4 [True, False, False, True, True, False, False, False, False, False]\n",
      "5 [True, False, False, True, True, False, False, False, False, False]\n",
      "5 [True, False, False, True, True, False, False, False, False, False]\n",
      "5 [True, False, False, True, True, False, False, False, False, False]\n",
      "5 [True, False, False, True, True, False, False, False, False, False]\n",
      "5 [True, False, False, True, True, False, False, False, False, False]\n",
      "6 [True, False, False, True, True, False, False, False, False, False]\n",
      "6 [True, False, False, True, True, False, False, False, False, False]\n",
      "6 [True, False, False, True, True, False, False, False, False, False]\n",
      "6 [True, False, False, True, True, False, False, False, False, False]\n",
      "6 [True, False, False, True, True, False, True, False, False, False]\n",
      "7 [True, False, False, True, True, False, True, True, False, False]\n",
      "7 [True, False, False, True, True, False, True, True, False, False]\n",
      "7 [True, False, False, True, True, False, True, True, False, False]\n",
      "7 [True, False, False, True, True, False, True, True, False, False]\n",
      "7 [True, False, False, True, True, False, True, True, False, False]\n",
      "8 [True, False, False, True, True, False, True, True, True, False]\n",
      "8 [True, False, False, True, True, False, True, True, True, False]\n",
      "8 [True, False, False, True, True, False, True, True, True, False]\n",
      "8 [True, False, False, True, True, False, True, True, True, False]\n",
      "8 [True, False, False, True, True, False, True, True, True, False]\n",
      "9 [True, False, False, True, True, False, True, True, True, False]\n",
      "9 [True, False, False, True, True, False, True, True, True, False]\n",
      "9 [True, False, False, True, True, False, True, True, True, False]\n",
      "9 [True, False, False, True, True, False, True, True, True, False]\n",
      "9 [True, False, False, True, True, False, True, True, True, True]\n"
     ]
    },
    {
     "data": {
      "text/plain": [
       "[True, False, False, True, True, False, True, True, True, True]"
      ]
     },
     "execution_count": 268,
     "metadata": {},
     "output_type": "execute_result"
    }
   ],
   "source": [
    "WB_dp(s, wordDict)"
   ]
  },
  {
   "cell_type": "code",
   "execution_count": 265,
   "metadata": {},
   "outputs": [],
   "source": [
    "# We use a list called dp to remember positions that can be cut.\n",
    "# iterating \n",
    "class Solution:\n",
    "    def wordBreak(self, s , wordDict):\n",
    "        dp = [0]\n",
    "        for i in range(len(s)):\n",
    "            for j in dp: \n",
    "                if s[j:i+1] in wordDict: dp += [i+1];break\n",
    "        return dp[-1]==len(s)\n",
    "#         return dp"
   ]
  },
  {
   "cell_type": "code",
   "execution_count": null,
   "metadata": {},
   "outputs": [],
   "source": []
  },
  {
   "cell_type": "markdown",
   "metadata": {},
   "source": [
    "# 494. Target Sum\n",
    "\n",
    "You are given a list of non-negative integers, a1, a2, ..., an, and a target, S. Now you have 2 symbols + and -. For each integer, you should choose one from + and - as its new symbol.\n",
    "\n",
    "Find out how many ways to assign symbols to make sum of integers equal to target S.\n",
    "\n",
    "Example 1:\n",
    "\n",
    "Input: nums is [1, 1, 1, 1, 1], S is 3. \n",
    "\n",
    "Output: 5\n",
    "\n",
    "Explanation: \n",
    "\n",
    "-1+1+1+1+1 = 3\n",
    "+1-1+1+1+1 = 3\n",
    "+1+1-1+1+1 = 3\n",
    "+1+1+1-1+1 = 3\n",
    "+1+1+1+1-1 = 3\n",
    "\n",
    "There are 5 ways to assign symbols to make the sum of nums be target 3.\n",
    "\n",
    "Note:\n",
    "\n",
    "The length of the given array is positive and will not exceed 20.\n",
    "The sum of elements in the given array will not exceed 1000.\n",
    "Your output answer is guaranteed to be fitted in a 32-bit integer.\n"
   ]
  },
  {
   "cell_type": "code",
   "execution_count": 269,
   "metadata": {},
   "outputs": [],
   "source": [
    "nums = [1, 1, 1, 1, 1]; S = 3"
   ]
  },
  {
   "cell_type": "code",
   "execution_count": null,
   "metadata": {},
   "outputs": [],
   "source": [
    "def TS_bf(nums, S):\n",
    "    \"\"\"\n",
    "    target sum brute force\n",
    "    \"\"\"\n",
    "    "
   ]
  },
  {
   "cell_type": "code",
   "execution_count": null,
   "metadata": {},
   "outputs": [],
   "source": [
    "def "
   ]
  },
  {
   "cell_type": "code",
   "execution_count": null,
   "metadata": {},
   "outputs": [],
   "source": []
  },
  {
   "cell_type": "code",
   "execution_count": null,
   "metadata": {},
   "outputs": [],
   "source": []
  },
  {
   "cell_type": "code",
   "execution_count": null,
   "metadata": {},
   "outputs": [],
   "source": []
  }
 ],
 "metadata": {
  "kernelspec": {
   "display_name": "Python 3",
   "language": "python",
   "name": "python3"
  },
  "language_info": {
   "codemirror_mode": {
    "name": "ipython",
    "version": 3
   },
   "file_extension": ".py",
   "mimetype": "text/x-python",
   "name": "python",
   "nbconvert_exporter": "python",
   "pygments_lexer": "ipython3",
   "version": "3.7.3"
  }
 },
 "nbformat": 4,
 "nbformat_minor": 2
}
